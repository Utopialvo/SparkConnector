{
 "cells": [
  {
   "cell_type": "code",
   "execution_count": null,
   "id": "e697844d-0f72-4836-89a1-c90b064d4bbb",
   "metadata": {},
   "outputs": [],
   "source": [
    "import pyspark.sql.functions as F\n",
    "import pyspark.sql.types as T\n",
    "from pyspark.sql import DataFrame\n",
    "from pyspark.sql import Window\n",
    "\n",
    "from sklearn.neighbors import NearestNeighbors\n",
    "import pandas as pd\n",
    "import numpy as np"
   ]
  },
  {
   "cell_type": "code",
   "execution_count": null,
   "id": "faaec040-a515-4dcb-9caf-ebe2ddede023",
   "metadata": {},
   "outputs": [],
   "source": [
    "from sklearn.datasets import make_moons, make_classification, make_regression"
   ]
  },
  {
   "cell_type": "code",
   "execution_count": null,
   "id": "e8edcfcb-72e5-4bac-b9d6-c558fb84dcd3",
   "metadata": {},
   "outputs": [],
   "source": [
    "from sklearn.model_selection import train_test_split"
   ]
  },
  {
   "cell_type": "code",
   "execution_count": null,
   "id": "704b6c29-d54e-45c8-8202-0e13cced6d2e",
   "metadata": {},
   "outputs": [],
   "source": [
    "from connector import spark_connector"
   ]
  },
  {
   "cell_type": "code",
   "execution_count": null,
   "id": "bbb8b894-bbbb-4721-b7b7-9c1da7bf9f37",
   "metadata": {},
   "outputs": [],
   "source": [
    "con = spark_connector(exec_inst=100, exec_cores=5, memory_exec=25, marshal_mode=True)"
   ]
  },
  {
   "cell_type": "code",
   "execution_count": null,
   "id": "c1e76cdd-5501-4b1d-a2eb-7cfe9a41758f",
   "metadata": {},
   "outputs": [],
   "source": [
    "con.spark"
   ]
  },
  {
   "cell_type": "code",
   "execution_count": null,
   "id": "c2ecf0aa-2790-482e-89ac-d7c4057b6a30",
   "metadata": {},
   "outputs": [],
   "source": [
    "X, y = make_classification(\n",
    "    n_samples=2000000,\n",
    "    n_features=15,\n",
    "    n_informative=15,\n",
    "    n_redundant=0,\n",
    "    n_repeated=0,\n",
    "    n_classes=7,\n",
    "    n_clusters_per_class=2,\n",
    "    weights=None,\n",
    "    flip_y=0.04,\n",
    "    class_sep=1.0,\n",
    "    hypercube=True,\n",
    "    shift=0.0,\n",
    "    scale=1.0,\n",
    "    shuffle=True,\n",
    "    random_state=0,\n",
    ")"
   ]
  },
  {
   "cell_type": "code",
   "execution_count": null,
   "id": "e2db25fc-a0a4-48b9-b90f-5d789cca9c58",
   "metadata": {},
   "outputs": [],
   "source": [
    "X, y =  make_regression(\n",
    "    n_samples=2000000,\n",
    "    n_features=3,\n",
    "    n_informative=3,\n",
    "    n_targets=1,\n",
    "    bias=0.0,\n",
    "    effective_rank=None,\n",
    "    noise=0.01,\n",
    "    shuffle=True,\n",
    "    coef=False,\n",
    "    random_state=0,\n",
    ")"
   ]
  },
  {
   "cell_type": "code",
   "execution_count": null,
   "id": "805f7b69-afee-4e84-9167-514bf182d6a2",
   "metadata": {},
   "outputs": [],
   "source": [
    "data = pd.DataFrame(X, columns=[f'x{i+1}' for i in range(X.shape[1])])\n",
    "data['y'] = y"
   ]
  },
  {
   "cell_type": "code",
   "execution_count": null,
   "id": "e054d7b4-6fc1-473d-b73d-8f92c090f026",
   "metadata": {},
   "outputs": [],
   "source": [
    "train, test = train_test_split(data, random_state=6, test_size=0.1)\n",
    "train.shape, test.shape"
   ]
  },
  {
   "cell_type": "code",
   "execution_count": null,
   "id": "ce977318-889e-4855-99f3-817e98503112",
   "metadata": {},
   "outputs": [],
   "source": [
    "from sklearn.metrics import classification_report, mean_absolute_percentage_error"
   ]
  },
  {
   "cell_type": "code",
   "execution_count": null,
   "id": "0c64c5db-631d-4656-840b-d84b412ad97d",
   "metadata": {},
   "outputs": [],
   "source": [
    "from sklearn.neighbors import KNeighborsRegressor, KNeighborsClassifier"
   ]
  },
  {
   "cell_type": "code",
   "execution_count": null,
   "id": "10ab7105-27f5-48f7-be7e-faf5592b540b",
   "metadata": {},
   "outputs": [],
   "source": [
    "#nn = KNeighborsRegressor(n_neighbors=15, weights='distance', algorithm='brute', n_jobs=-1).fit(train.drop('y', axis=1), train['y'])\n",
    "nn = KNeighborsClassifier(n_neighbors=15, weights='distance', algorithm='brute', n_jobs=-1).fit(train.drop('y', axis=1), train['y'])"
   ]
  },
  {
   "cell_type": "code",
   "execution_count": null,
   "id": "3b9e8439-1f9c-40b0-a1d6-bd39723870ee",
   "metadata": {},
   "outputs": [],
   "source": [
    "#mean_absolute_percentage_error(test[:].reset_index(names=['index_test']).sort_values(by='index_test')['y'].to_numpy(), nn.predict(test[:].reset_index(names=['index_test']).sort_values(by='index_test').drop(['y','index_test'], axis=1)))\n",
    "print(classification_report(test[:].reset_index(names=['index_test']).sort_values(by='index_test')['y'].to_numpy(), nn.predict(test[:].reset_index(names=['index_test']).sort_values(by='index_test').drop(['y','index_test'], axis=1))))"
   ]
  },
  {
   "cell_type": "code",
   "execution_count": null,
   "id": "40177f80-ed7b-4175-ada0-8c6cccb40416",
   "metadata": {},
   "outputs": [],
   "source": [
    "del nn"
   ]
  },
  {
   "cell_type": "code",
   "execution_count": null,
   "id": "5e7b3925-c810-4aa3-916b-25ed88d3f15e",
   "metadata": {},
   "outputs": [],
   "source": []
  },
  {
   "cell_type": "code",
   "execution_count": null,
   "id": "641874f3-8f99-4f05-abc4-3a4660bd1a6a",
   "metadata": {},
   "outputs": [],
   "source": []
  },
  {
   "cell_type": "code",
   "execution_count": null,
   "id": "25c692b8-2427-4c5b-aeba-7f4bf459bdf6",
   "metadata": {},
   "outputs": [],
   "source": [
    "train = con.spark.createDataFrame(train)\n",
    "test = con.spark.createDataFrame(test.drop(['y'], axis=1))"
   ]
  },
  {
   "cell_type": "code",
   "execution_count": null,
   "id": "8079e0b9-6425-4bef-9c04-d438dacde6ae",
   "metadata": {},
   "outputs": [],
   "source": [
    "from KNN import spark_knn"
   ]
  },
  {
   "cell_type": "code",
   "execution_count": null,
   "id": "48996fe4-46ee-40dd-b185-b0a0b22cdfe8",
   "metadata": {},
   "outputs": [],
   "source": [
    "spark_knn?"
   ]
  },
  {
   "cell_type": "code",
   "execution_count": null,
   "id": "b2a4028f-f567-4c5a-b523-98094ca86b9f",
   "metadata": {},
   "outputs": [],
   "source": [
    "knn = spark_knn(spark = con.spark, train_df = train_df)"
   ]
  },
  {
   "cell_type": "code",
   "execution_count": null,
   "id": "734c5f96-6d78-4efd-8d6c-4cf581eef22a",
   "metadata": {},
   "outputs": [],
   "source": [
    "knn.fit?"
   ]
  },
  {
   "cell_type": "code",
   "execution_count": null,
   "id": "26508546-5567-4533-b576-8d9e7cb6b5ea",
   "metadata": {},
   "outputs": [],
   "source": [
    "%%time\n",
    "train2 = knn.fit(window_size=None)"
   ]
  },
  {
   "cell_type": "code",
   "execution_count": null,
   "id": "1697a202-a115-40fe-a55f-5c923f647959",
   "metadata": {},
   "outputs": [],
   "source": [
    "knn.train_df"
   ]
  },
  {
   "cell_type": "code",
   "execution_count": null,
   "id": "dc25e758-8f64-457e-a7fa-e2209a824166",
   "metadata": {},
   "outputs": [],
   "source": [
    "knn.predict?"
   ]
  },
  {
   "cell_type": "code",
   "execution_count": null,
   "id": "ced1e88a-eb68-43d6-b839-e8837e6560c3",
   "metadata": {},
   "outputs": [],
   "source": [
    "result = knn.predict(test_df, pred_df_window_size=None, n_neighbors=15) #40000\n",
    "pred_y = result.toPandas()"
   ]
  },
  {
   "cell_type": "code",
   "execution_count": null,
   "id": "73f70b34-4ebc-46ad-b270-f67f16f518aa",
   "metadata": {},
   "outputs": [],
   "source": []
  },
  {
   "cell_type": "code",
   "execution_count": null,
   "id": "344acdae-6e36-488c-a755-3bd2674bacf0",
   "metadata": {},
   "outputs": [],
   "source": [
    "mean_absolute_percentage_error(test.reset_index(names=['index_test']).sort_values(by='index_test')['y'].to_numpy(), pred_y.sort_values(by='index_test')['y'].to_numpy())"
   ]
  },
  {
   "cell_type": "code",
   "execution_count": null,
   "id": "df61b800-5201-479a-ad0a-012dcc01f0a1",
   "metadata": {},
   "outputs": [],
   "source": [
    "print(classification_report(test.reset_index(names=['index_test']).sort_values(by='index_test')['y'].to_numpy(), pred_y.sort_values(by='index_test')['y'].to_numpy()))"
   ]
  },
  {
   "cell_type": "code",
   "execution_count": null,
   "id": "2e3c590e-888b-418b-ae20-b43208a9e088",
   "metadata": {},
   "outputs": [],
   "source": []
  },
  {
   "cell_type": "code",
   "execution_count": null,
   "id": "cb6cc789-71a7-4a16-a0a2-f6f6d879ff19",
   "metadata": {},
   "outputs": [],
   "source": []
  },
  {
   "cell_type": "code",
   "execution_count": null,
   "id": "13fb959e-0766-4144-9b5b-6238f7c9b568",
   "metadata": {},
   "outputs": [],
   "source": [
    "con.stop_spark()"
   ]
  }
 ],
 "metadata": {
  "kernelspec": {
   "display_name": "Python 3 (ipykernel)",
   "language": "python",
   "name": "python3"
  },
  "language_info": {
   "codemirror_mode": {
    "name": "ipython",
    "version": 3
   },
   "file_extension": ".py",
   "mimetype": "text/x-python",
   "name": "python",
   "nbconvert_exporter": "python",
   "pygments_lexer": "ipython3",
   "version": "3.11.10"
  },
  "widgets": {
   "application/vnd.jupyter.widget-state+json": {
    "state": {},
    "version_major": 2,
    "version_minor": 0
   }
  }
 },
 "nbformat": 4,
 "nbformat_minor": 5
}
