{
 "cells": [
  {
   "cell_type": "code",
   "execution_count": null,
   "id": "e369e1e2-d4af-41c9-ab40-efef9e593d40",
   "metadata": {},
   "outputs": [],
   "source": [
    "from connector import spark_connector"
   ]
  },
  {
   "cell_type": "code",
   "execution_count": null,
   "id": "b985cdc7-b278-48e4-b02a-c80e565935b8",
   "metadata": {},
   "outputs": [],
   "source": [
    "import pandas as pd\n",
    "import numpy as np\n",
    "from pyspark.sql import Window\n",
    "import pyspark.sql.functions as F\n",
    "import pyspark.sql.types as T"
   ]
  },
  {
   "cell_type": "code",
   "execution_count": null,
   "id": "66ffb296-f22d-41d8-9e0c-99a73b574cec",
   "metadata": {},
   "outputs": [],
   "source": [
    "from sklearn.neighbors import NearestNeighbors\n",
    "import functools\n",
    "import itertools"
   ]
  },
  {
   "cell_type": "code",
   "execution_count": null,
   "id": "27dfd98d-81fa-4fc6-8d14-41311bf9ac89",
   "metadata": {},
   "outputs": [],
   "source": [
    "spark_connector?"
   ]
  },
  {
   "cell_type": "code",
   "execution_count": null,
   "id": "8aeb1081-f745-4b5e-8809-6789c1c32dcb",
   "metadata": {},
   "outputs": [],
   "source": [
    "con = spark_connector(exec_inst=100, exec_cores=5, memory_exec=25, enable_graphframes=True)"
   ]
  },
  {
   "cell_type": "code",
   "execution_count": null,
   "id": "1eb3fdcc-7260-4f7f-9234-94ac4b0b5eb0",
   "metadata": {},
   "outputs": [],
   "source": [
    "con.spark"
   ]
  },
  {
   "cell_type": "code",
   "execution_count": null,
   "id": "bfb0fed0-8d9f-4f7e-9a19-56699329f58e",
   "metadata": {},
   "outputs": [],
   "source": [
    "from sklearn.datasets import make_blobs"
   ]
  },
  {
   "cell_type": "code",
   "execution_count": null,
   "id": "55af1cff-9c9e-46cd-ab11-7d717abfa938",
   "metadata": {},
   "outputs": [],
   "source": [
    "X, y, c = make_blobs(n_samples=150000, n_features=2, centers=75, cluster_std=0.75, center_box=(-120.0, 120.0), shuffle=True, random_state=0, return_centers=True)"
   ]
  },
  {
   "cell_type": "code",
   "execution_count": null,
   "id": "a63edbaf-f892-4510-82d0-575c2ac71c74",
   "metadata": {},
   "outputs": [],
   "source": [
    "data = pd.DataFrame(X, columns=[f'x{i+1}' for i in range(X.shape[1])])\n",
    "data['y'] = y\n",
    "data = data.merge(pd.DataFrame(c, columns=[f'centroids_{i+1}' for i in range(X.shape[1])]).reset_index(), left_on='y', right_on='index', how='left').drop('index', axis=1)"
   ]
  },
  {
   "cell_type": "code",
   "execution_count": null,
   "id": "5cc255cf-18f1-4b60-9212-52eaf810d28d",
   "metadata": {},
   "outputs": [],
   "source": [
    "data"
   ]
  },
  {
   "cell_type": "code",
   "execution_count": null,
   "id": "3f1da762-0d9a-453a-9982-7d50bcbc7ade",
   "metadata": {},
   "outputs": [],
   "source": [
    "import seaborn as sns"
   ]
  },
  {
   "cell_type": "code",
   "execution_count": null,
   "id": "329cc6f0-6280-4fe4-9c67-78d0c18093d1",
   "metadata": {},
   "outputs": [],
   "source": [
    "sns.scatterplot(x=data.x1, y=data.x2, hue=data.y)"
   ]
  },
  {
   "cell_type": "code",
   "execution_count": null,
   "id": "b9a9a0b1-c3c0-459d-8f62-cb88e1c74a4e",
   "metadata": {},
   "outputs": [],
   "source": []
  },
  {
   "cell_type": "code",
   "execution_count": null,
   "id": "1c5c4abe-ffe2-41ec-b55e-0d4aeea266e5",
   "metadata": {},
   "outputs": [],
   "source": [
    "data = data.rename({'y':'index_train'}, axis=1).drop(['centroids_1','centroids_2'], axis=1)"
   ]
  },
  {
   "cell_type": "code",
   "execution_count": null,
   "id": "606a7f00-4ca5-4de6-919c-fe65c62f8d91",
   "metadata": {},
   "outputs": [],
   "source": [
    "train_df = con.spark.createDataFrame(data)"
   ]
  },
  {
   "cell_type": "code",
   "execution_count": null,
   "id": "9754b3e1-5ceb-44f2-926c-e559739f8ebd",
   "metadata": {},
   "outputs": [],
   "source": [
    "from HierarchicalClustering import HiClust"
   ]
  },
  {
   "cell_type": "code",
   "execution_count": null,
   "id": "d1e90e77-7733-4774-b6fb-efbb9ba77f79",
   "metadata": {},
   "outputs": [],
   "source": [
    "HiClust?"
   ]
  },
  {
   "cell_type": "code",
   "execution_count": null,
   "id": "7fb17055-0ad0-4e97-aed9-fc7aa632bf89",
   "metadata": {},
   "outputs": [],
   "source": [
    "clust = HiClust(con.spark, train_df=train_df)"
   ]
  },
  {
   "cell_type": "code",
   "execution_count": null,
   "id": "0443ba5a-c7ad-47b3-8e46-4af63d866ef1",
   "metadata": {},
   "outputs": [],
   "source": [
    "clust.fit(window_size=None, normalize='zscore')"
   ]
  },
  {
   "cell_type": "code",
   "execution_count": null,
   "id": "4e481070-8ccb-4e83-928c-4db37d8262b1",
   "metadata": {
    "scrolled": true
   },
   "outputs": [],
   "source": [
    "clust.predict(metric = 'euclidean',distance_threshold=0.5, weighted_first_iter=True)"
   ]
  },
  {
   "cell_type": "code",
   "execution_count": null,
   "id": "f65f58f0-e490-40e5-870f-536ef7a12758",
   "metadata": {},
   "outputs": [],
   "source": [
    "clust.hist"
   ]
  },
  {
   "cell_type": "code",
   "execution_count": null,
   "id": "76de892c-5480-4b35-98fb-9fb4bf6defd5",
   "metadata": {},
   "outputs": [],
   "source": [
    "clust.hist.select('cluster_id_4').distinct().count()"
   ]
  },
  {
   "cell_type": "code",
   "execution_count": null,
   "id": "ea70f223-4da3-421b-a265-600eac4447b8",
   "metadata": {},
   "outputs": [],
   "source": []
  },
  {
   "cell_type": "code",
   "execution_count": null,
   "id": "e702ec65-2455-4808-80d8-b0abb72152fb",
   "metadata": {},
   "outputs": [],
   "source": []
  },
  {
   "cell_type": "code",
   "execution_count": null,
   "id": "cb0d798d-6e24-4dca-97b7-ad526c862c37",
   "metadata": {},
   "outputs": [],
   "source": [
    "con.stop_spark()"
   ]
  },
  {
   "cell_type": "code",
   "execution_count": null,
   "id": "35cfac5b-7c96-4b99-90d7-7e93234e4283",
   "metadata": {},
   "outputs": [],
   "source": []
  }
 ],
 "metadata": {
  "kernelspec": {
   "display_name": "Python 3 (ipykernel)",
   "language": "python",
   "name": "python3"
  },
  "language_info": {
   "codemirror_mode": {
    "name": "ipython",
    "version": 3
   },
   "file_extension": ".py",
   "mimetype": "text/x-python",
   "name": "python",
   "nbconvert_exporter": "python",
   "pygments_lexer": "ipython3",
   "version": "3.11.10"
  }
 },
 "nbformat": 4,
 "nbformat_minor": 5
}
