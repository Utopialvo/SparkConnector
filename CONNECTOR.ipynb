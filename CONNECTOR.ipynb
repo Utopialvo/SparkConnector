{
 "cells": [
  {
   "cell_type": "code",
   "execution_count": null,
   "id": "c8446b97-ba34-48f9-8842-f4f5ab6a387e",
   "metadata": {},
   "outputs": [],
   "source": [
    "pip install clickhouse-driver"
   ]
  },
  {
   "cell_type": "code",
   "execution_count": null,
   "id": "dd503712-d286-421d-8895-168b97e5568c",
   "metadata": {},
   "outputs": [],
   "source": [
    "pip install psycopg"
   ]
  },
  {
   "cell_type": "code",
   "execution_count": null,
   "id": "a9ee872c-8f89-46fa-9281-04ef8c01d3b3",
   "metadata": {},
   "outputs": [],
   "source": [
    "pip install \"psycopg[binary,pool]\""
   ]
  },
  {
   "cell_type": "code",
   "execution_count": null,
   "id": "e76a8e8a-5057-42f0-9315-e72b5225f47a",
   "metadata": {},
   "outputs": [],
   "source": []
  },
  {
   "cell_type": "code",
   "execution_count": 1,
   "id": "e018b757-a73f-464f-a01b-9dbf837aed96",
   "metadata": {},
   "outputs": [],
   "source": [
    "from connector import spark_connector"
   ]
  },
  {
   "cell_type": "code",
   "execution_count": 2,
   "id": "b5b7a9a0-a36f-47b5-a484-74ec82f72896",
   "metadata": {},
   "outputs": [],
   "source": [
    "import pandas as pd\n",
    "import numpy as np\n",
    "from pyspark.sql import Window\n",
    "import pyspark.sql.functions as F\n",
    "import pyspark.sql.types as T"
   ]
  },
  {
   "cell_type": "code",
   "execution_count": 3,
   "id": "244c10c1-396e-45fc-adf4-5a78fd60c004",
   "metadata": {},
   "outputs": [
    {
     "data": {
      "text/plain": [
       "\u001b[0;31mInit signature:\u001b[0m\n",
       "\u001b[0mspark_connector\u001b[0m\u001b[0;34m(\u001b[0m\u001b[0;34m\u001b[0m\n",
       "\u001b[0;34m\u001b[0m    \u001b[0mexec_inst\u001b[0m\u001b[0;34m:\u001b[0m \u001b[0mint\u001b[0m \u001b[0;34m=\u001b[0m \u001b[0;36m100\u001b[0m\u001b[0;34m,\u001b[0m\u001b[0;34m\u001b[0m\n",
       "\u001b[0;34m\u001b[0m    \u001b[0mexec_cores\u001b[0m\u001b[0;34m:\u001b[0m \u001b[0mint\u001b[0m \u001b[0;34m=\u001b[0m \u001b[0;36m5\u001b[0m\u001b[0;34m,\u001b[0m\u001b[0;34m\u001b[0m\n",
       "\u001b[0;34m\u001b[0m    \u001b[0maloc_max\u001b[0m\u001b[0;34m:\u001b[0m \u001b[0mint\u001b[0m \u001b[0;34m=\u001b[0m \u001b[0;36m500\u001b[0m\u001b[0;34m,\u001b[0m\u001b[0;34m\u001b[0m\n",
       "\u001b[0;34m\u001b[0m    \u001b[0mmemory_exec\u001b[0m\u001b[0;34m:\u001b[0m \u001b[0mint\u001b[0m \u001b[0;34m=\u001b[0m \u001b[0;36m25\u001b[0m\u001b[0;34m,\u001b[0m\u001b[0;34m\u001b[0m\n",
       "\u001b[0;34m\u001b[0m    \u001b[0mname\u001b[0m\u001b[0;34m:\u001b[0m \u001b[0mobject\u001b[0m \u001b[0;34m=\u001b[0m \u001b[0;34m'utopialvo'\u001b[0m\u001b[0;34m,\u001b[0m\u001b[0;34m\u001b[0m\n",
       "\u001b[0;34m\u001b[0m    \u001b[0mrootdir\u001b[0m\u001b[0;34m:\u001b[0m \u001b[0mobject\u001b[0m \u001b[0;34m=\u001b[0m \u001b[0;34m'remote_dir_in_hdft'\u001b[0m\u001b[0;34m,\u001b[0m\u001b[0;34m\u001b[0m\n",
       "\u001b[0;34m\u001b[0m    \u001b[0menable_graphframes\u001b[0m\u001b[0;34m:\u001b[0m \u001b[0mbool\u001b[0m \u001b[0;34m=\u001b[0m \u001b[0;32mFalse\u001b[0m\u001b[0;34m,\u001b[0m\u001b[0;34m\u001b[0m\n",
       "\u001b[0;34m\u001b[0m    \u001b[0menable_clickhouse\u001b[0m\u001b[0;34m:\u001b[0m \u001b[0mbool\u001b[0m \u001b[0;34m=\u001b[0m \u001b[0;32mFalse\u001b[0m\u001b[0;34m,\u001b[0m\u001b[0;34m\u001b[0m\n",
       "\u001b[0;34m\u001b[0m    \u001b[0menable_postgres\u001b[0m\u001b[0;34m:\u001b[0m \u001b[0mbool\u001b[0m \u001b[0;34m=\u001b[0m \u001b[0;32mFalse\u001b[0m\u001b[0;34m,\u001b[0m\u001b[0;34m\u001b[0m\n",
       "\u001b[0;34m\u001b[0m    \u001b[0mdynamic_allocation\u001b[0m\u001b[0;34m:\u001b[0m \u001b[0mbool\u001b[0m \u001b[0;34m=\u001b[0m \u001b[0;32mFalse\u001b[0m\u001b[0;34m,\u001b[0m\u001b[0;34m\u001b[0m\n",
       "\u001b[0;34m\u001b[0m    \u001b[0mintensive_mode\u001b[0m\u001b[0;34m:\u001b[0m \u001b[0mbool\u001b[0m \u001b[0;34m=\u001b[0m \u001b[0;32mFalse\u001b[0m\u001b[0;34m,\u001b[0m\u001b[0;34m\u001b[0m\n",
       "\u001b[0;34m\u001b[0m    \u001b[0mmarshal_mode\u001b[0m\u001b[0;34m:\u001b[0m \u001b[0mbool\u001b[0m \u001b[0;34m=\u001b[0m \u001b[0;32mTrue\u001b[0m\u001b[0;34m,\u001b[0m\u001b[0;34m\u001b[0m\n",
       "\u001b[0;34m\u001b[0m\u001b[0;34m)\u001b[0m \u001b[0;34m->\u001b[0m \u001b[0;32mNone\u001b[0m\u001b[0;34m\u001b[0m\u001b[0;34m\u001b[0m\u001b[0m\n",
       "\u001b[0;31mDocstring:\u001b[0m      Класс стандартного подключения к Spark\n",
       "\u001b[0;31mInit docstring:\u001b[0m         \n",
       "\u001b[0;31mFile:\u001b[0m           ~/work/Spark_conn/connector.py\n",
       "\u001b[0;31mType:\u001b[0m           type\n",
       "\u001b[0;31mSubclasses:\u001b[0m     "
      ]
     },
     "metadata": {},
     "output_type": "display_data"
    }
   ],
   "source": [
    "spark_connector?"
   ]
  },
  {
   "cell_type": "code",
   "execution_count": 4,
   "id": "cb335b59-8abd-4bd5-928f-8408a0388c05",
   "metadata": {},
   "outputs": [],
   "source": [
    "con = spark_connector(exec_inst=10, exec_cores=5, memory_exec=15, enable_graphframes=True, enable_clickhouse=True, enable_postgres=True, dynamic_allocation=False)"
   ]
  },
  {
   "cell_type": "code",
   "execution_count": null,
   "id": "560a6270-4df5-4c3e-8f07-0160c4cc0cbf",
   "metadata": {},
   "outputs": [],
   "source": [
    "con.spark"
   ]
  },
  {
   "cell_type": "code",
   "execution_count": 6,
   "id": "48dd227c-de66-410c-93ae-a94eb5b1938c",
   "metadata": {},
   "outputs": [],
   "source": [
    "from graphframes import GraphFrame"
   ]
  },
  {
   "cell_type": "code",
   "execution_count": 7,
   "id": "04c281ca-71f9-418b-9ad6-815a32c1932e",
   "metadata": {},
   "outputs": [],
   "source": [
    "v = con.spark.createDataFrame([\n",
    "    (1, 'Anton', 23),\n",
    "    (2, 'Anna', 27),\n",
    "    (3, 'Andry', 24),\n",
    "    (4, 'Alex', 32),\n",
    "    (5, 'Boris', 55),\n",
    "    (6, 'Vera', 64), ],\n",
    "    ['id', 'name', 'age'])\n",
    "e = con.spark.createDataFrame([\n",
    "    (1, 2, 'friend'),\n",
    "    (2, 1, 'friend'),\n",
    "    (1, 3, 'friend'),\n",
    "    (3, 1, 'friend'),\n",
    "    (2, 3, 'friend'),\n",
    "    (3, 2, 'friend'),\n",
    "    (4, 2, 'follows'),\n",
    "    (5, 6, 'follows'), ],\n",
    "    ['src', 'dst', 'type'])\n",
    "g = GraphFrame(v, e)"
   ]
  },
  {
   "cell_type": "code",
   "execution_count": 8,
   "id": "8b941428-0863-4350-a30d-3785dcee59e9",
   "metadata": {},
   "outputs": [
    {
     "name": "stdout",
     "output_type": "stream",
     "text": [
      "+---+-----+---+\n",
      "| id| name|age|\n",
      "+---+-----+---+\n",
      "|  1|Anton| 23|\n",
      "|  2| Anna| 27|\n",
      "|  3|Andry| 24|\n",
      "|  4| Alex| 32|\n",
      "|  5|Boris| 55|\n",
      "|  6| Vera| 64|\n",
      "+---+-----+---+\n",
      "\n"
     ]
    }
   ],
   "source": [
    "g.vertices.show()"
   ]
  },
  {
   "cell_type": "code",
   "execution_count": 9,
   "id": "bcb526fc-cf0d-4faf-95b8-f327ac75e0d7",
   "metadata": {},
   "outputs": [
    {
     "data": {
      "text/plain": [
       "130"
      ]
     },
     "execution_count": 9,
     "metadata": {},
     "output_type": "execute_result"
    }
   ],
   "source": [
    "g.vertices.rdd.getNumPartitions()"
   ]
  },
  {
   "cell_type": "code",
   "execution_count": 10,
   "id": "6c736b00-28f6-4df3-b951-e0d299c9cd37",
   "metadata": {},
   "outputs": [
    {
     "data": {
      "text/plain": [
       "DataFrame[id: bigint, name: string, age: bigint]"
      ]
     },
     "execution_count": 10,
     "metadata": {},
     "output_type": "execute_result"
    }
   ],
   "source": [
    "g.vertices.repartition(1, ['id'])"
   ]
  },
  {
   "cell_type": "code",
   "execution_count": null,
   "id": "d4552419-f06a-4327-9331-98965f6435f3",
   "metadata": {},
   "outputs": [],
   "source": []
  },
  {
   "cell_type": "code",
   "execution_count": null,
   "id": "2bf8c086-da86-4f6d-8e5d-b7cb8d9f85e9",
   "metadata": {},
   "outputs": [],
   "source": []
  },
  {
   "cell_type": "code",
   "execution_count": 11,
   "id": "57791f30-f6ed-4e97-9088-335390d5bd03",
   "metadata": {},
   "outputs": [
    {
     "data": {
      "text/plain": [
       "\u001b[0;31mSignature:\u001b[0m\n",
       "\u001b[0mcon\u001b[0m\u001b[0;34m.\u001b[0m\u001b[0mrepartitioning\u001b[0m\u001b[0;34m(\u001b[0m\u001b[0;34m\u001b[0m\n",
       "\u001b[0;34m\u001b[0m    \u001b[0mdf\u001b[0m\u001b[0;34m:\u001b[0m \u001b[0mpyspark\u001b[0m\u001b[0;34m.\u001b[0m\u001b[0msql\u001b[0m\u001b[0;34m.\u001b[0m\u001b[0mdataframe\u001b[0m\u001b[0;34m.\u001b[0m\u001b[0mDataFrame\u001b[0m\u001b[0;34m,\u001b[0m\u001b[0;34m\u001b[0m\n",
       "\u001b[0;34m\u001b[0m    \u001b[0mmode\u001b[0m\u001b[0;34m:\u001b[0m \u001b[0mstr\u001b[0m \u001b[0;34m=\u001b[0m \u001b[0;34m'parquet'\u001b[0m\u001b[0;34m,\u001b[0m\u001b[0;34m\u001b[0m\n",
       "\u001b[0;34m\u001b[0m    \u001b[0mpartititon_cols\u001b[0m\u001b[0;34m:\u001b[0m \u001b[0mlist\u001b[0m \u001b[0;34m=\u001b[0m \u001b[0;32mNone\u001b[0m\u001b[0;34m,\u001b[0m\u001b[0;34m\u001b[0m\n",
       "\u001b[0;34m\u001b[0m    \u001b[0mblock_size\u001b[0m\u001b[0;34m:\u001b[0m \u001b[0mint\u001b[0m \u001b[0;34m=\u001b[0m \u001b[0;36m134217728\u001b[0m\u001b[0;34m,\u001b[0m\u001b[0;34m\u001b[0m\n",
       "\u001b[0;34m\u001b[0m    \u001b[0mserialization_factor\u001b[0m\u001b[0;34m:\u001b[0m \u001b[0mint\u001b[0m \u001b[0;34m=\u001b[0m \u001b[0;36m8\u001b[0m\u001b[0;34m,\u001b[0m\u001b[0;34m\u001b[0m\n",
       "\u001b[0;34m\u001b[0m\u001b[0;34m)\u001b[0m \u001b[0;34m->\u001b[0m \u001b[0mpyspark\u001b[0m\u001b[0;34m.\u001b[0m\u001b[0msql\u001b[0m\u001b[0;34m.\u001b[0m\u001b[0mdataframe\u001b[0m\u001b[0;34m.\u001b[0m\u001b[0mDataFrame\u001b[0m\u001b[0;34m\u001b[0m\u001b[0;34m\u001b[0m\u001b[0m\n",
       "\u001b[0;31mDocstring:\u001b[0m\n",
       "Метод для партиционирования датафрейма по заданному размеру\n",
       "mode - может быть ['memory', 'parquet']. Запись на диск или кэширование в памяти.\n",
       "block_size - размер блока в HDFS\n",
       "serialization_factor - коэффициент, для оптимальной записи в parquet\n",
       "\u001b[0;31mFile:\u001b[0m      ~/work/Spark_conn/connector.py\n",
       "\u001b[0;31mType:\u001b[0m      method"
      ]
     },
     "metadata": {},
     "output_type": "display_data"
    }
   ],
   "source": [
    "con.repartitioning?"
   ]
  },
  {
   "cell_type": "code",
   "execution_count": 12,
   "id": "65ff6a2b-5c5a-4b52-8c37-d41730eda1db",
   "metadata": {},
   "outputs": [
    {
     "data": {
      "text/plain": [
       "\u001b[0;31mSignature:\u001b[0m\n",
       "\u001b[0mcon\u001b[0m\u001b[0;34m.\u001b[0m\u001b[0mrepartition_and_checkpoint\u001b[0m\u001b[0;34m(\u001b[0m\u001b[0;34m\u001b[0m\n",
       "\u001b[0;34m\u001b[0m    \u001b[0mdf\u001b[0m\u001b[0;34m:\u001b[0m \u001b[0mpyspark\u001b[0m\u001b[0;34m.\u001b[0m\u001b[0msql\u001b[0m\u001b[0;34m.\u001b[0m\u001b[0mdataframe\u001b[0m\u001b[0;34m.\u001b[0m\u001b[0mDataFrame\u001b[0m\u001b[0;34m,\u001b[0m\u001b[0;34m\u001b[0m\n",
       "\u001b[0;34m\u001b[0m    \u001b[0mpartititon_cols\u001b[0m\u001b[0;34m:\u001b[0m \u001b[0mlist\u001b[0m \u001b[0;34m=\u001b[0m \u001b[0;32mNone\u001b[0m\u001b[0;34m,\u001b[0m\u001b[0;34m\u001b[0m\n",
       "\u001b[0;34m\u001b[0m    \u001b[0mcache\u001b[0m\u001b[0;34m:\u001b[0m \u001b[0mbool\u001b[0m \u001b[0;34m=\u001b[0m \u001b[0;32mTrue\u001b[0m\u001b[0;34m,\u001b[0m\u001b[0;34m\u001b[0m\n",
       "\u001b[0;34m\u001b[0m\u001b[0;34m)\u001b[0m \u001b[0;34m->\u001b[0m \u001b[0mpyspark\u001b[0m\u001b[0;34m.\u001b[0m\u001b[0msql\u001b[0m\u001b[0;34m.\u001b[0m\u001b[0mdataframe\u001b[0m\u001b[0;34m.\u001b[0m\u001b[0mDataFrame\u001b[0m\u001b[0;34m\u001b[0m\u001b[0;34m\u001b[0m\u001b[0m\n",
       "\u001b[0;31mDocstring:\u001b[0m\n",
       "Метод для создания чекпоинта, оптимального по размеру партиций для дальнейшей работы.\n",
       "partititon_cols - название колонки партиционирования или лист колонок.\n",
       "cache - запись через оперативную память или через запись на диск.\n",
       "\u001b[0;31mFile:\u001b[0m      ~/work/Spark_conn/connector.py\n",
       "\u001b[0;31mType:\u001b[0m      method"
      ]
     },
     "metadata": {},
     "output_type": "display_data"
    }
   ],
   "source": [
    "con.repartition_and_checkpoint?"
   ]
  },
  {
   "cell_type": "code",
   "execution_count": 13,
   "id": "aeda5042-6917-4070-b736-611b0071dde1",
   "metadata": {},
   "outputs": [
    {
     "data": {
      "text/plain": [
       "\u001b[0;31mSignature:\u001b[0m \u001b[0mcon\u001b[0m\u001b[0;34m.\u001b[0m\u001b[0mread_table\u001b[0m\u001b[0;34m(\u001b[0m\u001b[0mtable\u001b[0m\u001b[0;34m:\u001b[0m \u001b[0mstr\u001b[0m\u001b[0;34m,\u001b[0m \u001b[0mDB\u001b[0m\u001b[0;34m:\u001b[0m \u001b[0mstr\u001b[0m \u001b[0;34m=\u001b[0m \u001b[0;32mNone\u001b[0m\u001b[0;34m)\u001b[0m \u001b[0;34m->\u001b[0m \u001b[0mpyspark\u001b[0m\u001b[0;34m.\u001b[0m\u001b[0msql\u001b[0m\u001b[0;34m.\u001b[0m\u001b[0mdataframe\u001b[0m\u001b[0;34m.\u001b[0m\u001b[0mDataFrame\u001b[0m\u001b[0;34m\u001b[0m\u001b[0;34m\u001b[0m\u001b[0m\n",
       "\u001b[0;31mDocstring:\u001b[0m\n",
       "DB - путь к корневой папке в HDFS. Если задан при инициализации объекта, то можно указывать только путь к таблице.\n",
       "table - путь к таблице относительно корневой папки в HDFS.\n",
       "\u001b[0;31mFile:\u001b[0m      ~/work/Spark_conn/connector.py\n",
       "\u001b[0;31mType:\u001b[0m      method"
      ]
     },
     "metadata": {},
     "output_type": "display_data"
    }
   ],
   "source": [
    "con.read_table?"
   ]
  },
  {
   "cell_type": "code",
   "execution_count": 14,
   "id": "5c80f2e3-20d8-4deb-b94c-8dcd6cb9da17",
   "metadata": {},
   "outputs": [
    {
     "data": {
      "text/plain": [
       "\u001b[0;31mSignature:\u001b[0m\n",
       "\u001b[0mcon\u001b[0m\u001b[0;34m.\u001b[0m\u001b[0mclickhouse_read_table\u001b[0m\u001b[0;34m(\u001b[0m\u001b[0;34m\u001b[0m\n",
       "\u001b[0;34m\u001b[0m    \u001b[0murl\u001b[0m\u001b[0;34m:\u001b[0m \u001b[0mstr\u001b[0m\u001b[0;34m,\u001b[0m\u001b[0;34m\u001b[0m\n",
       "\u001b[0;34m\u001b[0m    \u001b[0mtable\u001b[0m\u001b[0;34m:\u001b[0m \u001b[0mstr\u001b[0m\u001b[0;34m,\u001b[0m\u001b[0;34m\u001b[0m\n",
       "\u001b[0;34m\u001b[0m    \u001b[0muser\u001b[0m\u001b[0;34m:\u001b[0m \u001b[0mstr\u001b[0m\u001b[0;34m,\u001b[0m\u001b[0;34m\u001b[0m\n",
       "\u001b[0;34m\u001b[0m    \u001b[0mpassword\u001b[0m\u001b[0;34m:\u001b[0m \u001b[0mstr\u001b[0m\u001b[0;34m,\u001b[0m\u001b[0;34m\u001b[0m\n",
       "\u001b[0;34m\u001b[0m    \u001b[0mdriver\u001b[0m\u001b[0;34m:\u001b[0m \u001b[0mstr\u001b[0m \u001b[0;34m=\u001b[0m \u001b[0;34m'com.clickhouse.jdbc.ClickHouseDriver'\u001b[0m\u001b[0;34m,\u001b[0m\u001b[0;34m\u001b[0m\n",
       "\u001b[0;34m\u001b[0m\u001b[0;34m)\u001b[0m \u001b[0;34m->\u001b[0m \u001b[0mpyspark\u001b[0m\u001b[0;34m.\u001b[0m\u001b[0msql\u001b[0m\u001b[0;34m.\u001b[0m\u001b[0mdataframe\u001b[0m\u001b[0;34m.\u001b[0m\u001b[0mDataFrame\u001b[0m\u001b[0;34m\u001b[0m\u001b[0;34m\u001b[0m\u001b[0m\n",
       "\u001b[0;31mDocstring:\u001b[0m\n",
       "url = \"jdbc:clickhouse://<host>:<port>/<database>\"\n",
       "table = \"<table_name>\"\n",
       "user = \"<username>\"\n",
       "password = \"<password>\"\n",
       "driver = \"com.clickhouse.jdbc.ClickHouseDriver\"\n",
       "\u001b[0;31mFile:\u001b[0m      ~/work/Spark_conn/connector.py\n",
       "\u001b[0;31mType:\u001b[0m      method"
      ]
     },
     "metadata": {},
     "output_type": "display_data"
    }
   ],
   "source": [
    "con.clickhouse_read_table?"
   ]
  },
  {
   "cell_type": "code",
   "execution_count": 15,
   "id": "117ee685-9d3d-4680-bea5-cf19f98e1a57",
   "metadata": {},
   "outputs": [
    {
     "data": {
      "text/plain": [
       "\u001b[0;31mSignature:\u001b[0m\n",
       "\u001b[0mcon\u001b[0m\u001b[0;34m.\u001b[0m\u001b[0mpostgres_read_table\u001b[0m\u001b[0;34m(\u001b[0m\u001b[0;34m\u001b[0m\n",
       "\u001b[0;34m\u001b[0m    \u001b[0murl\u001b[0m\u001b[0;34m:\u001b[0m \u001b[0mstr\u001b[0m\u001b[0;34m,\u001b[0m\u001b[0;34m\u001b[0m\n",
       "\u001b[0;34m\u001b[0m    \u001b[0mtable\u001b[0m\u001b[0;34m:\u001b[0m \u001b[0mstr\u001b[0m\u001b[0;34m,\u001b[0m\u001b[0;34m\u001b[0m\n",
       "\u001b[0;34m\u001b[0m    \u001b[0muser\u001b[0m\u001b[0;34m:\u001b[0m \u001b[0mstr\u001b[0m\u001b[0;34m,\u001b[0m\u001b[0;34m\u001b[0m\n",
       "\u001b[0;34m\u001b[0m    \u001b[0mpassword\u001b[0m\u001b[0;34m:\u001b[0m \u001b[0mstr\u001b[0m\u001b[0;34m,\u001b[0m\u001b[0;34m\u001b[0m\n",
       "\u001b[0;34m\u001b[0m    \u001b[0mdriver\u001b[0m\u001b[0;34m:\u001b[0m \u001b[0mstr\u001b[0m \u001b[0;34m=\u001b[0m \u001b[0;34m'org.postgresql.Driver'\u001b[0m\u001b[0;34m,\u001b[0m\u001b[0;34m\u001b[0m\n",
       "\u001b[0;34m\u001b[0m\u001b[0;34m)\u001b[0m \u001b[0;34m->\u001b[0m \u001b[0mpyspark\u001b[0m\u001b[0;34m.\u001b[0m\u001b[0msql\u001b[0m\u001b[0;34m.\u001b[0m\u001b[0mdataframe\u001b[0m\u001b[0;34m.\u001b[0m\u001b[0mDataFrame\u001b[0m\u001b[0;34m\u001b[0m\u001b[0;34m\u001b[0m\u001b[0m\n",
       "\u001b[0;31mDocstring:\u001b[0m\n",
       "url = путь/ДБ \"jdbc:postgresql://<host>:<port>/<database>\"\n",
       "table = название таблицы\n",
       "user = \"postgres\"\n",
       "password = \"password\"\n",
       "driver = \"org.postgresql.Driver\"\n",
       "\u001b[0;31mFile:\u001b[0m      ~/work/Spark_conn/connector.py\n",
       "\u001b[0;31mType:\u001b[0m      method"
      ]
     },
     "metadata": {},
     "output_type": "display_data"
    }
   ],
   "source": [
    "con.postgres_read_table?"
   ]
  },
  {
   "cell_type": "code",
   "execution_count": 16,
   "id": "fc09ebac-8d47-4c3f-8bd2-22e74c4e48c2",
   "metadata": {},
   "outputs": [
    {
     "data": {
      "text/plain": [
       "\u001b[0;31mSignature:\u001b[0m\n",
       "\u001b[0mcon\u001b[0m\u001b[0;34m.\u001b[0m\u001b[0msave_table\u001b[0m\u001b[0;34m(\u001b[0m\u001b[0;34m\u001b[0m\n",
       "\u001b[0;34m\u001b[0m    \u001b[0mdf\u001b[0m\u001b[0;34m:\u001b[0m \u001b[0mpyspark\u001b[0m\u001b[0;34m.\u001b[0m\u001b[0msql\u001b[0m\u001b[0;34m.\u001b[0m\u001b[0mdataframe\u001b[0m\u001b[0;34m.\u001b[0m\u001b[0mDataFrame\u001b[0m\u001b[0;34m,\u001b[0m\u001b[0;34m\u001b[0m\n",
       "\u001b[0;34m\u001b[0m    \u001b[0mtable\u001b[0m\u001b[0;34m:\u001b[0m \u001b[0mstr\u001b[0m\u001b[0;34m,\u001b[0m\u001b[0;34m\u001b[0m\n",
       "\u001b[0;34m\u001b[0m    \u001b[0msave_mode\u001b[0m\u001b[0;34m:\u001b[0m \u001b[0mstr\u001b[0m \u001b[0;34m=\u001b[0m \u001b[0;34m'overwrite'\u001b[0m\u001b[0;34m,\u001b[0m\u001b[0;34m\u001b[0m\n",
       "\u001b[0;34m\u001b[0m    \u001b[0mpartitionBy\u001b[0m\u001b[0;34m:\u001b[0m \u001b[0mlist\u001b[0m \u001b[0;34m=\u001b[0m \u001b[0;32mNone\u001b[0m\u001b[0;34m,\u001b[0m\u001b[0;34m\u001b[0m\n",
       "\u001b[0;34m\u001b[0m\u001b[0;34m)\u001b[0m\u001b[0;34m\u001b[0m\u001b[0;34m\u001b[0m\u001b[0m\n",
       "\u001b[0;31mDocstring:\u001b[0m\n",
       "table - полный путь к таблице\n",
       "save_mode - перезапись таблицы или добавление строк в существующую ['overwrite', 'append']\n",
       "partitionBy - ключ партиционирования\n",
       "\u001b[0;31mFile:\u001b[0m      ~/work/Spark_conn/connector.py\n",
       "\u001b[0;31mType:\u001b[0m      method"
      ]
     },
     "metadata": {},
     "output_type": "display_data"
    }
   ],
   "source": [
    "con.save_table?"
   ]
  },
  {
   "cell_type": "code",
   "execution_count": 17,
   "id": "1bdcd27f-bfc0-47ca-87e6-533134a454fe",
   "metadata": {},
   "outputs": [
    {
     "data": {
      "text/plain": [
       "\u001b[0;31mSignature:\u001b[0m\n",
       "\u001b[0mcon\u001b[0m\u001b[0;34m.\u001b[0m\u001b[0mclickhouse_save_table\u001b[0m\u001b[0;34m(\u001b[0m\u001b[0;34m\u001b[0m\n",
       "\u001b[0;34m\u001b[0m    \u001b[0mdf\u001b[0m\u001b[0;34m:\u001b[0m \u001b[0mpyspark\u001b[0m\u001b[0;34m.\u001b[0m\u001b[0msql\u001b[0m\u001b[0;34m.\u001b[0m\u001b[0mdataframe\u001b[0m\u001b[0;34m.\u001b[0m\u001b[0mDataFrame\u001b[0m\u001b[0;34m,\u001b[0m\u001b[0;34m\u001b[0m\n",
       "\u001b[0;34m\u001b[0m    \u001b[0mtable\u001b[0m\u001b[0;34m:\u001b[0m \u001b[0mstr\u001b[0m\u001b[0;34m,\u001b[0m\u001b[0;34m\u001b[0m\n",
       "\u001b[0;34m\u001b[0m    \u001b[0murl\u001b[0m\u001b[0;34m:\u001b[0m \u001b[0mstr\u001b[0m\u001b[0;34m,\u001b[0m\u001b[0;34m\u001b[0m\n",
       "\u001b[0;34m\u001b[0m    \u001b[0morderBy\u001b[0m\u001b[0;34m:\u001b[0m \u001b[0mstr\u001b[0m\u001b[0;34m,\u001b[0m\u001b[0;34m\u001b[0m\n",
       "\u001b[0;34m\u001b[0m    \u001b[0muser\u001b[0m\u001b[0;34m:\u001b[0m \u001b[0mstr\u001b[0m\u001b[0;34m,\u001b[0m\u001b[0;34m\u001b[0m\n",
       "\u001b[0;34m\u001b[0m    \u001b[0mpassword\u001b[0m\u001b[0;34m:\u001b[0m \u001b[0mstr\u001b[0m\u001b[0;34m,\u001b[0m\u001b[0;34m\u001b[0m\n",
       "\u001b[0;34m\u001b[0m    \u001b[0msave_mode\u001b[0m\u001b[0;34m:\u001b[0m \u001b[0mstr\u001b[0m \u001b[0;34m=\u001b[0m \u001b[0;34m'overwrite'\u001b[0m\u001b[0;34m,\u001b[0m\u001b[0;34m\u001b[0m\n",
       "\u001b[0;34m\u001b[0m    \u001b[0mdriver\u001b[0m\u001b[0;34m:\u001b[0m \u001b[0mstr\u001b[0m \u001b[0;34m=\u001b[0m \u001b[0;34m'com.clickhouse.jdbc.ClickHouseDriver'\u001b[0m\u001b[0;34m,\u001b[0m\u001b[0;34m\u001b[0m\n",
       "\u001b[0;34m\u001b[0m\u001b[0;34m)\u001b[0m\u001b[0;34m\u001b[0m\u001b[0;34m\u001b[0m\u001b[0m\n",
       "\u001b[0;31mDocstring:\u001b[0m\n",
       "url = \"jdbc:clickhouse://<host>:<port>/<database>\"\n",
       "table = \"<table_name>\"\n",
       "orderBy = clickhouse MergeTree must be set order by (ID), where ID is orderBy arg\n",
       "user = \"<username>\"\n",
       "password = \"<password>\"\n",
       "driver = \"com.clickhouse.jdbc.ClickHouseDriver\"\n",
       "\u001b[0;31mFile:\u001b[0m      ~/work/Spark_conn/connector.py\n",
       "\u001b[0;31mType:\u001b[0m      method"
      ]
     },
     "metadata": {},
     "output_type": "display_data"
    }
   ],
   "source": [
    "con.clickhouse_save_table?"
   ]
  },
  {
   "cell_type": "code",
   "execution_count": 18,
   "id": "e3b9250e-6ace-4f11-9df1-79f42f2ed2a8",
   "metadata": {},
   "outputs": [
    {
     "data": {
      "text/plain": [
       "\u001b[0;31mSignature:\u001b[0m\n",
       "\u001b[0mcon\u001b[0m\u001b[0;34m.\u001b[0m\u001b[0mpostgres_save_table\u001b[0m\u001b[0;34m(\u001b[0m\u001b[0;34m\u001b[0m\n",
       "\u001b[0;34m\u001b[0m    \u001b[0mdf\u001b[0m\u001b[0;34m:\u001b[0m \u001b[0mpyspark\u001b[0m\u001b[0;34m.\u001b[0m\u001b[0msql\u001b[0m\u001b[0;34m.\u001b[0m\u001b[0mdataframe\u001b[0m\u001b[0;34m.\u001b[0m\u001b[0mDataFrame\u001b[0m\u001b[0;34m,\u001b[0m\u001b[0;34m\u001b[0m\n",
       "\u001b[0;34m\u001b[0m    \u001b[0mtable\u001b[0m\u001b[0;34m:\u001b[0m \u001b[0mstr\u001b[0m\u001b[0;34m,\u001b[0m\u001b[0;34m\u001b[0m\n",
       "\u001b[0;34m\u001b[0m    \u001b[0murl\u001b[0m\u001b[0;34m:\u001b[0m \u001b[0mstr\u001b[0m\u001b[0;34m,\u001b[0m\u001b[0;34m\u001b[0m\n",
       "\u001b[0;34m\u001b[0m    \u001b[0muser\u001b[0m\u001b[0;34m:\u001b[0m \u001b[0mstr\u001b[0m\u001b[0;34m,\u001b[0m\u001b[0;34m\u001b[0m\n",
       "\u001b[0;34m\u001b[0m    \u001b[0mpassword\u001b[0m\u001b[0;34m:\u001b[0m \u001b[0mstr\u001b[0m\u001b[0;34m,\u001b[0m\u001b[0;34m\u001b[0m\n",
       "\u001b[0;34m\u001b[0m    \u001b[0msave_mode\u001b[0m\u001b[0;34m:\u001b[0m \u001b[0mstr\u001b[0m \u001b[0;34m=\u001b[0m \u001b[0;34m'overwrite'\u001b[0m\u001b[0;34m,\u001b[0m\u001b[0;34m\u001b[0m\n",
       "\u001b[0;34m\u001b[0m    \u001b[0mdriver\u001b[0m\u001b[0;34m:\u001b[0m \u001b[0mstr\u001b[0m \u001b[0;34m=\u001b[0m \u001b[0;34m'org.postgresql.Driver'\u001b[0m\u001b[0;34m,\u001b[0m\u001b[0;34m\u001b[0m\n",
       "\u001b[0;34m\u001b[0m\u001b[0;34m)\u001b[0m\u001b[0;34m\u001b[0m\u001b[0;34m\u001b[0m\u001b[0m\n",
       "\u001b[0;31mDocstring:\u001b[0m\n",
       "url = путь/ДБ \"jdbc:postgresql://<host>:<port>/<database>\"\n",
       "table = название таблицы\n",
       "user = \"postgres\"\n",
       "password = \"password\"\n",
       "driver = \"org.postgresql.Driver\"\n",
       "\u001b[0;31mFile:\u001b[0m      ~/work/Spark_conn/connector.py\n",
       "\u001b[0;31mType:\u001b[0m      method"
      ]
     },
     "metadata": {},
     "output_type": "display_data"
    }
   ],
   "source": [
    "con.postgres_save_table?"
   ]
  },
  {
   "cell_type": "code",
   "execution_count": 19,
   "id": "cddccabf-588e-4f59-a592-427e6b6abcd6",
   "metadata": {},
   "outputs": [
    {
     "data": {
      "text/plain": [
       "\u001b[0;31mSignature:\u001b[0m \u001b[0mcon\u001b[0m\u001b[0;34m.\u001b[0m\u001b[0mdel_Checkpoints\u001b[0m\u001b[0;34m(\u001b[0m\u001b[0;34m)\u001b[0m \u001b[0;34m->\u001b[0m \u001b[0;32mNone\u001b[0m\u001b[0;34m\u001b[0m\u001b[0;34m\u001b[0m\u001b[0m\n",
       "\u001b[0;31mDocstring:\u001b[0m Метод очищает папку с чекпоинтами\n",
       "\u001b[0;31mFile:\u001b[0m      ~/work/Spark_conn/connector.py\n",
       "\u001b[0;31mType:\u001b[0m      method"
      ]
     },
     "metadata": {},
     "output_type": "display_data"
    }
   ],
   "source": [
    "con.del_Checkpoints?"
   ]
  },
  {
   "cell_type": "code",
   "execution_count": 20,
   "id": "1e857138-2e9e-4e19-a03b-a56db3b26cf3",
   "metadata": {},
   "outputs": [
    {
     "data": {
      "text/plain": [
       "\u001b[0;31mSignature:\u001b[0m \u001b[0mcon\u001b[0m\u001b[0;34m.\u001b[0m\u001b[0mstop_spark\u001b[0m\u001b[0;34m(\u001b[0m\u001b[0;34m)\u001b[0m \u001b[0;34m->\u001b[0m \u001b[0;32mNone\u001b[0m\u001b[0;34m\u001b[0m\u001b[0;34m\u001b[0m\u001b[0m\n",
       "\u001b[0;31mDocstring:\u001b[0m Метод закрывает сессию спарка и очищает папку с чекпоинтами\n",
       "\u001b[0;31mFile:\u001b[0m      ~/work/Spark_conn/connector.py\n",
       "\u001b[0;31mType:\u001b[0m      method"
      ]
     },
     "metadata": {},
     "output_type": "display_data"
    }
   ],
   "source": [
    "con.stop_spark?"
   ]
  },
  {
   "cell_type": "code",
   "execution_count": null,
   "id": "524d86e2-0193-46e2-9202-971e9a885143",
   "metadata": {},
   "outputs": [],
   "source": []
  },
  {
   "cell_type": "code",
   "execution_count": null,
   "id": "afb82092-e421-4ee6-827f-ad66812cb4c6",
   "metadata": {},
   "outputs": [],
   "source": []
  },
  {
   "cell_type": "code",
   "execution_count": null,
   "id": "bc6ddb94-cd96-438f-af12-c0683997f79e",
   "metadata": {},
   "outputs": [],
   "source": []
  },
  {
   "cell_type": "code",
   "execution_count": null,
   "id": "21743d7a-19de-49d5-afb3-427a1601a58b",
   "metadata": {},
   "outputs": [],
   "source": []
  },
  {
   "cell_type": "code",
   "execution_count": null,
   "id": "31ed63d0-1716-474e-bf2e-7ffa18a9fa2d",
   "metadata": {},
   "outputs": [],
   "source": []
  },
  {
   "cell_type": "code",
   "execution_count": 21,
   "id": "75b92a3a-78ce-46ca-8bb8-b9cc69c1df50",
   "metadata": {},
   "outputs": [],
   "source": [
    "from clickhouse_driver import Client\n",
    "\n",
    "client = Client(host='10.0.2.15', port=9000, user='utopialvo', password='utopialvo')"
   ]
  },
  {
   "cell_type": "code",
   "execution_count": 22,
   "id": "28e03d78-efe4-4b57-ab91-8f604e781a37",
   "metadata": {},
   "outputs": [
    {
     "data": {
      "text/plain": [
       "<clickhouse_driver.client.Client at 0x72095faaa0d0>"
      ]
     },
     "execution_count": 22,
     "metadata": {},
     "output_type": "execute_result"
    }
   ],
   "source": [
    "client"
   ]
  },
  {
   "cell_type": "code",
   "execution_count": 23,
   "id": "23150b38-c438-4099-9057-bb70d7808f93",
   "metadata": {},
   "outputs": [
    {
     "name": "stdout",
     "output_type": "stream",
     "text": [
      "[(1,)]\n"
     ]
    }
   ],
   "source": [
    "result = client.execute('SELECT 1')\n",
    "print(result)"
   ]
  },
  {
   "cell_type": "code",
   "execution_count": 44,
   "id": "dfc71096-616a-4de2-b8b9-263af663cc89",
   "metadata": {},
   "outputs": [
    {
     "data": {
      "text/plain": [
       "[]"
      ]
     },
     "execution_count": 44,
     "metadata": {},
     "output_type": "execute_result"
    }
   ],
   "source": [
    "client.execute('CREATE DATABASE IF NOT EXISTS testDB')"
   ]
  },
  {
   "cell_type": "code",
   "execution_count": 24,
   "id": "a196e100-4c74-412c-9957-8a9713179bed",
   "metadata": {},
   "outputs": [
    {
     "data": {
      "text/plain": [
       "[(Decimal('11908254'),\n",
       "  Decimal('0'),\n",
       "  'story',\n",
       "  'mechmind',\n",
       "  datetime.datetime(2016, 6, 15, 10, 6, 17),\n",
       "  '',\n",
       "  Decimal('0'),\n",
       "  Decimal('0'),\n",
       "  Decimal('0'),\n",
       "  ['1190923',\n",
       "   '191230',\n",
       "   '190966',\n",
       "   '190866',\n",
       "   '190888',\n",
       "   '190868',\n",
       "   '190934',\n",
       "   '190955',\n",
       "   '190957',\n",
       "   '190854',\n",
       "   '190898',\n",
       "   '196853',\n",
       "   '190913',\n",
       "   '191183',\n",
       "   '191033',\n",
       "   '191175'],\n",
       "  'https://clickhouse.yandex/reference_en.html',\n",
       "  Decimal('243'),\n",
       "  'ClickHouse – high-performance open-source distributed column-oriented DBMS',\n",
       "  [],\n",
       "  Decimal('70'))]"
      ]
     },
     "execution_count": 24,
     "metadata": {},
     "output_type": "execute_result"
    }
   ],
   "source": [
    "client.execute('SELECT * FROM postgres_materialized_db.hacker_news LIMIT 1')"
   ]
  },
  {
   "cell_type": "code",
   "execution_count": 25,
   "id": "9a117b70-1b2c-466f-84c9-6776a9dafd95",
   "metadata": {},
   "outputs": [],
   "source": [
    "import psycopg"
   ]
  },
  {
   "cell_type": "code",
   "execution_count": 26,
   "id": "52a2d865-e66b-4b1b-b08b-ef7343231845",
   "metadata": {},
   "outputs": [],
   "source": [
    "conn = psycopg.connect(\n",
    "dbname=\"clickhouse_pg_db\",\n",
    "user=\"utopialvo\",\n",
    "password=\"utopialvo\",\n",
    "host=\"10.0.2.15\",\n",
    "port=\"5432\"\n",
    ")"
   ]
  },
  {
   "cell_type": "code",
   "execution_count": 27,
   "id": "afa3a675-1bc5-4f60-b6db-c0770495aedf",
   "metadata": {},
   "outputs": [],
   "source": [
    "cur = conn.cursor()"
   ]
  },
  {
   "cell_type": "code",
   "execution_count": 28,
   "id": "95014cbe-4c0c-4bba-b338-8b8caeff3ec3",
   "metadata": {},
   "outputs": [
    {
     "data": {
      "text/plain": [
       "<psycopg.Cursor [TUPLES_OK] [INTRANS] (host=10.0.2.15 user=utopialvo database=clickhouse_pg_db) at 0x72095dab3e20>"
      ]
     },
     "execution_count": 28,
     "metadata": {},
     "output_type": "execute_result"
    }
   ],
   "source": [
    "cur.execute('SELECT * FROM hacker_news LIMIT 1')"
   ]
  },
  {
   "cell_type": "code",
   "execution_count": 29,
   "id": "9fa5f8ec-7362-4fa6-8a25-45cb43b512a6",
   "metadata": {},
   "outputs": [],
   "source": [
    "cur.close()\n",
    "conn.close()"
   ]
  },
  {
   "cell_type": "code",
   "execution_count": null,
   "id": "d9edeb54-cc30-4bc9-8ec7-5b1be0c83de4",
   "metadata": {},
   "outputs": [],
   "source": []
  },
  {
   "cell_type": "code",
   "execution_count": null,
   "id": "f4fac944-7ad4-4580-9ff4-07533538e8ba",
   "metadata": {},
   "outputs": [],
   "source": []
  },
  {
   "cell_type": "code",
   "execution_count": 30,
   "id": "d9121902-447b-463a-9fbb-b294ef78815c",
   "metadata": {},
   "outputs": [
    {
     "name": "stdout",
     "output_type": "stream",
     "text": [
      "root\n",
      " |-- id: decimal(38,18) (nullable = true)\n",
      " |-- deleted: decimal(38,18) (nullable = true)\n",
      " |-- type: string (nullable = true)\n",
      " |-- by: string (nullable = true)\n",
      " |-- time: timestamp (nullable = true)\n",
      " |-- text: string (nullable = true)\n",
      " |-- dead: decimal(38,18) (nullable = true)\n",
      " |-- parent: decimal(38,18) (nullable = true)\n",
      " |-- poll: decimal(38,18) (nullable = true)\n",
      " |-- kids: array (nullable = true)\n",
      " |    |-- element: string (containsNull = true)\n",
      " |-- url: string (nullable = true)\n",
      " |-- score: decimal(38,18) (nullable = true)\n",
      " |-- title: string (nullable = true)\n",
      " |-- parts: array (nullable = true)\n",
      " |    |-- element: string (containsNull = true)\n",
      " |-- descendants: decimal(38,18) (nullable = true)\n",
      "\n"
     ]
    }
   ],
   "source": [
    "con.postgres_read_table(url=\"jdbc:postgresql://10.0.2.15:5432/clickhouse_pg_db\",table='hacker_news',user='utopialvo', password='utopialvo').printSchema()"
   ]
  },
  {
   "cell_type": "code",
   "execution_count": 31,
   "id": "5677f01c-8a9f-4b78-b4db-786b377c4bba",
   "metadata": {
    "scrolled": true
   },
   "outputs": [],
   "source": [
    "data = con.postgres_read_table(url=\"jdbc:postgresql://10.0.2.15:5432/clickhouse_pg_db\",table='hacker_news',user='utopialvo', password='utopialvo')"
   ]
  },
  {
   "cell_type": "code",
   "execution_count": 32,
   "id": "fb4b0a86-7bfe-4ff9-aae4-011b6a088a2e",
   "metadata": {},
   "outputs": [
    {
     "name": "stdout",
     "output_type": "stream",
     "text": [
      "+--------------------+-------------------+\n",
      "|               title|               time|\n",
      "+--------------------+-------------------+\n",
      "|                    |2020-10-20 15:58:07|\n",
      "|                    |2019-11-23 13:58:53|\n",
      "|                    |2021-05-11 08:58:18|\n",
      "|                    |2021-09-20 22:25:29|\n",
      "|ClickHouse has ra...|2021-03-15 15:47:29|\n",
      "|                    |2021-09-20 17:42:47|\n",
      "|                    |2019-11-03 10:03:34|\n",
      "|                    |2020-05-06 08:12:56|\n",
      "|                    |2021-05-17 07:23:39|\n",
      "|                    |2021-05-17 10:29:40|\n",
      "|                    |2020-06-01 20:41:53|\n",
      "|                    |2020-04-06 20:49:44|\n",
      "|                    |2021-03-22 10:25:57|\n",
      "|                    |2018-04-11 14:52:34|\n",
      "|                    |2019-08-13 11:48:08|\n",
      "|                    |2020-03-02 19:49:32|\n",
      "|                    |2019-06-12 17:59:06|\n",
      "|                    |2021-07-28 23:21:04|\n",
      "|                    |2020-08-26 23:34:33|\n",
      "|                    |2019-05-15 03:07:34|\n",
      "+--------------------+-------------------+\n",
      "only showing top 20 rows\n",
      "\n"
     ]
    }
   ],
   "source": [
    "data.select('title','time').distinct().show()"
   ]
  },
  {
   "cell_type": "code",
   "execution_count": 33,
   "id": "15057e0e-1afb-491e-aff6-303c5cb48a38",
   "metadata": {},
   "outputs": [],
   "source": [
    "con.postgres_save_table(df=data.select('title','time').distinct(), table='test_table', url=\"jdbc:postgresql://10.0.2.15:5432/clickhouse_pg_db\",user='utopialvo', password='utopialvo')"
   ]
  },
  {
   "cell_type": "code",
   "execution_count": 34,
   "id": "ba300f0b-0be2-4845-8451-6c651fce2431",
   "metadata": {},
   "outputs": [
    {
     "name": "stdout",
     "output_type": "stream",
     "text": [
      "root\n",
      " |-- title: string (nullable = true)\n",
      " |-- time: timestamp (nullable = true)\n",
      "\n"
     ]
    }
   ],
   "source": [
    "con.postgres_read_table(url=\"jdbc:postgresql://10.0.2.15:5432/clickhouse_pg_db\",table='test_table',user='utopialvo', password='utopialvo').printSchema()"
   ]
  },
  {
   "cell_type": "code",
   "execution_count": 35,
   "id": "796a2ece-0e7a-478c-89bb-8d41579d4e0e",
   "metadata": {},
   "outputs": [],
   "source": [
    "data = con.postgres_read_table(url=\"jdbc:postgresql://10.0.2.15:5432/clickhouse_pg_db\",table='test_table',user='utopialvo', password='utopialvo')"
   ]
  },
  {
   "cell_type": "code",
   "execution_count": 36,
   "id": "82ca0876-dc3f-4a80-b5e5-61c7253ff6fa",
   "metadata": {},
   "outputs": [
    {
     "data": {
      "text/plain": [
       "DataFrame[title: string, time: timestamp]"
      ]
     },
     "execution_count": 36,
     "metadata": {},
     "output_type": "execute_result"
    }
   ],
   "source": [
    "data"
   ]
  },
  {
   "cell_type": "code",
   "execution_count": null,
   "id": "af421566-8e30-4433-b1b5-46b24dc9d242",
   "metadata": {},
   "outputs": [],
   "source": []
  },
  {
   "cell_type": "code",
   "execution_count": 39,
   "id": "e5fa8720-36ad-48c2-8814-390ad250f5d1",
   "metadata": {},
   "outputs": [],
   "source": [
    "data = data.checkpoint()"
   ]
  },
  {
   "cell_type": "code",
   "execution_count": 40,
   "id": "e1fd954f-0d6f-4ceb-9894-e1f0f50da7f1",
   "metadata": {},
   "outputs": [
    {
     "data": {
      "text/plain": [
       "DataFrame[title: string, time: timestamp]"
      ]
     },
     "execution_count": 40,
     "metadata": {},
     "output_type": "execute_result"
    }
   ],
   "source": [
    "data"
   ]
  },
  {
   "cell_type": "code",
   "execution_count": null,
   "id": "3e70ec36-b0a8-41ab-9bce-023ced6a3a5a",
   "metadata": {},
   "outputs": [],
   "source": []
  },
  {
   "cell_type": "code",
   "execution_count": 45,
   "id": "d8c06174-7096-4ea9-ad44-d3bff61ca31e",
   "metadata": {},
   "outputs": [],
   "source": [
    "con.clickhouse_save_table(df= data, table='test_table', url=\"jdbc:clickhouse://10.0.2.15:8123/testDB\", orderBy='time', user='utopialvo', password='utopialvo')"
   ]
  },
  {
   "cell_type": "code",
   "execution_count": null,
   "id": "9bc47b7d-4fcc-4498-af54-a903de5c716c",
   "metadata": {},
   "outputs": [],
   "source": []
  },
  {
   "cell_type": "code",
   "execution_count": 47,
   "id": "74baa9d3-c70e-4290-9c1f-9b70cae7d11a",
   "metadata": {
    "scrolled": true
   },
   "outputs": [],
   "source": [
    "data = con.clickhouse_read_table(url=\"jdbc:clickhouse://10.0.2.15:8123/testDB\", table='test_table', user='utopialvo', password='utopialvo')"
   ]
  },
  {
   "cell_type": "code",
   "execution_count": 48,
   "id": "09bb4391-d441-4510-8444-a728c9f2a792",
   "metadata": {},
   "outputs": [
    {
     "name": "stdout",
     "output_type": "stream",
     "text": [
      "root\n",
      " |-- title: string (nullable = true)\n",
      " |-- time: timestamp (nullable = true)\n",
      "\n"
     ]
    }
   ],
   "source": [
    "data.printSchema()"
   ]
  },
  {
   "cell_type": "code",
   "execution_count": null,
   "id": "f104a888-27af-402b-996f-46d56d4e01ee",
   "metadata": {},
   "outputs": [],
   "source": []
  },
  {
   "cell_type": "code",
   "execution_count": null,
   "id": "155c6496-fdee-48b0-80bf-5d34ee8245c7",
   "metadata": {},
   "outputs": [],
   "source": []
  },
  {
   "cell_type": "code",
   "execution_count": null,
   "id": "60fd07d0-e44b-45a1-8521-6d0dfba7e8dc",
   "metadata": {},
   "outputs": [],
   "source": []
  },
  {
   "cell_type": "code",
   "execution_count": 49,
   "id": "05e6861f-3163-44d7-85ee-83c070b6f5ca",
   "metadata": {},
   "outputs": [
    {
     "name": "stdout",
     "output_type": "stream",
     "text": [
      "time: 2024-12-21 10:59:30.610229\n",
      "del\n",
      "stop\n"
     ]
    }
   ],
   "source": [
    "#con.stop_spark()"
   ]
  },
  {
   "cell_type": "code",
   "execution_count": null,
   "id": "9d59faf2-962c-4c1c-8c15-534612f92458",
   "metadata": {},
   "outputs": [],
   "source": []
  }
 ],
 "metadata": {
  "kernelspec": {
   "display_name": "Python 3 (ipykernel)",
   "language": "python",
   "name": "python3"
  },
  "language_info": {
   "codemirror_mode": {
    "name": "ipython",
    "version": 3
   },
   "file_extension": ".py",
   "mimetype": "text/x-python",
   "name": "python",
   "nbconvert_exporter": "python",
   "pygments_lexer": "ipython3",
   "version": "3.11.10"
  },
  "widgets": {
   "application/vnd.jupyter.widget-state+json": {
    "state": {},
    "version_major": 2,
    "version_minor": 0
   }
  }
 },
 "nbformat": 4,
 "nbformat_minor": 5
}
