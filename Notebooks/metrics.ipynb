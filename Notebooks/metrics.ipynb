{
 "cells": [
  {
   "cell_type": "code",
   "execution_count": 1,
   "id": "8e16e37a-5fde-4f8e-bbd5-af6a9530fe33",
   "metadata": {},
   "outputs": [],
   "source": [
    "import sys\n",
    "import os\n",
    "src_path = os.path.abspath(os.path.join('..', 'src'))\n",
    "if src_path not in sys.path:\n",
    "    sys.path.append(src_path)"
   ]
  },
  {
   "cell_type": "code",
   "execution_count": 2,
   "id": "848d99e0-c9b2-40a6-b804-4db412381c75",
   "metadata": {},
   "outputs": [],
   "source": [
    "from connector import spark_connector"
   ]
  },
  {
   "cell_type": "code",
   "execution_count": 3,
   "id": "c87f29d7-5d5a-4569-ac50-808fcb14d249",
   "metadata": {},
   "outputs": [],
   "source": [
    "import pandas as pd\n",
    "import numpy as np\n",
    "from pyspark.sql import Window\n",
    "import pyspark.sql.functions as F\n",
    "import pyspark.sql.types as T"
   ]
  },
  {
   "cell_type": "code",
   "execution_count": 4,
   "id": "1a5f78cc-5def-4261-a961-b8a22fd49f3c",
   "metadata": {
    "scrolled": true
   },
   "outputs": [
    {
     "data": {
      "text/plain": [
       "\u001b[0;31mInit signature:\u001b[0m\n",
       "\u001b[0mspark_connector\u001b[0m\u001b[0;34m(\u001b[0m\u001b[0;34m\u001b[0m\n",
       "\u001b[0;34m\u001b[0m    \u001b[0mexec_inst\u001b[0m\u001b[0;34m:\u001b[0m \u001b[0mint\u001b[0m \u001b[0;34m=\u001b[0m \u001b[0;36m100\u001b[0m\u001b[0;34m,\u001b[0m\u001b[0;34m\u001b[0m\n",
       "\u001b[0;34m\u001b[0m    \u001b[0mexec_cores\u001b[0m\u001b[0;34m:\u001b[0m \u001b[0mint\u001b[0m \u001b[0;34m=\u001b[0m \u001b[0;36m5\u001b[0m\u001b[0;34m,\u001b[0m\u001b[0;34m\u001b[0m\n",
       "\u001b[0;34m\u001b[0m    \u001b[0maloc_max\u001b[0m\u001b[0;34m:\u001b[0m \u001b[0mint\u001b[0m \u001b[0;34m=\u001b[0m \u001b[0;36m500\u001b[0m\u001b[0;34m,\u001b[0m\u001b[0;34m\u001b[0m\n",
       "\u001b[0;34m\u001b[0m    \u001b[0mmemory_exec\u001b[0m\u001b[0;34m:\u001b[0m \u001b[0mint\u001b[0m \u001b[0;34m=\u001b[0m \u001b[0;36m25\u001b[0m\u001b[0;34m,\u001b[0m\u001b[0;34m\u001b[0m\n",
       "\u001b[0;34m\u001b[0m    \u001b[0mname\u001b[0m\u001b[0;34m:\u001b[0m \u001b[0mobject\u001b[0m \u001b[0;34m=\u001b[0m \u001b[0;34m'utopialvo'\u001b[0m\u001b[0;34m,\u001b[0m\u001b[0;34m\u001b[0m\n",
       "\u001b[0;34m\u001b[0m    \u001b[0mrootdir\u001b[0m\u001b[0;34m:\u001b[0m \u001b[0mobject\u001b[0m \u001b[0;34m=\u001b[0m \u001b[0;34m'remote_dir_in_hdft'\u001b[0m\u001b[0;34m,\u001b[0m\u001b[0;34m\u001b[0m\n",
       "\u001b[0;34m\u001b[0m    \u001b[0menable_graphframes\u001b[0m\u001b[0;34m:\u001b[0m \u001b[0mbool\u001b[0m \u001b[0;34m=\u001b[0m \u001b[0;32mFalse\u001b[0m\u001b[0;34m,\u001b[0m\u001b[0;34m\u001b[0m\n",
       "\u001b[0;34m\u001b[0m    \u001b[0menable_clickhouse\u001b[0m\u001b[0;34m:\u001b[0m \u001b[0mbool\u001b[0m \u001b[0;34m=\u001b[0m \u001b[0;32mFalse\u001b[0m\u001b[0;34m,\u001b[0m\u001b[0;34m\u001b[0m\n",
       "\u001b[0;34m\u001b[0m    \u001b[0menable_postgres\u001b[0m\u001b[0;34m:\u001b[0m \u001b[0mbool\u001b[0m \u001b[0;34m=\u001b[0m \u001b[0;32mFalse\u001b[0m\u001b[0;34m,\u001b[0m\u001b[0;34m\u001b[0m\n",
       "\u001b[0;34m\u001b[0m    \u001b[0mdynamic_allocation\u001b[0m\u001b[0;34m:\u001b[0m \u001b[0mbool\u001b[0m \u001b[0;34m=\u001b[0m \u001b[0;32mFalse\u001b[0m\u001b[0;34m,\u001b[0m\u001b[0;34m\u001b[0m\n",
       "\u001b[0;34m\u001b[0m    \u001b[0mintensive_mode\u001b[0m\u001b[0;34m:\u001b[0m \u001b[0mbool\u001b[0m \u001b[0;34m=\u001b[0m \u001b[0;32mFalse\u001b[0m\u001b[0;34m,\u001b[0m\u001b[0;34m\u001b[0m\n",
       "\u001b[0;34m\u001b[0m    \u001b[0mmarshal_mode\u001b[0m\u001b[0;34m:\u001b[0m \u001b[0mbool\u001b[0m \u001b[0;34m=\u001b[0m \u001b[0;32mTrue\u001b[0m\u001b[0;34m,\u001b[0m\u001b[0;34m\u001b[0m\n",
       "\u001b[0;34m\u001b[0m    \u001b[0myarn\u001b[0m\u001b[0;34m:\u001b[0m \u001b[0mbool\u001b[0m \u001b[0;34m=\u001b[0m \u001b[0;32mTrue\u001b[0m\u001b[0;34m,\u001b[0m\u001b[0;34m\u001b[0m\n",
       "\u001b[0;34m\u001b[0m\u001b[0;34m)\u001b[0m \u001b[0;34m->\u001b[0m \u001b[0;32mNone\u001b[0m\u001b[0;34m\u001b[0m\u001b[0;34m\u001b[0m\u001b[0m\n",
       "\u001b[0;31mDocstring:\u001b[0m     \n",
       "Класс стандартного подключения к Spark\n",
       "\n",
       "exec_inst - количество контейнеров\n",
       "exec_cores - количество ядер в контейнере\n",
       "aloc_max - максимальное количество ядер для dynamic_allocation (если он вкл)\n",
       "memory_exec - количество памяти в контейнере\n",
       "name - название подключения для упрощения логгирования подключений в кластере\n",
       "rootdir - корневая папка в HDFS \n",
       "enable_graphframes - включить работу с graphframes\n",
       "enable_clickhouse - включить работу с clickhouse\n",
       "enable_postgres - включить работу с postgres\n",
       "dynamic_allocation - включить динамическое выделение ресурсов\n",
       "intensive_mode - включить мод с быстрой очисткой памяти (нужно тюнить параметры для конкретных случаев)\n",
       "marshal_mode - подключить Marshal Serializer вместо Kryo Serializer\n",
       "\n",
       "\n",
       "Для подключения (standalone, yarn, k8s) нужно модернизировать самостоятельно в зависимости от того, как был развернут кластер.\n",
       "To Do:\n",
       "spark.master=yarn\n",
       "spark.deploy-mode=client\n",
       "\n",
       "SPARK_HOME\n",
       "JAVA_HOME\n",
       "PYSPARK_DRIVER_PYTHON\n",
       "PYSPARK_PYTHON\n",
       "HADOOP_HOME=/usr/local/hadoop-2.7.3\n",
       "HADOOP_CONF_HOME=/usr/local/hadoop-2.7.3/etc/hadoop\n",
       "HADOOP_CONF_DIR=/usr/local/hadoop-2.7.3/etc/hadoop\n",
       "HADOOP_PREFIX=/usr/local/hadoop-2.7.3\n",
       ".remote(\"sc://<sc_host>:<sc_port>\")\n",
       "\n",
       "fair_scheduler.xml - можно меять под себя.\n",
       "\u001b[0;31mFile:\u001b[0m           ~/work/Spark_conn/src/connector.py\n",
       "\u001b[0;31mType:\u001b[0m           type\n",
       "\u001b[0;31mSubclasses:\u001b[0m     "
      ]
     },
     "metadata": {},
     "output_type": "display_data"
    }
   ],
   "source": [
    "spark_connector?"
   ]
  },
  {
   "cell_type": "code",
   "execution_count": 5,
   "id": "63f39747-1e66-4940-950e-9a5a5bb6d87e",
   "metadata": {},
   "outputs": [],
   "source": [
    "con = spark_connector(exec_inst=100, exec_cores=5, memory_exec=25, enable_graphframes=True, marshal_mode=False, yarn = False)"
   ]
  },
  {
   "cell_type": "code",
   "execution_count": 6,
   "id": "fe5de47c-73a5-4dd9-bd40-8ef4d382b370",
   "metadata": {},
   "outputs": [
    {
     "data": {
      "text/html": [
       "\n",
       "            <div>\n",
       "                <p><b>SparkSession - hive</b></p>\n",
       "                \n",
       "        <div>\n",
       "            <p><b>SparkContext</b></p>\n",
       "\n",
       "            <p><a href=\"http://83e597714d90:4040\">Spark UI</a></p>\n",
       "\n",
       "            <dl>\n",
       "              <dt>Version</dt>\n",
       "                <dd><code>v3.5.3</code></dd>\n",
       "              <dt>Master</dt>\n",
       "                <dd><code>local[*]</code></dd>\n",
       "              <dt>AppName</dt>\n",
       "                <dd><code>utopialvo_2025-02-23_01:23:32.295864</code></dd>\n",
       "            </dl>\n",
       "        </div>\n",
       "        \n",
       "            </div>\n",
       "        "
      ],
      "text/plain": [
       "<pyspark.sql.session.SparkSession at 0x794996b6bf10>"
      ]
     },
     "execution_count": 6,
     "metadata": {},
     "output_type": "execute_result"
    }
   ],
   "source": [
    "con.spark"
   ]
  },
  {
   "cell_type": "code",
   "execution_count": null,
   "id": "ec18773e-12bf-4e3b-8801-3990cf1803c9",
   "metadata": {},
   "outputs": [],
   "source": []
  },
  {
   "cell_type": "markdown",
   "id": "cb0b251a-9297-4685-8a15-7918ab108d02",
   "metadata": {},
   "source": [
    "# Metrics"
   ]
  },
  {
   "cell_type": "code",
   "execution_count": 7,
   "id": "fb22af49-f52e-4143-9811-b605b92b4557",
   "metadata": {},
   "outputs": [],
   "source": [
    "#from metrics import Indices\n",
    "from metrics2 import Indices"
   ]
  },
  {
   "cell_type": "code",
   "execution_count": 8,
   "id": "56e3b2e1-9d6f-4043-8d6b-99ee58b16c6a",
   "metadata": {},
   "outputs": [],
   "source": [
    "# Тестовые данные\n",
    "raw_data = con.spark.createDataFrame([\n",
    "    (1, \"A\", 1.0, 2.0, 0),\n",
    "    (2, \"B\", 1.1, 2.1, 0),\n",
    "    (3, \"C\", 5.0, 6.0, 1),\n",
    "    (4, \"D\", 5.1, 6.1, 1)\n",
    "], [\"id\", \"category\", \"x\", \"y\", \"cluster\"])\n"
   ]
  },
  {
   "cell_type": "code",
   "execution_count": 9,
   "id": "2bed2ce5-9ab3-46e8-abb3-d3be116f1912",
   "metadata": {},
   "outputs": [],
   "source": [
    "centroids = con.spark.createDataFrame([\n",
    "    (0, 1.05, 2.05),\n",
    "    (1, 5.05, 6.05)\n",
    "], [\"cluster_id\", \"x\", 'y'])"
   ]
  },
  {
   "cell_type": "code",
   "execution_count": 10,
   "id": "24169e0e-7f8d-4a42-b1f9-b31a083ed8b2",
   "metadata": {},
   "outputs": [],
   "source": [
    "from pyspark.storagelevel import StorageLevel"
   ]
  },
  {
   "cell_type": "code",
   "execution_count": 11,
   "id": "788ce385-e3d9-4986-b2fd-ef375840b951",
   "metadata": {},
   "outputs": [],
   "source": [
    "raw_data.repartition(1).persist(StorageLevel.MEMORY_ONLY).foreach(lambda x: x)\n",
    "centroids.repartition(1).persist(StorageLevel.MEMORY_ONLY).foreach(lambda x: x)"
   ]
  },
  {
   "cell_type": "code",
   "execution_count": 15,
   "id": "93bb690e-42b5-4419-9352-e6ea658f42c1",
   "metadata": {},
   "outputs": [],
   "source": [
    "indices = Indices(feature_columns=['x','y'],label_col='cluster',centroid_cluster_col='cluster_id')"
   ]
  },
  {
   "cell_type": "code",
   "execution_count": 16,
   "id": "dd9b191a-b870-493c-b2af-8ccbb485d466",
   "metadata": {},
   "outputs": [
    {
     "name": "stdout",
     "output_type": "stream",
     "text": [
      "CPU times: user 487 ms, sys: 227 ms, total: 714 ms\n",
      "Wall time: 2min 54s\n"
     ]
    }
   ],
   "source": [
    "%%time\n",
    "metrics = indices.compute_indices(df= raw_data, centroids_df=centroids, num_clusters=2)"
   ]
  },
  {
   "cell_type": "code",
   "execution_count": 17,
   "id": "2085efea-1ea2-403f-8bca-23f9a1c81c95",
   "metadata": {},
   "outputs": [
    {
     "data": {
      "text/plain": [
       "{'Silhouette': 0.9993748047485543,\n",
       " 'WB-index': 0.0006249999999999984,\n",
       " 'XU-index': 2.776054458142581,\n",
       " 'Calinski-Harabasz': 3200.000000000008,\n",
       " 'WSS': 0.01999999999999995}"
      ]
     },
     "execution_count": 17,
     "metadata": {},
     "output_type": "execute_result"
    }
   ],
   "source": [
    "metrics"
   ]
  },
  {
   "cell_type": "code",
   "execution_count": null,
   "id": "f80372c6-4d00-41d6-8752-5893d50bf809",
   "metadata": {},
   "outputs": [],
   "source": []
  },
  {
   "cell_type": "code",
   "execution_count": null,
   "id": "014ad64f-fdca-40f2-846b-ce595289e003",
   "metadata": {},
   "outputs": [],
   "source": []
  },
  {
   "cell_type": "code",
   "execution_count": null,
   "id": "371d706d-2c42-4892-93ae-a07ec6e8810b",
   "metadata": {},
   "outputs": [],
   "source": []
  },
  {
   "cell_type": "code",
   "execution_count": null,
   "id": "ddd006a8-f76b-4fa9-a944-9bc25a3b6cef",
   "metadata": {},
   "outputs": [],
   "source": []
  },
  {
   "cell_type": "code",
   "execution_count": 18,
   "id": "f3f6a4c3-d09c-4e35-b018-75965bf8b073",
   "metadata": {},
   "outputs": [],
   "source": [
    "from metrics import Indices as Indices2"
   ]
  },
  {
   "cell_type": "code",
   "execution_count": 19,
   "id": "f38010ed-e950-484e-b820-35a0a2d30ad1",
   "metadata": {},
   "outputs": [],
   "source": [
    "indices2 = Indices2(feature_columns=['x','y'],label_col='cluster',centroid_cluster_col='cluster_id')"
   ]
  },
  {
   "cell_type": "code",
   "execution_count": 20,
   "id": "b734a909-6edc-4f56-adad-72aa611253ae",
   "metadata": {},
   "outputs": [
    {
     "name": "stdout",
     "output_type": "stream",
     "text": [
      "CPU times: user 458 ms, sys: 232 ms, total: 690 ms\n",
      "Wall time: 2min 46s\n"
     ]
    }
   ],
   "source": [
    "%%time\n",
    "metrics = indices2.compute_indices(df= raw_data, centroids_df=centroids, num_clusters=2)"
   ]
  },
  {
   "cell_type": "code",
   "execution_count": 21,
   "id": "b3c742f0-f776-4f0a-b1c0-4ec307eda4c3",
   "metadata": {},
   "outputs": [
    {
     "data": {
      "text/plain": [
       "{'Silhouette': 0.9993748047485543,\n",
       " 'WB-index': 0.0006249999999999984,\n",
       " 'XU-index': 2.776054458142581,\n",
       " 'Calinski-Harabasz': 3200.000000000008,\n",
       " 'WSS': 0.01999999999999995}"
      ]
     },
     "execution_count": 21,
     "metadata": {},
     "output_type": "execute_result"
    }
   ],
   "source": [
    "metrics"
   ]
  },
  {
   "cell_type": "code",
   "execution_count": null,
   "id": "199d535a-7d87-4448-8593-b905a3f0ed6a",
   "metadata": {},
   "outputs": [],
   "source": []
  },
  {
   "cell_type": "code",
   "execution_count": null,
   "id": "b42253f6-01d2-4235-9181-e7da08373b22",
   "metadata": {},
   "outputs": [],
   "source": []
  },
  {
   "cell_type": "code",
   "execution_count": null,
   "id": "dfb21994-c7f5-4f8c-bea0-9ff64820231a",
   "metadata": {},
   "outputs": [],
   "source": []
  },
  {
   "cell_type": "code",
   "execution_count": 23,
   "id": "a9ed909d-7342-40e1-b086-b18ea16343fc",
   "metadata": {},
   "outputs": [
    {
     "name": "stdout",
     "output_type": "stream",
     "text": [
      "time: 2025-02-23 01:43:37.126936\n",
      "dont del\n",
      "stop\n"
     ]
    }
   ],
   "source": [
    "#con.stop_spark()"
   ]
  },
  {
   "cell_type": "code",
   "execution_count": null,
   "id": "9b4bb490-77af-445a-9841-549349e649ce",
   "metadata": {},
   "outputs": [],
   "source": []
  },
  {
   "cell_type": "code",
   "execution_count": null,
   "id": "989c7704-59db-487e-bc56-cd47c0cca972",
   "metadata": {},
   "outputs": [],
   "source": []
  }
 ],
 "metadata": {
  "kernelspec": {
   "display_name": "Python 3 (ipykernel)",
   "language": "python",
   "name": "python3"
  },
  "language_info": {
   "codemirror_mode": {
    "name": "ipython",
    "version": 3
   },
   "file_extension": ".py",
   "mimetype": "text/x-python",
   "name": "python",
   "nbconvert_exporter": "python",
   "pygments_lexer": "ipython3",
   "version": "3.11.10"
  }
 },
 "nbformat": 4,
 "nbformat_minor": 5
}
