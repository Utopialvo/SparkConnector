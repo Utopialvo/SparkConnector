{
 "cells": [
  {
   "cell_type": "code",
   "execution_count": 1,
   "id": "2832a070-4fcf-42e5-bef8-9ce2bd57d686",
   "metadata": {},
   "outputs": [],
   "source": [
    "import sys\n",
    "import os\n",
    "src_path = os.path.abspath(os.path.join('..', 'src'))\n",
    "if src_path not in sys.path:\n",
    "    sys.path.append(src_path)"
   ]
  },
  {
   "cell_type": "code",
   "execution_count": 2,
   "id": "e369e1e2-d4af-41c9-ab40-efef9e593d40",
   "metadata": {},
   "outputs": [],
   "source": [
    "from connector import spark_connector"
   ]
  },
  {
   "cell_type": "code",
   "execution_count": 3,
   "id": "b985cdc7-b278-48e4-b02a-c80e565935b8",
   "metadata": {},
   "outputs": [],
   "source": [
    "import pandas as pd\n",
    "import numpy as np\n",
    "from pyspark.sql import Window\n",
    "import pyspark.sql.functions as F\n",
    "import pyspark.sql.types as T"
   ]
  },
  {
   "cell_type": "code",
   "execution_count": 4,
   "id": "27dfd98d-81fa-4fc6-8d14-41311bf9ac89",
   "metadata": {
    "scrolled": true
   },
   "outputs": [
    {
     "data": {
      "text/plain": [
       "\u001b[0;31mInit signature:\u001b[0m\n",
       "\u001b[0mspark_connector\u001b[0m\u001b[0;34m(\u001b[0m\u001b[0;34m\u001b[0m\n",
       "\u001b[0;34m\u001b[0m    \u001b[0mexec_inst\u001b[0m\u001b[0;34m:\u001b[0m \u001b[0mint\u001b[0m \u001b[0;34m=\u001b[0m \u001b[0;36m100\u001b[0m\u001b[0;34m,\u001b[0m\u001b[0;34m\u001b[0m\n",
       "\u001b[0;34m\u001b[0m    \u001b[0mexec_cores\u001b[0m\u001b[0;34m:\u001b[0m \u001b[0mint\u001b[0m \u001b[0;34m=\u001b[0m \u001b[0;36m5\u001b[0m\u001b[0;34m,\u001b[0m\u001b[0;34m\u001b[0m\n",
       "\u001b[0;34m\u001b[0m    \u001b[0maloc_max\u001b[0m\u001b[0;34m:\u001b[0m \u001b[0mint\u001b[0m \u001b[0;34m=\u001b[0m \u001b[0;36m500\u001b[0m\u001b[0;34m,\u001b[0m\u001b[0;34m\u001b[0m\n",
       "\u001b[0;34m\u001b[0m    \u001b[0mmemory_exec\u001b[0m\u001b[0;34m:\u001b[0m \u001b[0mint\u001b[0m \u001b[0;34m=\u001b[0m \u001b[0;36m25\u001b[0m\u001b[0;34m,\u001b[0m\u001b[0;34m\u001b[0m\n",
       "\u001b[0;34m\u001b[0m    \u001b[0mname\u001b[0m\u001b[0;34m:\u001b[0m \u001b[0mobject\u001b[0m \u001b[0;34m=\u001b[0m \u001b[0;34m'utopialvo'\u001b[0m\u001b[0;34m,\u001b[0m\u001b[0;34m\u001b[0m\n",
       "\u001b[0;34m\u001b[0m    \u001b[0mrootdir\u001b[0m\u001b[0;34m:\u001b[0m \u001b[0mobject\u001b[0m \u001b[0;34m=\u001b[0m \u001b[0;34m'remote_dir_in_hdft'\u001b[0m\u001b[0;34m,\u001b[0m\u001b[0;34m\u001b[0m\n",
       "\u001b[0;34m\u001b[0m    \u001b[0menable_graphframes\u001b[0m\u001b[0;34m:\u001b[0m \u001b[0mbool\u001b[0m \u001b[0;34m=\u001b[0m \u001b[0;32mFalse\u001b[0m\u001b[0;34m,\u001b[0m\u001b[0;34m\u001b[0m\n",
       "\u001b[0;34m\u001b[0m    \u001b[0menable_clickhouse\u001b[0m\u001b[0;34m:\u001b[0m \u001b[0mbool\u001b[0m \u001b[0;34m=\u001b[0m \u001b[0;32mFalse\u001b[0m\u001b[0;34m,\u001b[0m\u001b[0;34m\u001b[0m\n",
       "\u001b[0;34m\u001b[0m    \u001b[0menable_postgres\u001b[0m\u001b[0;34m:\u001b[0m \u001b[0mbool\u001b[0m \u001b[0;34m=\u001b[0m \u001b[0;32mFalse\u001b[0m\u001b[0;34m,\u001b[0m\u001b[0;34m\u001b[0m\n",
       "\u001b[0;34m\u001b[0m    \u001b[0mdynamic_allocation\u001b[0m\u001b[0;34m:\u001b[0m \u001b[0mbool\u001b[0m \u001b[0;34m=\u001b[0m \u001b[0;32mFalse\u001b[0m\u001b[0;34m,\u001b[0m\u001b[0;34m\u001b[0m\n",
       "\u001b[0;34m\u001b[0m    \u001b[0mintensive_mode\u001b[0m\u001b[0;34m:\u001b[0m \u001b[0mbool\u001b[0m \u001b[0;34m=\u001b[0m \u001b[0;32mFalse\u001b[0m\u001b[0;34m,\u001b[0m\u001b[0;34m\u001b[0m\n",
       "\u001b[0;34m\u001b[0m    \u001b[0mmarshal_mode\u001b[0m\u001b[0;34m:\u001b[0m \u001b[0mbool\u001b[0m \u001b[0;34m=\u001b[0m \u001b[0;32mTrue\u001b[0m\u001b[0;34m,\u001b[0m\u001b[0;34m\u001b[0m\n",
       "\u001b[0;34m\u001b[0m    \u001b[0myarn\u001b[0m\u001b[0;34m:\u001b[0m \u001b[0mbool\u001b[0m \u001b[0;34m=\u001b[0m \u001b[0;32mTrue\u001b[0m\u001b[0;34m,\u001b[0m\u001b[0;34m\u001b[0m\n",
       "\u001b[0;34m\u001b[0m\u001b[0;34m)\u001b[0m \u001b[0;34m->\u001b[0m \u001b[0;32mNone\u001b[0m\u001b[0;34m\u001b[0m\u001b[0;34m\u001b[0m\u001b[0m\n",
       "\u001b[0;31mDocstring:\u001b[0m     \n",
       "Класс стандартного подключения к Spark\n",
       "\n",
       "exec_inst - количество контейнеров\n",
       "exec_cores - количество ядер в контейнере\n",
       "aloc_max - максимальное количество ядер для dynamic_allocation (если он вкл)\n",
       "memory_exec - количество памяти в контейнере\n",
       "name - название подключения для упрощения логгирования подключений в кластере\n",
       "rootdir - корневая папка в HDFS \n",
       "enable_graphframes - включить работу с graphframes\n",
       "enable_clickhouse - включить работу с clickhouse\n",
       "enable_postgres - включить работу с postgres\n",
       "dynamic_allocation - включить динамическое выделение ресурсов\n",
       "intensive_mode - включить мод с быстрой очисткой памяти (нужно тюнить параметры для конкретных случаев)\n",
       "marshal_mode - подключить Marshal Serializer вместо Kryo Serializer\n",
       "\n",
       "\n",
       "Для подключения (standalone, yarn, k8s) нужно модернизировать самостоятельно в зависимости от того, как был развернут кластер.\n",
       "To Do:\n",
       "spark.master=yarn\n",
       "spark.deploy-mode=client\n",
       "\n",
       "SPARK_HOME\n",
       "JAVA_HOME\n",
       "PYSPARK_DRIVER_PYTHON\n",
       "PYSPARK_PYTHON\n",
       "HADOOP_HOME=/usr/local/hadoop-2.7.3\n",
       "HADOOP_CONF_HOME=/usr/local/hadoop-2.7.3/etc/hadoop\n",
       "HADOOP_CONF_DIR=/usr/local/hadoop-2.7.3/etc/hadoop\n",
       "HADOOP_PREFIX=/usr/local/hadoop-2.7.3\n",
       ".remote(\"sc://<sc_host>:<sc_port>\")\n",
       "\n",
       "fair_scheduler.xml - можно меять под себя.\n",
       "\u001b[0;31mFile:\u001b[0m           ~/work/Spark_conn/src/connector.py\n",
       "\u001b[0;31mType:\u001b[0m           type\n",
       "\u001b[0;31mSubclasses:\u001b[0m     "
      ]
     },
     "metadata": {},
     "output_type": "display_data"
    }
   ],
   "source": [
    "spark_connector?"
   ]
  },
  {
   "cell_type": "code",
   "execution_count": 5,
   "id": "8aeb1081-f745-4b5e-8809-6789c1c32dcb",
   "metadata": {},
   "outputs": [],
   "source": [
    "con = spark_connector(exec_inst=100, exec_cores=5, memory_exec=25, enable_graphframes=True, marshal_mode=False, yarn = False)"
   ]
  },
  {
   "cell_type": "code",
   "execution_count": 6,
   "id": "1eb3fdcc-7260-4f7f-9234-94ac4b0b5eb0",
   "metadata": {},
   "outputs": [
    {
     "data": {
      "text/html": [
       "\n",
       "            <div>\n",
       "                <p><b>SparkSession - hive</b></p>\n",
       "                \n",
       "        <div>\n",
       "            <p><b>SparkContext</b></p>\n",
       "\n",
       "            <p><a href=\"http://83e597714d90:4040\">Spark UI</a></p>\n",
       "\n",
       "            <dl>\n",
       "              <dt>Version</dt>\n",
       "                <dd><code>v3.5.3</code></dd>\n",
       "              <dt>Master</dt>\n",
       "                <dd><code>local[*]</code></dd>\n",
       "              <dt>AppName</dt>\n",
       "                <dd><code>utopialvo_2025-02-22_22:18:15.889548</code></dd>\n",
       "            </dl>\n",
       "        </div>\n",
       "        \n",
       "            </div>\n",
       "        "
      ],
      "text/plain": [
       "<pyspark.sql.session.SparkSession at 0x7511dbb3bad0>"
      ]
     },
     "execution_count": 6,
     "metadata": {},
     "output_type": "execute_result"
    }
   ],
   "source": [
    "con.spark"
   ]
  },
  {
   "cell_type": "code",
   "execution_count": 7,
   "id": "f045179c-81f1-4d1a-b2c7-b222e08ebdcb",
   "metadata": {},
   "outputs": [],
   "source": [
    "#con.stop_spark()"
   ]
  },
  {
   "cell_type": "code",
   "execution_count": 8,
   "id": "bfb0fed0-8d9f-4f7e-9a19-56699329f58e",
   "metadata": {},
   "outputs": [],
   "source": [
    "from sklearn.datasets import make_blobs"
   ]
  },
  {
   "cell_type": "code",
   "execution_count": 9,
   "id": "55af1cff-9c9e-46cd-ab11-7d717abfa938",
   "metadata": {},
   "outputs": [],
   "source": [
    "X, y, c = make_blobs(n_samples=3000, n_features=2, centers=24, cluster_std=2.0, center_box=(-150.0, 15.0), shuffle=True, random_state=0, return_centers=True)"
   ]
  },
  {
   "cell_type": "code",
   "execution_count": 10,
   "id": "a63edbaf-f892-4510-82d0-575c2ac71c74",
   "metadata": {},
   "outputs": [],
   "source": [
    "data = pd.DataFrame(X, columns=[f'x{i+1}' for i in range(X.shape[1])])\n",
    "data['y'] = y\n",
    "data = data.merge(pd.DataFrame(c, columns=[f'centroids_{i+1}' for i in range(X.shape[1])]).reset_index(), left_on='y', right_on='index', how='left').drop('index', axis=1)"
   ]
  },
  {
   "cell_type": "code",
   "execution_count": 11,
   "id": "5cc255cf-18f1-4b60-9212-52eaf810d28d",
   "metadata": {},
   "outputs": [
    {
     "data": {
      "text/html": [
       "<div>\n",
       "<style scoped>\n",
       "    .dataframe tbody tr th:only-of-type {\n",
       "        vertical-align: middle;\n",
       "    }\n",
       "\n",
       "    .dataframe tbody tr th {\n",
       "        vertical-align: top;\n",
       "    }\n",
       "\n",
       "    .dataframe thead th {\n",
       "        text-align: right;\n",
       "    }\n",
       "</style>\n",
       "<table border=\"1\" class=\"dataframe\">\n",
       "  <thead>\n",
       "    <tr style=\"text-align: right;\">\n",
       "      <th></th>\n",
       "      <th>x1</th>\n",
       "      <th>x2</th>\n",
       "      <th>y</th>\n",
       "      <th>centroids_1</th>\n",
       "      <th>centroids_2</th>\n",
       "    </tr>\n",
       "  </thead>\n",
       "  <tbody>\n",
       "    <tr>\n",
       "      <th>0</th>\n",
       "      <td>-77.318945</td>\n",
       "      <td>-3.597057</td>\n",
       "      <td>3</td>\n",
       "      <td>-77.798110</td>\n",
       "      <td>-2.857455</td>\n",
       "    </tr>\n",
       "    <tr>\n",
       "      <th>1</th>\n",
       "      <td>12.817300</td>\n",
       "      <td>-17.619172</td>\n",
       "      <td>10</td>\n",
       "      <td>11.472026</td>\n",
       "      <td>-18.138837</td>\n",
       "    </tr>\n",
       "    <tr>\n",
       "      <th>2</th>\n",
       "      <td>-149.464477</td>\n",
       "      <td>-12.268365</td>\n",
       "      <td>8</td>\n",
       "      <td>-146.663964</td>\n",
       "      <td>-12.617725</td>\n",
       "    </tr>\n",
       "    <tr>\n",
       "      <th>3</th>\n",
       "      <td>-122.328270</td>\n",
       "      <td>4.890742</td>\n",
       "      <td>13</td>\n",
       "      <td>-126.346708</td>\n",
       "      <td>5.870371</td>\n",
       "    </tr>\n",
       "    <tr>\n",
       "      <th>4</th>\n",
       "      <td>-131.024482</td>\n",
       "      <td>-41.878770</td>\n",
       "      <td>12</td>\n",
       "      <td>-130.484720</td>\n",
       "      <td>-44.413031</td>\n",
       "    </tr>\n",
       "    <tr>\n",
       "      <th>...</th>\n",
       "      <td>...</td>\n",
       "      <td>...</td>\n",
       "      <td>...</td>\n",
       "      <td>...</td>\n",
       "      <td>...</td>\n",
       "    </tr>\n",
       "    <tr>\n",
       "      <th>2995</th>\n",
       "      <td>-46.320679</td>\n",
       "      <td>-48.416270</td>\n",
       "      <td>18</td>\n",
       "      <td>-49.004206</td>\n",
       "      <td>-48.205891</td>\n",
       "    </tr>\n",
       "    <tr>\n",
       "      <th>2996</th>\n",
       "      <td>-110.356084</td>\n",
       "      <td>-129.900276</td>\n",
       "      <td>23</td>\n",
       "      <td>-115.286877</td>\n",
       "      <td>-128.727161</td>\n",
       "    </tr>\n",
       "    <tr>\n",
       "      <th>2997</th>\n",
       "      <td>-135.168822</td>\n",
       "      <td>-134.397013</td>\n",
       "      <td>7</td>\n",
       "      <td>-138.279050</td>\n",
       "      <td>-135.623666</td>\n",
       "    </tr>\n",
       "    <tr>\n",
       "      <th>2998</th>\n",
       "      <td>-75.226099</td>\n",
       "      <td>-22.631728</td>\n",
       "      <td>11</td>\n",
       "      <td>-73.855905</td>\n",
       "      <td>-21.212686</td>\n",
       "    </tr>\n",
       "    <tr>\n",
       "      <th>2999</th>\n",
       "      <td>-17.729645</td>\n",
       "      <td>-62.255938</td>\n",
       "      <td>5</td>\n",
       "      <td>-19.365369</td>\n",
       "      <td>-62.732338</td>\n",
       "    </tr>\n",
       "  </tbody>\n",
       "</table>\n",
       "<p>3000 rows × 5 columns</p>\n",
       "</div>"
      ],
      "text/plain": [
       "              x1          x2   y  centroids_1  centroids_2\n",
       "0     -77.318945   -3.597057   3   -77.798110    -2.857455\n",
       "1      12.817300  -17.619172  10    11.472026   -18.138837\n",
       "2    -149.464477  -12.268365   8  -146.663964   -12.617725\n",
       "3    -122.328270    4.890742  13  -126.346708     5.870371\n",
       "4    -131.024482  -41.878770  12  -130.484720   -44.413031\n",
       "...          ...         ...  ..          ...          ...\n",
       "2995  -46.320679  -48.416270  18   -49.004206   -48.205891\n",
       "2996 -110.356084 -129.900276  23  -115.286877  -128.727161\n",
       "2997 -135.168822 -134.397013   7  -138.279050  -135.623666\n",
       "2998  -75.226099  -22.631728  11   -73.855905   -21.212686\n",
       "2999  -17.729645  -62.255938   5   -19.365369   -62.732338\n",
       "\n",
       "[3000 rows x 5 columns]"
      ]
     },
     "execution_count": 11,
     "metadata": {},
     "output_type": "execute_result"
    }
   ],
   "source": [
    "data"
   ]
  },
  {
   "cell_type": "code",
   "execution_count": 12,
   "id": "3f1da762-0d9a-453a-9982-7d50bcbc7ade",
   "metadata": {},
   "outputs": [],
   "source": [
    "import seaborn as sns"
   ]
  },
  {
   "cell_type": "code",
   "execution_count": 13,
   "id": "329cc6f0-6280-4fe4-9c67-78d0c18093d1",
   "metadata": {},
   "outputs": [
    {
     "data": {
      "text/plain": [
       "<Axes: xlabel='x1', ylabel='x2'>"
      ]
     },
     "execution_count": 13,
     "metadata": {},
     "output_type": "execute_result"
    },
    {
     "data": {
      "image/png": "[encoded data removed]",
      "text/plain": [
       "<Figure size 640x480 with 1 Axes>"
      ]
     },
     "metadata": {},
     "output_type": "display_data"
    }
   ],
   "source": [
    "sns.scatterplot(x=data.x1, y=data.x2, hue=data.y)"
   ]
  },
  {
   "cell_type": "code",
   "execution_count": 14,
   "id": "c50c4a06-36c5-4462-834e-2ac2b62258c7",
   "metadata": {},
   "outputs": [],
   "source": [
    "data2 = data.reset_index(names='index_train').drop(['y','centroids_1','centroids_2'], axis=1)"
   ]
  },
  {
   "cell_type": "code",
   "execution_count": 15,
   "id": "f6c0d85b-e1c8-4d2f-9c50-a3ff71375c30",
   "metadata": {},
   "outputs": [
    {
     "data": {
      "text/html": [
       "<div>\n",
       "<style scoped>\n",
       "    .dataframe tbody tr th:only-of-type {\n",
       "        vertical-align: middle;\n",
       "    }\n",
       "\n",
       "    .dataframe tbody tr th {\n",
       "        vertical-align: top;\n",
       "    }\n",
       "\n",
       "    .dataframe thead th {\n",
       "        text-align: right;\n",
       "    }\n",
       "</style>\n",
       "<table border=\"1\" class=\"dataframe\">\n",
       "  <thead>\n",
       "    <tr style=\"text-align: right;\">\n",
       "      <th></th>\n",
       "      <th>index_train</th>\n",
       "      <th>x1</th>\n",
       "      <th>x2</th>\n",
       "    </tr>\n",
       "  </thead>\n",
       "  <tbody>\n",
       "    <tr>\n",
       "      <th>0</th>\n",
       "      <td>0</td>\n",
       "      <td>-77.318945</td>\n",
       "      <td>-3.597057</td>\n",
       "    </tr>\n",
       "    <tr>\n",
       "      <th>1</th>\n",
       "      <td>1</td>\n",
       "      <td>12.817300</td>\n",
       "      <td>-17.619172</td>\n",
       "    </tr>\n",
       "    <tr>\n",
       "      <th>2</th>\n",
       "      <td>2</td>\n",
       "      <td>-149.464477</td>\n",
       "      <td>-12.268365</td>\n",
       "    </tr>\n",
       "    <tr>\n",
       "      <th>3</th>\n",
       "      <td>3</td>\n",
       "      <td>-122.328270</td>\n",
       "      <td>4.890742</td>\n",
       "    </tr>\n",
       "    <tr>\n",
       "      <th>4</th>\n",
       "      <td>4</td>\n",
       "      <td>-131.024482</td>\n",
       "      <td>-41.878770</td>\n",
       "    </tr>\n",
       "    <tr>\n",
       "      <th>...</th>\n",
       "      <td>...</td>\n",
       "      <td>...</td>\n",
       "      <td>...</td>\n",
       "    </tr>\n",
       "    <tr>\n",
       "      <th>2995</th>\n",
       "      <td>2995</td>\n",
       "      <td>-46.320679</td>\n",
       "      <td>-48.416270</td>\n",
       "    </tr>\n",
       "    <tr>\n",
       "      <th>2996</th>\n",
       "      <td>2996</td>\n",
       "      <td>-110.356084</td>\n",
       "      <td>-129.900276</td>\n",
       "    </tr>\n",
       "    <tr>\n",
       "      <th>2997</th>\n",
       "      <td>2997</td>\n",
       "      <td>-135.168822</td>\n",
       "      <td>-134.397013</td>\n",
       "    </tr>\n",
       "    <tr>\n",
       "      <th>2998</th>\n",
       "      <td>2998</td>\n",
       "      <td>-75.226099</td>\n",
       "      <td>-22.631728</td>\n",
       "    </tr>\n",
       "    <tr>\n",
       "      <th>2999</th>\n",
       "      <td>2999</td>\n",
       "      <td>-17.729645</td>\n",
       "      <td>-62.255938</td>\n",
       "    </tr>\n",
       "  </tbody>\n",
       "</table>\n",
       "<p>3000 rows × 3 columns</p>\n",
       "</div>"
      ],
      "text/plain": [
       "      index_train          x1          x2\n",
       "0               0  -77.318945   -3.597057\n",
       "1               1   12.817300  -17.619172\n",
       "2               2 -149.464477  -12.268365\n",
       "3               3 -122.328270    4.890742\n",
       "4               4 -131.024482  -41.878770\n",
       "...           ...         ...         ...\n",
       "2995         2995  -46.320679  -48.416270\n",
       "2996         2996 -110.356084 -129.900276\n",
       "2997         2997 -135.168822 -134.397013\n",
       "2998         2998  -75.226099  -22.631728\n",
       "2999         2999  -17.729645  -62.255938\n",
       "\n",
       "[3000 rows x 3 columns]"
      ]
     },
     "execution_count": 15,
     "metadata": {},
     "output_type": "execute_result"
    }
   ],
   "source": [
    "data2"
   ]
  },
  {
   "cell_type": "code",
   "execution_count": 16,
   "id": "33552c72-4cd8-46e6-9118-3dfef1dd3cdc",
   "metadata": {},
   "outputs": [],
   "source": [
    "train_df = con.spark.createDataFrame(data2)"
   ]
  },
  {
   "cell_type": "code",
   "execution_count": null,
   "id": "193e871c-4ddd-499b-88cd-98760440316e",
   "metadata": {},
   "outputs": [],
   "source": []
  },
  {
   "cell_type": "markdown",
   "id": "1ec4e094-582a-4fa4-b860-d1e64656cb42",
   "metadata": {},
   "source": [
    "# HiClust"
   ]
  },
  {
   "cell_type": "code",
   "execution_count": 17,
   "id": "679e6e91-67a7-492a-a175-8bf1fd27634c",
   "metadata": {},
   "outputs": [],
   "source": [
    "from HiClust import HiClust"
   ]
  },
  {
   "cell_type": "code",
   "execution_count": 18,
   "id": "2d0f35c8-b25a-4009-98f2-e506065ca325",
   "metadata": {},
   "outputs": [
    {
     "data": {
      "text/plain": [
       "\u001b[0;31mInit signature:\u001b[0m\n",
       "\u001b[0mHiClust\u001b[0m\u001b[0;34m(\u001b[0m\u001b[0;34m\u001b[0m\n",
       "\u001b[0;34m\u001b[0m    \u001b[0mspark\u001b[0m\u001b[0;34m:\u001b[0m \u001b[0mpyspark\u001b[0m\u001b[0;34m.\u001b[0m\u001b[0msql\u001b[0m\u001b[0;34m.\u001b[0m\u001b[0msession\u001b[0m\u001b[0;34m.\u001b[0m\u001b[0mSparkSession\u001b[0m\u001b[0;34m,\u001b[0m\u001b[0;34m\u001b[0m\n",
       "\u001b[0;34m\u001b[0m    \u001b[0mtrain_df\u001b[0m\u001b[0;34m:\u001b[0m \u001b[0mpyspark\u001b[0m\u001b[0;34m.\u001b[0m\u001b[0msql\u001b[0m\u001b[0;34m.\u001b[0m\u001b[0mdataframe\u001b[0m\u001b[0;34m.\u001b[0m\u001b[0mDataFrame\u001b[0m\u001b[0;34m,\u001b[0m\u001b[0;34m\u001b[0m\n",
       "\u001b[0;34m\u001b[0m    \u001b[0mwindow_size\u001b[0m\u001b[0;34m=\u001b[0m\u001b[0;32mNone\u001b[0m\u001b[0;34m,\u001b[0m\u001b[0;34m\u001b[0m\n",
       "\u001b[0;34m\u001b[0m    \u001b[0midcol\u001b[0m\u001b[0;34m:\u001b[0m \u001b[0mstr\u001b[0m \u001b[0;34m=\u001b[0m \u001b[0;34m'index_train'\u001b[0m\u001b[0;34m,\u001b[0m\u001b[0;34m\u001b[0m\n",
       "\u001b[0;34m\u001b[0m\u001b[0;34m)\u001b[0m \u001b[0;34m->\u001b[0m \u001b[0;32mNone\u001b[0m\u001b[0;34m\u001b[0m\u001b[0;34m\u001b[0m\u001b[0m\n",
       "\u001b[0;31mDocstring:\u001b[0m      Кастомная иерархическая кластеризация\n",
       "\u001b[0;31mInit docstring:\u001b[0m\n",
       "Предобработка датасета для кластеризации.\n",
       "window_size - количество строк в партиции. Если не задано, подсчет происходит автоматически.\n",
       "Желательно нормализовать все столбцы кроме idcol. \n",
       "В объект следует передавать только фичи, по которым должна происходить кластеризация.\n",
       "\u001b[0;31mFile:\u001b[0m           ~/work/Spark_conn/src/HiClust.py\n",
       "\u001b[0;31mType:\u001b[0m           type\n",
       "\u001b[0;31mSubclasses:\u001b[0m     "
      ]
     },
     "metadata": {},
     "output_type": "display_data"
    }
   ],
   "source": [
    "HiClust?"
   ]
  },
  {
   "cell_type": "code",
   "execution_count": 42,
   "id": "257214ae-4674-46c2-be48-84277b16df59",
   "metadata": {},
   "outputs": [],
   "source": [
    "clust = HiClust(con.spark, train_df=train_df, idcol= 'index_train')"
   ]
  },
  {
   "cell_type": "code",
   "execution_count": 43,
   "id": "e8b91f7d-1bd4-40b5-b87a-1b63de942be2",
   "metadata": {},
   "outputs": [
    {
     "data": {
      "text/plain": [
       "\u001b[0;31mSignature:\u001b[0m\n",
       "\u001b[0mclust\u001b[0m\u001b[0;34m.\u001b[0m\u001b[0mfit\u001b[0m\u001b[0;34m(\u001b[0m\u001b[0;34m\u001b[0m\n",
       "\u001b[0;34m\u001b[0m    \u001b[0mmetric\u001b[0m\u001b[0;34m:\u001b[0m \u001b[0mstr\u001b[0m \u001b[0;34m=\u001b[0m \u001b[0;34m'euclidean'\u001b[0m\u001b[0;34m,\u001b[0m\u001b[0;34m\u001b[0m\n",
       "\u001b[0;34m\u001b[0m    \u001b[0mdistance_threshold\u001b[0m\u001b[0;34m:\u001b[0m \u001b[0mfloat\u001b[0m \u001b[0;34m=\u001b[0m \u001b[0;36m0.1\u001b[0m\u001b[0;34m,\u001b[0m\u001b[0;34m\u001b[0m\n",
       "\u001b[0;34m\u001b[0m    \u001b[0mmax_iterations\u001b[0m\u001b[0;34m:\u001b[0m \u001b[0mint\u001b[0m \u001b[0;34m=\u001b[0m \u001b[0;36m10\u001b[0m\u001b[0;34m,\u001b[0m\u001b[0;34m\u001b[0m\n",
       "\u001b[0;34m\u001b[0m    \u001b[0mauto_threshold\u001b[0m\u001b[0;34m:\u001b[0m \u001b[0mbool\u001b[0m \u001b[0;34m=\u001b[0m \u001b[0;32mFalse\u001b[0m\u001b[0;34m,\u001b[0m\u001b[0;34m\u001b[0m\n",
       "\u001b[0;34m\u001b[0m    \u001b[0mfind_top_one\u001b[0m\u001b[0;34m:\u001b[0m \u001b[0mbool\u001b[0m \u001b[0;34m=\u001b[0m \u001b[0;32mFalse\u001b[0m\u001b[0;34m,\u001b[0m\u001b[0;34m\u001b[0m\n",
       "\u001b[0;34m\u001b[0m\u001b[0;34m)\u001b[0m \u001b[0;34m->\u001b[0m \u001b[0;32mNone\u001b[0m\u001b[0;34m\u001b[0m\u001b[0;34m\u001b[0m\u001b[0m\n",
       "\u001b[0;31mDocstring:\u001b[0m <no docstring>\n",
       "\u001b[0;31mFile:\u001b[0m      ~/work/Spark_conn/src/HiClust.py\n",
       "\u001b[0;31mType:\u001b[0m      method"
      ]
     },
     "metadata": {},
     "output_type": "display_data"
    }
   ],
   "source": [
    "clust.fit?"
   ]
  },
  {
   "cell_type": "code",
   "execution_count": 44,
   "id": "aafdc0f9-f0b7-4710-ad57-c8179e075654",
   "metadata": {
    "scrolled": true
   },
   "outputs": [
    {
     "name": "stdout",
     "output_type": "stream",
     "text": [
      "iteration: 1, count clusters = 2475\n",
      "iteration: 2, count clusters = 2288\n",
      "iteration: 3, count clusters = 2127\n",
      "iteration: 4, count clusters = 1830\n",
      "iteration: 5, count clusters = 1428\n",
      "iteration: 6, count clusters = 988\n",
      "iteration: 7, count clusters = 476\n",
      "iteration: 8, count clusters = 136\n",
      "iteration: 9, count clusters = 26\n",
      "iteration: 10, count clusters = 22\n",
      "iteration: 11, count clusters = 19\n",
      "All distances exceed threshold 0.23\n"
     ]
    }
   ],
   "source": [
    "clust.fit(metric = 'euclidean', distance_threshold = 0.23, max_iterations = 20, auto_threshold=False, find_top_one=False)"
   ]
  },
  {
   "cell_type": "code",
   "execution_count": 58,
   "id": "f64bda06-4236-4047-a941-7899f7052500",
   "metadata": {},
   "outputs": [],
   "source": [
    "pred = clust.get_clusters(11).toPandas()"
   ]
  },
  {
   "cell_type": "code",
   "execution_count": 59,
   "id": "202d05d1-eeb8-4e30-8678-d722ff5c5bea",
   "metadata": {},
   "outputs": [],
   "source": [
    "pred = data.reset_index(names='index_train')[['index_train','y']].merge(pred, on='index_train', how='left')"
   ]
  },
  {
   "cell_type": "code",
   "execution_count": 60,
   "id": "281aad60-c227-4832-8778-d297036f5b59",
   "metadata": {},
   "outputs": [
    {
     "data": {
      "text/html": [
       "<div>\n",
       "<style scoped>\n",
       "    .dataframe tbody tr th:only-of-type {\n",
       "        vertical-align: middle;\n",
       "    }\n",
       "\n",
       "    .dataframe tbody tr th {\n",
       "        vertical-align: top;\n",
       "    }\n",
       "\n",
       "    .dataframe thead th {\n",
       "        text-align: right;\n",
       "    }\n",
       "</style>\n",
       "<table border=\"1\" class=\"dataframe\">\n",
       "  <thead>\n",
       "    <tr style=\"text-align: right;\">\n",
       "      <th></th>\n",
       "      <th>index_train</th>\n",
       "      <th>y</th>\n",
       "      <th>cluster_id_11</th>\n",
       "    </tr>\n",
       "  </thead>\n",
       "  <tbody>\n",
       "    <tr>\n",
       "      <th>0</th>\n",
       "      <td>0</td>\n",
       "      <td>3</td>\n",
       "      <td>30651</td>\n",
       "    </tr>\n",
       "    <tr>\n",
       "      <th>1</th>\n",
       "      <td>1</td>\n",
       "      <td>10</td>\n",
       "      <td>23957</td>\n",
       "    </tr>\n",
       "    <tr>\n",
       "      <th>2</th>\n",
       "      <td>2</td>\n",
       "      <td>8</td>\n",
       "      <td>30653</td>\n",
       "    </tr>\n",
       "    <tr>\n",
       "      <th>3</th>\n",
       "      <td>3</td>\n",
       "      <td>13</td>\n",
       "      <td>30654</td>\n",
       "    </tr>\n",
       "    <tr>\n",
       "      <th>4</th>\n",
       "      <td>4</td>\n",
       "      <td>12</td>\n",
       "      <td>30655</td>\n",
       "    </tr>\n",
       "    <tr>\n",
       "      <th>...</th>\n",
       "      <td>...</td>\n",
       "      <td>...</td>\n",
       "      <td>...</td>\n",
       "    </tr>\n",
       "    <tr>\n",
       "      <th>2995</th>\n",
       "      <td>2995</td>\n",
       "      <td>18</td>\n",
       "      <td>12058</td>\n",
       "    </tr>\n",
       "    <tr>\n",
       "      <th>2996</th>\n",
       "      <td>2996</td>\n",
       "      <td>23</td>\n",
       "      <td>15000</td>\n",
       "    </tr>\n",
       "    <tr>\n",
       "      <th>2997</th>\n",
       "      <td>2997</td>\n",
       "      <td>7</td>\n",
       "      <td>14998</td>\n",
       "    </tr>\n",
       "    <tr>\n",
       "      <th>2998</th>\n",
       "      <td>2998</td>\n",
       "      <td>11</td>\n",
       "      <td>4845</td>\n",
       "    </tr>\n",
       "    <tr>\n",
       "      <th>2999</th>\n",
       "      <td>2999</td>\n",
       "      <td>5</td>\n",
       "      <td>4387</td>\n",
       "    </tr>\n",
       "  </tbody>\n",
       "</table>\n",
       "<p>3000 rows × 3 columns</p>\n",
       "</div>"
      ],
      "text/plain": [
       "      index_train   y  cluster_id_11\n",
       "0               0   3          30651\n",
       "1               1  10          23957\n",
       "2               2   8          30653\n",
       "3               3  13          30654\n",
       "4               4  12          30655\n",
       "...           ...  ..            ...\n",
       "2995         2995  18          12058\n",
       "2996         2996  23          15000\n",
       "2997         2997   7          14998\n",
       "2998         2998  11           4845\n",
       "2999         2999   5           4387\n",
       "\n",
       "[3000 rows x 3 columns]"
      ]
     },
     "execution_count": 60,
     "metadata": {},
     "output_type": "execute_result"
    }
   ],
   "source": [
    "pred"
   ]
  },
  {
   "cell_type": "code",
   "execution_count": 61,
   "id": "c6a8d8b0-f985-44de-a317-c8f8d3b717ca",
   "metadata": {},
   "outputs": [],
   "source": [
    "from sklearn.metrics.cluster import adjusted_rand_score"
   ]
  },
  {
   "cell_type": "code",
   "execution_count": 62,
   "id": "36b6c299-7d4e-48e3-8328-6bddf7083371",
   "metadata": {},
   "outputs": [
    {
     "data": {
      "text/plain": [
       "0.2693117883449802"
      ]
     },
     "execution_count": 62,
     "metadata": {},
     "output_type": "execute_result"
    }
   ],
   "source": [
    "adjusted_rand_score(pred.y.tolist(), pred.cluster_id_11.tolist())"
   ]
  },
  {
   "cell_type": "code",
   "execution_count": null,
   "id": "57894252-fbca-4f15-bcdc-13a7ae29bf77",
   "metadata": {},
   "outputs": [],
   "source": []
  },
  {
   "cell_type": "code",
   "execution_count": null,
   "id": "75af5711-b241-430a-845a-becd1fe8c1e6",
   "metadata": {},
   "outputs": [],
   "source": []
  },
  {
   "cell_type": "code",
   "execution_count": null,
   "id": "f86f9053-f083-4297-961d-7a5b05d9eeda",
   "metadata": {},
   "outputs": [],
   "source": []
  },
  {
   "cell_type": "code",
   "execution_count": 63,
   "id": "cb0d798d-6e24-4dca-97b7-ad526c862c37",
   "metadata": {},
   "outputs": [
    {
     "name": "stdout",
     "output_type": "stream",
     "text": [
      "time: 2025-02-22 22:36:06.316571\n",
      "del\n",
      "stop\n"
     ]
    }
   ],
   "source": [
    "#con.stop_spark()"
   ]
  },
  {
   "cell_type": "code",
   "execution_count": null,
   "id": "7bea40a4-f11d-469c-a59c-cff05353889e",
   "metadata": {},
   "outputs": [],
   "source": []
  }
 ],
 "metadata": {
  "kernelspec": {
   "display_name": "Python 3 (ipykernel)",
   "language": "python",
   "name": "python3"
  },
  "language_info": {
   "codemirror_mode": {
    "name": "ipython",
    "version": 3
   },
   "file_extension": ".py",
   "mimetype": "text/x-python",
   "name": "python",
   "nbconvert_exporter": "python",
   "pygments_lexer": "ipython3",
   "version": "3.11.10"
  }
 },
 "nbformat": 4,
 "nbformat_minor": 5
}
