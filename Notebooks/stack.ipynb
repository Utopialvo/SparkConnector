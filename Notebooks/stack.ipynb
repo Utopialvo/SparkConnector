{
 "cells": [
  {
   "cell_type": "code",
   "execution_count": 1,
   "id": "b5f76e7c-2fc9-49b8-9afa-41146338b83e",
   "metadata": {},
   "outputs": [],
   "source": [
    "import sys\n",
    "import os\n",
    "src_path = os.path.abspath(os.path.join('..', 'src'))\n",
    "if src_path not in sys.path:\n",
    "    sys.path.append(src_path)"
   ]
  },
  {
   "cell_type": "code",
   "execution_count": 2,
   "id": "3001203e-3355-4e4e-9372-9b220ef229b2",
   "metadata": {},
   "outputs": [],
   "source": [
    "from connector import spark_connector"
   ]
  },
  {
   "cell_type": "code",
   "execution_count": 3,
   "id": "0de04d25-2ff7-4271-94d8-20c544568485",
   "metadata": {},
   "outputs": [],
   "source": [
    "import pandas as pd\n",
    "import numpy as np\n",
    "from pyspark.sql import Window\n",
    "import pyspark.sql.functions as F\n",
    "import pyspark.sql.types as T"
   ]
  },
  {
   "cell_type": "code",
   "execution_count": 4,
   "id": "f9b68bad-b1a5-4a10-9f6b-be087f7817a1",
   "metadata": {
    "scrolled": true
   },
   "outputs": [
    {
     "data": {
      "text/plain": [
       "\u001b[0;31mInit signature:\u001b[0m\n",
       "\u001b[0mspark_connector\u001b[0m\u001b[0;34m(\u001b[0m\u001b[0;34m\u001b[0m\n",
       "\u001b[0;34m\u001b[0m    \u001b[0mexec_inst\u001b[0m\u001b[0;34m:\u001b[0m \u001b[0mint\u001b[0m \u001b[0;34m=\u001b[0m \u001b[0;36m100\u001b[0m\u001b[0;34m,\u001b[0m\u001b[0;34m\u001b[0m\n",
       "\u001b[0;34m\u001b[0m    \u001b[0mexec_cores\u001b[0m\u001b[0;34m:\u001b[0m \u001b[0mint\u001b[0m \u001b[0;34m=\u001b[0m \u001b[0;36m5\u001b[0m\u001b[0;34m,\u001b[0m\u001b[0;34m\u001b[0m\n",
       "\u001b[0;34m\u001b[0m    \u001b[0maloc_max\u001b[0m\u001b[0;34m:\u001b[0m \u001b[0mint\u001b[0m \u001b[0;34m=\u001b[0m \u001b[0;36m500\u001b[0m\u001b[0;34m,\u001b[0m\u001b[0;34m\u001b[0m\n",
       "\u001b[0;34m\u001b[0m    \u001b[0mmemory_exec\u001b[0m\u001b[0;34m:\u001b[0m \u001b[0mint\u001b[0m \u001b[0;34m=\u001b[0m \u001b[0;36m25\u001b[0m\u001b[0;34m,\u001b[0m\u001b[0;34m\u001b[0m\n",
       "\u001b[0;34m\u001b[0m    \u001b[0mname\u001b[0m\u001b[0;34m:\u001b[0m \u001b[0mobject\u001b[0m \u001b[0;34m=\u001b[0m \u001b[0;34m'utopialvo'\u001b[0m\u001b[0;34m,\u001b[0m\u001b[0;34m\u001b[0m\n",
       "\u001b[0;34m\u001b[0m    \u001b[0mrootdir\u001b[0m\u001b[0;34m:\u001b[0m \u001b[0mobject\u001b[0m \u001b[0;34m=\u001b[0m \u001b[0;34m'remote_dir_in_hdft'\u001b[0m\u001b[0;34m,\u001b[0m\u001b[0;34m\u001b[0m\n",
       "\u001b[0;34m\u001b[0m    \u001b[0menable_graphframes\u001b[0m\u001b[0;34m:\u001b[0m \u001b[0mbool\u001b[0m \u001b[0;34m=\u001b[0m \u001b[0;32mFalse\u001b[0m\u001b[0;34m,\u001b[0m\u001b[0;34m\u001b[0m\n",
       "\u001b[0;34m\u001b[0m    \u001b[0menable_clickhouse\u001b[0m\u001b[0;34m:\u001b[0m \u001b[0mbool\u001b[0m \u001b[0;34m=\u001b[0m \u001b[0;32mFalse\u001b[0m\u001b[0;34m,\u001b[0m\u001b[0;34m\u001b[0m\n",
       "\u001b[0;34m\u001b[0m    \u001b[0menable_postgres\u001b[0m\u001b[0;34m:\u001b[0m \u001b[0mbool\u001b[0m \u001b[0;34m=\u001b[0m \u001b[0;32mFalse\u001b[0m\u001b[0;34m,\u001b[0m\u001b[0;34m\u001b[0m\n",
       "\u001b[0;34m\u001b[0m    \u001b[0mdynamic_allocation\u001b[0m\u001b[0;34m:\u001b[0m \u001b[0mbool\u001b[0m \u001b[0;34m=\u001b[0m \u001b[0;32mFalse\u001b[0m\u001b[0;34m,\u001b[0m\u001b[0;34m\u001b[0m\n",
       "\u001b[0;34m\u001b[0m    \u001b[0mintensive_mode\u001b[0m\u001b[0;34m:\u001b[0m \u001b[0mbool\u001b[0m \u001b[0;34m=\u001b[0m \u001b[0;32mFalse\u001b[0m\u001b[0;34m,\u001b[0m\u001b[0;34m\u001b[0m\n",
       "\u001b[0;34m\u001b[0m    \u001b[0mmarshal_mode\u001b[0m\u001b[0;34m:\u001b[0m \u001b[0mbool\u001b[0m \u001b[0;34m=\u001b[0m \u001b[0;32mTrue\u001b[0m\u001b[0;34m,\u001b[0m\u001b[0;34m\u001b[0m\n",
       "\u001b[0;34m\u001b[0m    \u001b[0myarn\u001b[0m\u001b[0;34m:\u001b[0m \u001b[0mbool\u001b[0m \u001b[0;34m=\u001b[0m \u001b[0;32mTrue\u001b[0m\u001b[0;34m,\u001b[0m\u001b[0;34m\u001b[0m\n",
       "\u001b[0;34m\u001b[0m\u001b[0;34m)\u001b[0m \u001b[0;34m->\u001b[0m \u001b[0;32mNone\u001b[0m\u001b[0;34m\u001b[0m\u001b[0;34m\u001b[0m\u001b[0m\n",
       "\u001b[0;31mDocstring:\u001b[0m     \n",
       "Класс стандартного подключения к Spark\n",
       "\n",
       "exec_inst - количество контейнеров\n",
       "exec_cores - количество ядер в контейнере\n",
       "aloc_max - максимальное количество ядер для dynamic_allocation (если он вкл)\n",
       "memory_exec - количество памяти в контейнере\n",
       "name - название подключения для упрощения логгирования подключений в кластере\n",
       "rootdir - корневая папка в HDFS \n",
       "enable_graphframes - включить работу с graphframes\n",
       "enable_clickhouse - включить работу с clickhouse\n",
       "enable_postgres - включить работу с postgres\n",
       "dynamic_allocation - включить динамическое выделение ресурсов\n",
       "intensive_mode - включить мод с быстрой очисткой памяти (нужно тюнить параметры для конкретных случаев)\n",
       "marshal_mode - подключить Marshal Serializer вместо Kryo Serializer\n",
       "\n",
       "\n",
       "Для подключения (standalone, yarn, k8s) нужно модернизировать самостоятельно в зависимости от того, как был развернут кластер.\n",
       "To Do:\n",
       "spark.master=yarn\n",
       "spark.deploy-mode=client\n",
       "\n",
       "SPARK_HOME\n",
       "JAVA_HOME\n",
       "PYSPARK_DRIVER_PYTHON\n",
       "PYSPARK_PYTHON\n",
       "HADOOP_HOME=/usr/local/hadoop-2.7.3\n",
       "HADOOP_CONF_HOME=/usr/local/hadoop-2.7.3/etc/hadoop\n",
       "HADOOP_CONF_DIR=/usr/local/hadoop-2.7.3/etc/hadoop\n",
       "HADOOP_PREFIX=/usr/local/hadoop-2.7.3\n",
       ".remote(\"sc://<sc_host>:<sc_port>\")\n",
       "\n",
       "fair_scheduler.xml - можно меять под себя.\n",
       "\u001b[0;31mFile:\u001b[0m           ~/work/Spark_conn/src/connector.py\n",
       "\u001b[0;31mType:\u001b[0m           type\n",
       "\u001b[0;31mSubclasses:\u001b[0m     "
      ]
     },
     "metadata": {},
     "output_type": "display_data"
    }
   ],
   "source": [
    "spark_connector?"
   ]
  },
  {
   "cell_type": "code",
   "execution_count": 5,
   "id": "6271db1e-8661-4327-b7fb-980c4df76017",
   "metadata": {},
   "outputs": [],
   "source": [
    "con = spark_connector(exec_inst=100, exec_cores=5, memory_exec=25, enable_graphframes=True, marshal_mode=False, yarn = False)"
   ]
  },
  {
   "cell_type": "code",
   "execution_count": 6,
   "id": "575f9922-c2cb-492e-a0b6-ca9d5d44381b",
   "metadata": {},
   "outputs": [
    {
     "data": {
      "text/html": [
       "\n",
       "            <div>\n",
       "                <p><b>SparkSession - hive</b></p>\n",
       "                \n",
       "        <div>\n",
       "            <p><b>SparkContext</b></p>\n",
       "\n",
       "            <p><a href=\"http://83e597714d90:4040\">Spark UI</a></p>\n",
       "\n",
       "            <dl>\n",
       "              <dt>Version</dt>\n",
       "                <dd><code>v3.5.3</code></dd>\n",
       "              <dt>Master</dt>\n",
       "                <dd><code>local[*]</code></dd>\n",
       "              <dt>AppName</dt>\n",
       "                <dd><code>utopialvo_2025-02-22_21:47:32.973495</code></dd>\n",
       "            </dl>\n",
       "        </div>\n",
       "        \n",
       "            </div>\n",
       "        "
      ],
      "text/plain": [
       "<pyspark.sql.session.SparkSession at 0x78545ac76cd0>"
      ]
     },
     "execution_count": 6,
     "metadata": {},
     "output_type": "execute_result"
    }
   ],
   "source": [
    "con.spark"
   ]
  },
  {
   "cell_type": "code",
   "execution_count": 7,
   "id": "70a0dc1f-3527-441f-853a-b2450b2492cf",
   "metadata": {},
   "outputs": [],
   "source": [
    "from sklearn.datasets import make_blobs"
   ]
  },
  {
   "cell_type": "code",
   "execution_count": 8,
   "id": "aa627ac7-ab5f-48c3-b501-0de9b8c20d43",
   "metadata": {},
   "outputs": [],
   "source": [
    "X, y, c = make_blobs(n_samples=1000, n_features=5, centers=2, cluster_std=1.0, center_box=(-15.0, 15.0), shuffle=True, random_state=0, return_centers=True)"
   ]
  },
  {
   "cell_type": "code",
   "execution_count": 9,
   "id": "88500843-b6c8-40bc-bb98-b7a908c67f97",
   "metadata": {},
   "outputs": [],
   "source": [
    "data = pd.DataFrame(X, columns=[f'x{i+1}' for i in range(X.shape[1])])\n",
    "data['y'] = y\n",
    "data = data.merge(pd.DataFrame(c, columns=[f'centroids_{i+1}' for i in range(X.shape[1])]).reset_index(), left_on='y', right_on='index', how='left').drop('index', axis=1)"
   ]
  },
  {
   "cell_type": "code",
   "execution_count": 10,
   "id": "f46bb4a1-09d4-431a-bab8-33676f6de8e5",
   "metadata": {},
   "outputs": [
    {
     "data": {
      "text/html": [
       "<div>\n",
       "<style scoped>\n",
       "    .dataframe tbody tr th:only-of-type {\n",
       "        vertical-align: middle;\n",
       "    }\n",
       "\n",
       "    .dataframe tbody tr th {\n",
       "        vertical-align: top;\n",
       "    }\n",
       "\n",
       "    .dataframe thead th {\n",
       "        text-align: right;\n",
       "    }\n",
       "</style>\n",
       "<table border=\"1\" class=\"dataframe\">\n",
       "  <thead>\n",
       "    <tr style=\"text-align: right;\">\n",
       "      <th></th>\n",
       "      <th>x1</th>\n",
       "      <th>x2</th>\n",
       "      <th>x3</th>\n",
       "      <th>x4</th>\n",
       "      <th>x5</th>\n",
       "      <th>y</th>\n",
       "      <th>centroids_1</th>\n",
       "      <th>centroids_2</th>\n",
       "      <th>centroids_3</th>\n",
       "      <th>centroids_4</th>\n",
       "      <th>centroids_5</th>\n",
       "    </tr>\n",
       "  </thead>\n",
       "  <tbody>\n",
       "    <tr>\n",
       "      <th>0</th>\n",
       "      <td>0.756020</td>\n",
       "      <td>6.439902</td>\n",
       "      <td>2.591171</td>\n",
       "      <td>2.300685</td>\n",
       "      <td>-1.746211</td>\n",
       "      <td>0</td>\n",
       "      <td>1.464405</td>\n",
       "      <td>6.455681</td>\n",
       "      <td>3.082901</td>\n",
       "      <td>1.346495</td>\n",
       "      <td>-2.290356</td>\n",
       "    </tr>\n",
       "    <tr>\n",
       "      <th>1</th>\n",
       "      <td>0.481287</td>\n",
       "      <td>5.557359</td>\n",
       "      <td>3.884953</td>\n",
       "      <td>-0.500036</td>\n",
       "      <td>-1.686219</td>\n",
       "      <td>0</td>\n",
       "      <td>1.464405</td>\n",
       "      <td>6.455681</td>\n",
       "      <td>3.082901</td>\n",
       "      <td>1.346495</td>\n",
       "      <td>-2.290356</td>\n",
       "    </tr>\n",
       "    <tr>\n",
       "      <th>2</th>\n",
       "      <td>4.603995</td>\n",
       "      <td>-2.926113</td>\n",
       "      <td>13.284943</td>\n",
       "      <td>13.583389</td>\n",
       "      <td>-2.029909</td>\n",
       "      <td>1</td>\n",
       "      <td>4.376823</td>\n",
       "      <td>-1.872384</td>\n",
       "      <td>11.753190</td>\n",
       "      <td>13.909883</td>\n",
       "      <td>-3.496754</td>\n",
       "    </tr>\n",
       "    <tr>\n",
       "      <th>3</th>\n",
       "      <td>2.067113</td>\n",
       "      <td>5.861031</td>\n",
       "      <td>2.826944</td>\n",
       "      <td>0.998449</td>\n",
       "      <td>-3.072723</td>\n",
       "      <td>0</td>\n",
       "      <td>1.464405</td>\n",
       "      <td>6.455681</td>\n",
       "      <td>3.082901</td>\n",
       "      <td>1.346495</td>\n",
       "      <td>-2.290356</td>\n",
       "    </tr>\n",
       "    <tr>\n",
       "      <th>4</th>\n",
       "      <td>-0.118281</td>\n",
       "      <td>7.416238</td>\n",
       "      <td>3.308742</td>\n",
       "      <td>0.796997</td>\n",
       "      <td>-3.388927</td>\n",
       "      <td>0</td>\n",
       "      <td>1.464405</td>\n",
       "      <td>6.455681</td>\n",
       "      <td>3.082901</td>\n",
       "      <td>1.346495</td>\n",
       "      <td>-2.290356</td>\n",
       "    </tr>\n",
       "    <tr>\n",
       "      <th>...</th>\n",
       "      <td>...</td>\n",
       "      <td>...</td>\n",
       "      <td>...</td>\n",
       "      <td>...</td>\n",
       "      <td>...</td>\n",
       "      <td>...</td>\n",
       "      <td>...</td>\n",
       "      <td>...</td>\n",
       "      <td>...</td>\n",
       "      <td>...</td>\n",
       "      <td>...</td>\n",
       "    </tr>\n",
       "    <tr>\n",
       "      <th>995</th>\n",
       "      <td>4.315838</td>\n",
       "      <td>-1.034867</td>\n",
       "      <td>11.589772</td>\n",
       "      <td>14.733438</td>\n",
       "      <td>-2.576122</td>\n",
       "      <td>1</td>\n",
       "      <td>4.376823</td>\n",
       "      <td>-1.872384</td>\n",
       "      <td>11.753190</td>\n",
       "      <td>13.909883</td>\n",
       "      <td>-3.496754</td>\n",
       "    </tr>\n",
       "    <tr>\n",
       "      <th>996</th>\n",
       "      <td>1.925220</td>\n",
       "      <td>7.379478</td>\n",
       "      <td>2.950333</td>\n",
       "      <td>1.057490</td>\n",
       "      <td>-4.288995</td>\n",
       "      <td>0</td>\n",
       "      <td>1.464405</td>\n",
       "      <td>6.455681</td>\n",
       "      <td>3.082901</td>\n",
       "      <td>1.346495</td>\n",
       "      <td>-2.290356</td>\n",
       "    </tr>\n",
       "    <tr>\n",
       "      <th>997</th>\n",
       "      <td>1.527667</td>\n",
       "      <td>6.612188</td>\n",
       "      <td>3.315082</td>\n",
       "      <td>0.749179</td>\n",
       "      <td>-2.528278</td>\n",
       "      <td>0</td>\n",
       "      <td>1.464405</td>\n",
       "      <td>6.455681</td>\n",
       "      <td>3.082901</td>\n",
       "      <td>1.346495</td>\n",
       "      <td>-2.290356</td>\n",
       "    </tr>\n",
       "    <tr>\n",
       "      <th>998</th>\n",
       "      <td>1.061228</td>\n",
       "      <td>7.678126</td>\n",
       "      <td>3.291176</td>\n",
       "      <td>2.323135</td>\n",
       "      <td>-1.933990</td>\n",
       "      <td>0</td>\n",
       "      <td>1.464405</td>\n",
       "      <td>6.455681</td>\n",
       "      <td>3.082901</td>\n",
       "      <td>1.346495</td>\n",
       "      <td>-2.290356</td>\n",
       "    </tr>\n",
       "    <tr>\n",
       "      <th>999</th>\n",
       "      <td>1.396164</td>\n",
       "      <td>8.169024</td>\n",
       "      <td>2.338146</td>\n",
       "      <td>0.520057</td>\n",
       "      <td>-2.388809</td>\n",
       "      <td>0</td>\n",
       "      <td>1.464405</td>\n",
       "      <td>6.455681</td>\n",
       "      <td>3.082901</td>\n",
       "      <td>1.346495</td>\n",
       "      <td>-2.290356</td>\n",
       "    </tr>\n",
       "  </tbody>\n",
       "</table>\n",
       "<p>1000 rows × 11 columns</p>\n",
       "</div>"
      ],
      "text/plain": [
       "           x1        x2         x3         x4        x5  y  centroids_1  \\\n",
       "0    0.756020  6.439902   2.591171   2.300685 -1.746211  0     1.464405   \n",
       "1    0.481287  5.557359   3.884953  -0.500036 -1.686219  0     1.464405   \n",
       "2    4.603995 -2.926113  13.284943  13.583389 -2.029909  1     4.376823   \n",
       "3    2.067113  5.861031   2.826944   0.998449 -3.072723  0     1.464405   \n",
       "4   -0.118281  7.416238   3.308742   0.796997 -3.388927  0     1.464405   \n",
       "..        ...       ...        ...        ...       ... ..          ...   \n",
       "995  4.315838 -1.034867  11.589772  14.733438 -2.576122  1     4.376823   \n",
       "996  1.925220  7.379478   2.950333   1.057490 -4.288995  0     1.464405   \n",
       "997  1.527667  6.612188   3.315082   0.749179 -2.528278  0     1.464405   \n",
       "998  1.061228  7.678126   3.291176   2.323135 -1.933990  0     1.464405   \n",
       "999  1.396164  8.169024   2.338146   0.520057 -2.388809  0     1.464405   \n",
       "\n",
       "     centroids_2  centroids_3  centroids_4  centroids_5  \n",
       "0       6.455681     3.082901     1.346495    -2.290356  \n",
       "1       6.455681     3.082901     1.346495    -2.290356  \n",
       "2      -1.872384    11.753190    13.909883    -3.496754  \n",
       "3       6.455681     3.082901     1.346495    -2.290356  \n",
       "4       6.455681     3.082901     1.346495    -2.290356  \n",
       "..           ...          ...          ...          ...  \n",
       "995    -1.872384    11.753190    13.909883    -3.496754  \n",
       "996     6.455681     3.082901     1.346495    -2.290356  \n",
       "997     6.455681     3.082901     1.346495    -2.290356  \n",
       "998     6.455681     3.082901     1.346495    -2.290356  \n",
       "999     6.455681     3.082901     1.346495    -2.290356  \n",
       "\n",
       "[1000 rows x 11 columns]"
      ]
     },
     "execution_count": 10,
     "metadata": {},
     "output_type": "execute_result"
    }
   ],
   "source": [
    "data"
   ]
  },
  {
   "cell_type": "code",
   "execution_count": null,
   "id": "d0080918-f22a-4551-81d0-f6161f0d0d8d",
   "metadata": {},
   "outputs": [],
   "source": []
  },
  {
   "cell_type": "code",
   "execution_count": 11,
   "id": "8dceafd7-aa2d-49f1-9485-33e672300384",
   "metadata": {},
   "outputs": [],
   "source": [
    "feature = con.spark.createDataFrame(data[['x1','x2','x3','x4','x5']].reset_index(names='id'))"
   ]
  },
  {
   "cell_type": "code",
   "execution_count": 12,
   "id": "3e9d7e86-183d-4fcd-b96b-62ea0b4064a3",
   "metadata": {},
   "outputs": [
    {
     "data": {
      "text/plain": [
       "DataFrame[id: bigint, x1: double, x2: double, x3: double, x4: double, x5: double]"
      ]
     },
     "execution_count": 12,
     "metadata": {},
     "output_type": "execute_result"
    }
   ],
   "source": [
    "feature"
   ]
  },
  {
   "cell_type": "code",
   "execution_count": null,
   "id": "dbd675ea-2503-4c80-92fc-68179cb19ca9",
   "metadata": {},
   "outputs": [],
   "source": []
  },
  {
   "cell_type": "code",
   "execution_count": 13,
   "id": "a50c45d0-624b-4921-a4a6-171260ceaaf6",
   "metadata": {},
   "outputs": [],
   "source": [
    "from stack import SparkSimilarMatrix, GeneratorPysparkDf, BatchedStreamProcessor"
   ]
  },
  {
   "cell_type": "code",
   "execution_count": 14,
   "id": "b808d04f-d1b8-4924-9845-dc515e465819",
   "metadata": {},
   "outputs": [
    {
     "data": {
      "text/plain": [
       "\u001b[0;31mInit signature:\u001b[0m\n",
       "\u001b[0mSparkSimilarMatrix\u001b[0m\u001b[0;34m(\u001b[0m\u001b[0;34m\u001b[0m\n",
       "\u001b[0;34m\u001b[0m    \u001b[0mspark\u001b[0m\u001b[0;34m:\u001b[0m \u001b[0mpyspark\u001b[0m\u001b[0;34m.\u001b[0m\u001b[0msql\u001b[0m\u001b[0;34m.\u001b[0m\u001b[0msession\u001b[0m\u001b[0;34m.\u001b[0m\u001b[0mSparkSession\u001b[0m\u001b[0;34m,\u001b[0m\u001b[0;34m\u001b[0m\n",
       "\u001b[0;34m\u001b[0m    \u001b[0mtrain_df\u001b[0m\u001b[0;34m:\u001b[0m \u001b[0mpyspark\u001b[0m\u001b[0;34m.\u001b[0m\u001b[0msql\u001b[0m\u001b[0;34m.\u001b[0m\u001b[0mdataframe\u001b[0m\u001b[0;34m.\u001b[0m\u001b[0mDataFrame\u001b[0m\u001b[0;34m,\u001b[0m\u001b[0;34m\u001b[0m\n",
       "\u001b[0;34m\u001b[0m\u001b[0;34m)\u001b[0m \u001b[0;34m->\u001b[0m \u001b[0;32mNone\u001b[0m\u001b[0;34m\u001b[0m\u001b[0;34m\u001b[0m\u001b[0m\n",
       "\u001b[0;31mDocstring:\u001b[0m     \n",
       "Вычисление матрицы схожести в распределенном режиме.\n",
       "\n",
       "Пример использования:\n",
       ">>> sim = SparkSimilarMatrix(spark, train_df)\n",
       ">>> sim.prep()\n",
       ">>> sim.create_sim_matrix(metric='cosine')\n",
       ">>> sim.create_degree_matrix(treshold=0.75)\n",
       "\u001b[0;31mFile:\u001b[0m           ~/work/Spark_conn/src/stack.py\n",
       "\u001b[0;31mType:\u001b[0m           type\n",
       "\u001b[0;31mSubclasses:\u001b[0m     "
      ]
     },
     "metadata": {},
     "output_type": "display_data"
    }
   ],
   "source": [
    "SparkSimilarMatrix?"
   ]
  },
  {
   "cell_type": "code",
   "execution_count": 15,
   "id": "d59af137-bb31-41ad-a30d-ece23c5138e8",
   "metadata": {},
   "outputs": [],
   "source": [
    "sim = SparkSimilarMatrix(con.spark, feature)\n",
    "sim.prep()\n",
    "sim.create_sim_matrix(metric='cosine')\n",
    "sim.create_degree_matrix(treshold=0.75)"
   ]
  },
  {
   "cell_type": "code",
   "execution_count": 16,
   "id": "f2ecbb0e-2ee5-4305-917e-65f4ed2c597c",
   "metadata": {},
   "outputs": [],
   "source": [
    "sim.sim_matrix_filtred = sim.sim_matrix_filtred.select(F.col('id_A').alias('id'), 'id_B','distance')"
   ]
  },
  {
   "cell_type": "code",
   "execution_count": 17,
   "id": "c6235360-b54f-4edc-ab36-df3182805574",
   "metadata": {},
   "outputs": [],
   "source": [
    "sim.sim_matrix = sim.sim_matrix.select(F.col('id_A').alias('id'), 'id_B','distance')"
   ]
  },
  {
   "cell_type": "code",
   "execution_count": 18,
   "id": "f082f72d-7340-4ea0-9b6b-3c3b9f3f85fd",
   "metadata": {},
   "outputs": [],
   "source": [
    "feature = feature.checkpoint()\n",
    "sim.sim_matrix = sim.sim_matrix.checkpoint()"
   ]
  },
  {
   "cell_type": "code",
   "execution_count": 19,
   "id": "abe499f6-3a9b-40aa-bfef-946fb77f67ee",
   "metadata": {},
   "outputs": [],
   "source": [
    "feature.createOrReplaceGlobalTempView('feature')\n",
    "sim.sim_matrix.createOrReplaceGlobalTempView('sim_matrix')"
   ]
  },
  {
   "cell_type": "code",
   "execution_count": null,
   "id": "14929ba8-b2d0-425d-a674-0fdabeac4be3",
   "metadata": {},
   "outputs": [],
   "source": []
  },
  {
   "cell_type": "code",
   "execution_count": 20,
   "id": "df6cda9e-5235-4da6-a424-36a6f8d6016a",
   "metadata": {},
   "outputs": [],
   "source": [
    "def process_batch(batch):\n",
    "    print(batch[0], batch[1].shape, batch[2].shape)"
   ]
  },
  {
   "cell_type": "code",
   "execution_count": 21,
   "id": "ca6880e3-08a4-48a6-bd69-6490fccea9ca",
   "metadata": {},
   "outputs": [],
   "source": [
    "bpdf = GeneratorPysparkDf(con.spark, df ='global_temp.feature', df_adj ='global_temp.sim_matrix')\n",
    "gen = bpdf.get_df_generator(chunk_size=256,idcol='id', num_epoch=6)\n",
    "processsor = BatchedStreamProcessor(con.spark, buffer_size=10)"
   ]
  },
  {
   "cell_type": "code",
   "execution_count": 22,
   "id": "3c75c1b0-c0ca-4bf3-9d1d-ebd2d91ae80d",
   "metadata": {
    "scrolled": true
   },
   "outputs": [
    {
     "name": "stdout",
     "output_type": "stream",
     "text": [
      "2 (256, 6) (129282, 3)\n",
      "end\n",
      "1 (256, 6) (128287, 3)\n",
      "end\n",
      "2 (256, 6) (127649, 3)\n",
      "end\n",
      "1 (232, 6) (110280, 3)\n",
      "end\n",
      "2 (256, 6) (125297, 3)\n",
      "end\n",
      "1 (256, 6) (135755, 3)\n",
      "end\n",
      "1 (256, 6) (125178, 3)\n",
      "end\n",
      "2 (232, 6) (117272, 3)\n",
      "end\n",
      "4 (256, 6) (135551, 3)\n",
      "end\n",
      "4 (256, 6) (123592, 3)\n",
      "end\n",
      "3 (256, 6) (126729, 3)\n",
      "end\n",
      "3 (256, 6) (129908, 3)\n",
      "end\n",
      "3 (256, 6) (127805, 3)\n",
      "end\n",
      "4 (232, 6) (115728, 3)\n",
      "end\n",
      "3 (232, 6) (115058, 3)\n",
      "end\n",
      "4 (256, 6) (124629, 3)\n",
      "end\n",
      "5 (256, 6) (125432, 3)\n",
      "end\n",
      "5 (256, 6) (128751, 3)\n",
      "end\n",
      "6 (256, 6) (131722, 3)\n",
      "end\n",
      "5 (232, 6) (119334, 3)\n",
      "end\n",
      "5 (256, 6) (125983, 3)\n",
      "end\n",
      "6 (256, 6) (123307, 3)\n",
      "end\n",
      "6 (256, 6) (126321, 3)\n",
      "end\n",
      "6 (232, 6) (118150, 3)\n",
      "end\n"
     ]
    }
   ],
   "source": [
    "for batch in processsor.batched_stream(gen):\n",
    "    process_batch(batch)\n",
    "    print('end')\n",
    "    del batch"
   ]
  },
  {
   "cell_type": "code",
   "execution_count": null,
   "id": "82c118e2-29a0-4f4a-9b0d-a65c84616c13",
   "metadata": {},
   "outputs": [],
   "source": []
  },
  {
   "cell_type": "code",
   "execution_count": null,
   "id": "73b96b8f-727a-4e42-9047-40c986f499b3",
   "metadata": {},
   "outputs": [],
   "source": []
  },
  {
   "cell_type": "code",
   "execution_count": null,
   "id": "faffc4d8-19d8-4e47-beda-bc9ebcfee614",
   "metadata": {},
   "outputs": [],
   "source": []
  },
  {
   "cell_type": "code",
   "execution_count": null,
   "id": "f7e11315-a47e-42de-92b2-d941a038560f",
   "metadata": {},
   "outputs": [],
   "source": []
  },
  {
   "cell_type": "code",
   "execution_count": null,
   "id": "8cc122e4-15ca-459a-833f-bc33b4506604",
   "metadata": {},
   "outputs": [],
   "source": []
  },
  {
   "cell_type": "code",
   "execution_count": 24,
   "id": "62919c42-d1c8-4d7d-843f-bbcff4ff7569",
   "metadata": {},
   "outputs": [
    {
     "name": "stdout",
     "output_type": "stream",
     "text": [
      "time: 2025-02-22 21:51:48.286801\n",
      "dont del\n",
      "stop\n"
     ]
    }
   ],
   "source": [
    "#con.stop_spark()"
   ]
  },
  {
   "cell_type": "code",
   "execution_count": null,
   "id": "209a0197-5aa8-499c-9eae-b61eee6badf1",
   "metadata": {},
   "outputs": [],
   "source": []
  }
 ],
 "metadata": {
  "kernelspec": {
   "display_name": "Python 3 (ipykernel)",
   "language": "python",
   "name": "python3"
  },
  "language_info": {
   "codemirror_mode": {
    "name": "ipython",
    "version": 3
   },
   "file_extension": ".py",
   "mimetype": "text/x-python",
   "name": "python",
   "nbconvert_exporter": "python",
   "pygments_lexer": "ipython3",
   "version": "3.11.10"
  }
 },
 "nbformat": 4,
 "nbformat_minor": 5
}
