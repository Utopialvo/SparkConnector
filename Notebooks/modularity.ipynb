{
 "cells": [
  {
   "cell_type": "code",
   "execution_count": 1,
   "id": "30d45219-5e8b-43e3-9313-bd1f27549de2",
   "metadata": {},
   "outputs": [],
   "source": [
    "import sys\n",
    "import os\n",
    "src_path = os.path.abspath(os.path.join('..', 'src'))\n",
    "if src_path not in sys.path:\n",
    "    sys.path.append(src_path)"
   ]
  },
  {
   "cell_type": "code",
   "execution_count": 2,
   "id": "8587bb66-516b-4337-83af-43df163154d2",
   "metadata": {},
   "outputs": [],
   "source": [
    "from connector import spark_connector"
   ]
  },
  {
   "cell_type": "code",
   "execution_count": 3,
   "id": "84615405-90dc-425a-816a-4ed6d45b46dd",
   "metadata": {},
   "outputs": [],
   "source": [
    "import pandas as pd\n",
    "import numpy as np\n",
    "from pyspark.sql import Window\n",
    "import pyspark.sql.functions as F\n",
    "import pyspark.sql.types as T"
   ]
  },
  {
   "cell_type": "code",
   "execution_count": 4,
   "id": "d24cca21-cd05-49cd-b309-497376894e5f",
   "metadata": {
    "scrolled": true
   },
   "outputs": [
    {
     "data": {
      "text/plain": [
       "\u001b[0;31mInit signature:\u001b[0m\n",
       "\u001b[0mspark_connector\u001b[0m\u001b[0;34m(\u001b[0m\u001b[0;34m\u001b[0m\n",
       "\u001b[0;34m\u001b[0m    \u001b[0mexec_inst\u001b[0m\u001b[0;34m:\u001b[0m \u001b[0mint\u001b[0m \u001b[0;34m=\u001b[0m \u001b[0;36m100\u001b[0m\u001b[0;34m,\u001b[0m\u001b[0;34m\u001b[0m\n",
       "\u001b[0;34m\u001b[0m    \u001b[0mexec_cores\u001b[0m\u001b[0;34m:\u001b[0m \u001b[0mint\u001b[0m \u001b[0;34m=\u001b[0m \u001b[0;36m5\u001b[0m\u001b[0;34m,\u001b[0m\u001b[0;34m\u001b[0m\n",
       "\u001b[0;34m\u001b[0m    \u001b[0maloc_max\u001b[0m\u001b[0;34m:\u001b[0m \u001b[0mint\u001b[0m \u001b[0;34m=\u001b[0m \u001b[0;36m500\u001b[0m\u001b[0;34m,\u001b[0m\u001b[0;34m\u001b[0m\n",
       "\u001b[0;34m\u001b[0m    \u001b[0mmemory_exec\u001b[0m\u001b[0;34m:\u001b[0m \u001b[0mint\u001b[0m \u001b[0;34m=\u001b[0m \u001b[0;36m25\u001b[0m\u001b[0;34m,\u001b[0m\u001b[0;34m\u001b[0m\n",
       "\u001b[0;34m\u001b[0m    \u001b[0mname\u001b[0m\u001b[0;34m:\u001b[0m \u001b[0mobject\u001b[0m \u001b[0;34m=\u001b[0m \u001b[0;34m'utopialvo'\u001b[0m\u001b[0;34m,\u001b[0m\u001b[0;34m\u001b[0m\n",
       "\u001b[0;34m\u001b[0m    \u001b[0mrootdir\u001b[0m\u001b[0;34m:\u001b[0m \u001b[0mobject\u001b[0m \u001b[0;34m=\u001b[0m \u001b[0;34m'remote_dir_in_hdft'\u001b[0m\u001b[0;34m,\u001b[0m\u001b[0;34m\u001b[0m\n",
       "\u001b[0;34m\u001b[0m    \u001b[0menable_graphframes\u001b[0m\u001b[0;34m:\u001b[0m \u001b[0mbool\u001b[0m \u001b[0;34m=\u001b[0m \u001b[0;32mFalse\u001b[0m\u001b[0;34m,\u001b[0m\u001b[0;34m\u001b[0m\n",
       "\u001b[0;34m\u001b[0m    \u001b[0menable_clickhouse\u001b[0m\u001b[0;34m:\u001b[0m \u001b[0mbool\u001b[0m \u001b[0;34m=\u001b[0m \u001b[0;32mFalse\u001b[0m\u001b[0;34m,\u001b[0m\u001b[0;34m\u001b[0m\n",
       "\u001b[0;34m\u001b[0m    \u001b[0menable_postgres\u001b[0m\u001b[0;34m:\u001b[0m \u001b[0mbool\u001b[0m \u001b[0;34m=\u001b[0m \u001b[0;32mFalse\u001b[0m\u001b[0;34m,\u001b[0m\u001b[0;34m\u001b[0m\n",
       "\u001b[0;34m\u001b[0m    \u001b[0mdynamic_allocation\u001b[0m\u001b[0;34m:\u001b[0m \u001b[0mbool\u001b[0m \u001b[0;34m=\u001b[0m \u001b[0;32mFalse\u001b[0m\u001b[0;34m,\u001b[0m\u001b[0;34m\u001b[0m\n",
       "\u001b[0;34m\u001b[0m    \u001b[0mintensive_mode\u001b[0m\u001b[0;34m:\u001b[0m \u001b[0mbool\u001b[0m \u001b[0;34m=\u001b[0m \u001b[0;32mFalse\u001b[0m\u001b[0;34m,\u001b[0m\u001b[0;34m\u001b[0m\n",
       "\u001b[0;34m\u001b[0m    \u001b[0mmarshal_mode\u001b[0m\u001b[0;34m:\u001b[0m \u001b[0mbool\u001b[0m \u001b[0;34m=\u001b[0m \u001b[0;32mTrue\u001b[0m\u001b[0;34m,\u001b[0m\u001b[0;34m\u001b[0m\n",
       "\u001b[0;34m\u001b[0m    \u001b[0myarn\u001b[0m\u001b[0;34m:\u001b[0m \u001b[0mbool\u001b[0m \u001b[0;34m=\u001b[0m \u001b[0;32mTrue\u001b[0m\u001b[0;34m,\u001b[0m\u001b[0;34m\u001b[0m\n",
       "\u001b[0;34m\u001b[0m\u001b[0;34m)\u001b[0m \u001b[0;34m->\u001b[0m \u001b[0;32mNone\u001b[0m\u001b[0;34m\u001b[0m\u001b[0;34m\u001b[0m\u001b[0m\n",
       "\u001b[0;31mDocstring:\u001b[0m     \n",
       "Класс стандартного подключения к Spark\n",
       "\n",
       "exec_inst - количество контейнеров\n",
       "exec_cores - количество ядер в контейнере\n",
       "aloc_max - максимальное количество ядер для dynamic_allocation (если он вкл)\n",
       "memory_exec - количество памяти в контейнере\n",
       "name - название подключения для упрощения логгирования подключений в кластере\n",
       "rootdir - корневая папка в HDFS \n",
       "enable_graphframes - включить работу с graphframes\n",
       "enable_clickhouse - включить работу с clickhouse\n",
       "enable_postgres - включить работу с postgres\n",
       "dynamic_allocation - включить динамическое выделение ресурсов\n",
       "intensive_mode - включить мод с быстрой очисткой памяти (нужно тюнить параметры для конкретных случаев)\n",
       "marshal_mode - подключить Marshal Serializer вместо Kryo Serializer\n",
       "\n",
       "\n",
       "Для подключения (standalone, yarn, k8s) нужно модернизировать самостоятельно в зависимости от того, как был развернут кластер.\n",
       "To Do:\n",
       "spark.master=yarn\n",
       "spark.deploy-mode=client\n",
       "\n",
       "SPARK_HOME\n",
       "JAVA_HOME\n",
       "PYSPARK_DRIVER_PYTHON\n",
       "PYSPARK_PYTHON\n",
       "HADOOP_HOME=/usr/local/hadoop-2.7.3\n",
       "HADOOP_CONF_HOME=/usr/local/hadoop-2.7.3/etc/hadoop\n",
       "HADOOP_CONF_DIR=/usr/local/hadoop-2.7.3/etc/hadoop\n",
       "HADOOP_PREFIX=/usr/local/hadoop-2.7.3\n",
       ".remote(\"sc://<sc_host>:<sc_port>\")\n",
       "\n",
       "fair_scheduler.xml - можно меять под себя.\n",
       "\u001b[0;31mFile:\u001b[0m           ~/work/Spark_conn/src/connector.py\n",
       "\u001b[0;31mType:\u001b[0m           type\n",
       "\u001b[0;31mSubclasses:\u001b[0m     "
      ]
     },
     "metadata": {},
     "output_type": "display_data"
    }
   ],
   "source": [
    "spark_connector?"
   ]
  },
  {
   "cell_type": "code",
   "execution_count": 5,
   "id": "9a0e5d28-5e88-420f-bcda-4613fe3a382d",
   "metadata": {},
   "outputs": [],
   "source": [
    "con = spark_connector(exec_inst=100, exec_cores=5, memory_exec=25, enable_graphframes=True, marshal_mode=False, yarn = False)"
   ]
  },
  {
   "cell_type": "code",
   "execution_count": 6,
   "id": "69084fb8-e4f7-431f-ba94-e94d5d0fa6aa",
   "metadata": {},
   "outputs": [
    {
     "data": {
      "text/html": [
       "\n",
       "            <div>\n",
       "                <p><b>SparkSession - hive</b></p>\n",
       "                \n",
       "        <div>\n",
       "            <p><b>SparkContext</b></p>\n",
       "\n",
       "            <p><a href=\"http://83e597714d90:4040\">Spark UI</a></p>\n",
       "\n",
       "            <dl>\n",
       "              <dt>Version</dt>\n",
       "                <dd><code>v3.5.3</code></dd>\n",
       "              <dt>Master</dt>\n",
       "                <dd><code>local[*]</code></dd>\n",
       "              <dt>AppName</dt>\n",
       "                <dd><code>utopialvo_2025-02-25_18:58:15.381932</code></dd>\n",
       "            </dl>\n",
       "        </div>\n",
       "        \n",
       "            </div>\n",
       "        "
      ],
      "text/plain": [
       "<pyspark.sql.session.SparkSession at 0x7f0b167b7890>"
      ]
     },
     "execution_count": 6,
     "metadata": {},
     "output_type": "execute_result"
    }
   ],
   "source": [
    "con.spark"
   ]
  },
  {
   "cell_type": "code",
   "execution_count": null,
   "id": "d08c42bd-5525-4475-a120-4427296b53b1",
   "metadata": {},
   "outputs": [
    {
     "name": "stdout",
     "output_type": "stream",
     "text": [
      "time: 2025-02-25 21:17:16.678262\n"
     ]
    }
   ],
   "source": [
    "#con.stop_spark()"
   ]
  },
  {
   "cell_type": "code",
   "execution_count": 9,
   "id": "fa0a3505-f753-4c97-b6ff-a20461c89b00",
   "metadata": {},
   "outputs": [],
   "source": [
    "from sklearn.datasets import make_blobs"
   ]
  },
  {
   "cell_type": "code",
   "execution_count": 10,
   "id": "a97bc887-e982-44a7-9196-c9ffcab9bdf2",
   "metadata": {},
   "outputs": [],
   "source": [
    "X, y, c = make_blobs(n_samples=5000, n_features=2, centers=14, cluster_std=1.0, center_box=(-30.0, 30.0), shuffle=True, random_state=0, return_centers=True)"
   ]
  },
  {
   "cell_type": "code",
   "execution_count": 11,
   "id": "1fcb5ee9-2a0f-4810-a502-c052c0313e89",
   "metadata": {},
   "outputs": [],
   "source": [
    "data = pd.DataFrame(X, columns=[f'x{i+1}' for i in range(X.shape[1])])\n",
    "data['y'] = y\n",
    "data = data.merge(pd.DataFrame(c, columns=[f'centroids_{i+1}' for i in range(X.shape[1])]).reset_index(), left_on='y', right_on='index', how='left').drop('index', axis=1)"
   ]
  },
  {
   "cell_type": "code",
   "execution_count": 12,
   "id": "641fc69b-c2b7-4d6a-844a-cbed7f0194f2",
   "metadata": {},
   "outputs": [
    {
     "data": {
      "text/html": [
       "<div>\n",
       "<style scoped>\n",
       "    .dataframe tbody tr th:only-of-type {\n",
       "        vertical-align: middle;\n",
       "    }\n",
       "\n",
       "    .dataframe tbody tr th {\n",
       "        vertical-align: top;\n",
       "    }\n",
       "\n",
       "    .dataframe thead th {\n",
       "        text-align: right;\n",
       "    }\n",
       "</style>\n",
       "<table border=\"1\" class=\"dataframe\">\n",
       "  <thead>\n",
       "    <tr style=\"text-align: right;\">\n",
       "      <th></th>\n",
       "      <th>x1</th>\n",
       "      <th>x2</th>\n",
       "      <th>y</th>\n",
       "      <th>centroids_1</th>\n",
       "      <th>centroids_2</th>\n",
       "    </tr>\n",
       "  </thead>\n",
       "  <tbody>\n",
       "    <tr>\n",
       "      <th>0</th>\n",
       "      <td>16.431196</td>\n",
       "      <td>22.046133</td>\n",
       "      <td>9</td>\n",
       "      <td>16.689405</td>\n",
       "      <td>22.200729</td>\n",
       "    </tr>\n",
       "    <tr>\n",
       "      <th>1</th>\n",
       "      <td>-23.059022</td>\n",
       "      <td>25.344576</td>\n",
       "      <td>13</td>\n",
       "      <td>-21.398803</td>\n",
       "      <td>26.680135</td>\n",
       "    </tr>\n",
       "    <tr>\n",
       "      <th>2</th>\n",
       "      <td>27.034981</td>\n",
       "      <td>-7.163631</td>\n",
       "      <td>4</td>\n",
       "      <td>27.819766</td>\n",
       "      <td>-6.993509</td>\n",
       "    </tr>\n",
       "    <tr>\n",
       "      <th>3</th>\n",
       "      <td>-21.078975</td>\n",
       "      <td>26.437051</td>\n",
       "      <td>13</td>\n",
       "      <td>-21.398803</td>\n",
       "      <td>26.680135</td>\n",
       "    </tr>\n",
       "    <tr>\n",
       "      <th>4</th>\n",
       "      <td>-3.711706</td>\n",
       "      <td>8.937828</td>\n",
       "      <td>2</td>\n",
       "      <td>-4.580712</td>\n",
       "      <td>8.753647</td>\n",
       "    </tr>\n",
       "    <tr>\n",
       "      <th>...</th>\n",
       "      <td>...</td>\n",
       "      <td>...</td>\n",
       "      <td>...</td>\n",
       "      <td>...</td>\n",
       "      <td>...</td>\n",
       "    </tr>\n",
       "    <tr>\n",
       "      <th>4995</th>\n",
       "      <td>-2.566938</td>\n",
       "      <td>21.201213</td>\n",
       "      <td>3</td>\n",
       "      <td>-3.744767</td>\n",
       "      <td>23.506380</td>\n",
       "    </tr>\n",
       "    <tr>\n",
       "      <th>4996</th>\n",
       "      <td>-20.665745</td>\n",
       "      <td>26.298933</td>\n",
       "      <td>13</td>\n",
       "      <td>-21.398803</td>\n",
       "      <td>26.680135</td>\n",
       "    </tr>\n",
       "    <tr>\n",
       "      <th>4997</th>\n",
       "      <td>5.018192</td>\n",
       "      <td>2.334877</td>\n",
       "      <td>1</td>\n",
       "      <td>6.165803</td>\n",
       "      <td>2.692991</td>\n",
       "    </tr>\n",
       "    <tr>\n",
       "      <th>4998</th>\n",
       "      <td>-2.708401</td>\n",
       "      <td>16.633889</td>\n",
       "      <td>11</td>\n",
       "      <td>-2.311238</td>\n",
       "      <td>16.831751</td>\n",
       "    </tr>\n",
       "    <tr>\n",
       "      <th>4999</th>\n",
       "      <td>-29.303183</td>\n",
       "      <td>19.751336</td>\n",
       "      <td>8</td>\n",
       "      <td>-28.786896</td>\n",
       "      <td>19.957191</td>\n",
       "    </tr>\n",
       "  </tbody>\n",
       "</table>\n",
       "<p>5000 rows × 5 columns</p>\n",
       "</div>"
      ],
      "text/plain": [
       "             x1         x2   y  centroids_1  centroids_2\n",
       "0     16.431196  22.046133   9    16.689405    22.200729\n",
       "1    -23.059022  25.344576  13   -21.398803    26.680135\n",
       "2     27.034981  -7.163631   4    27.819766    -6.993509\n",
       "3    -21.078975  26.437051  13   -21.398803    26.680135\n",
       "4     -3.711706   8.937828   2    -4.580712     8.753647\n",
       "...         ...        ...  ..          ...          ...\n",
       "4995  -2.566938  21.201213   3    -3.744767    23.506380\n",
       "4996 -20.665745  26.298933  13   -21.398803    26.680135\n",
       "4997   5.018192   2.334877   1     6.165803     2.692991\n",
       "4998  -2.708401  16.633889  11    -2.311238    16.831751\n",
       "4999 -29.303183  19.751336   8   -28.786896    19.957191\n",
       "\n",
       "[5000 rows x 5 columns]"
      ]
     },
     "execution_count": 12,
     "metadata": {},
     "output_type": "execute_result"
    }
   ],
   "source": [
    "data"
   ]
  },
  {
   "cell_type": "code",
   "execution_count": 13,
   "id": "b1e21e62-653a-4cae-9e58-4f555eb95289",
   "metadata": {},
   "outputs": [],
   "source": [
    "import seaborn as sns"
   ]
  },
  {
   "cell_type": "code",
   "execution_count": 14,
   "id": "72ab8757-5e46-4826-8bfc-b6ddfaa47e8b",
   "metadata": {},
   "outputs": [
    {
     "data": {
      "text/plain": [
       "<Axes: xlabel='x1', ylabel='x2'>"
      ]
     },
     "execution_count": 14,
     "metadata": {},
     "output_type": "execute_result"
    },
    {
     "data": {
      "image/png": "[encoded data removed]",
      "text/plain": [
       "<Figure size 640x480 with 1 Axes>"
      ]
     },
     "metadata": {},
     "output_type": "display_data"
    }
   ],
   "source": [
    "sns.scatterplot(x=data.x1, y=data.x2, hue=data.y)"
   ]
  },
  {
   "cell_type": "code",
   "execution_count": 18,
   "id": "3acbc7f5-6af5-4052-bc83-383e290ad33b",
   "metadata": {},
   "outputs": [],
   "source": [
    "train_df = data.drop(['centroids_1','centroids_2'], axis=1).reset_index(names='id')"
   ]
  },
  {
   "cell_type": "code",
   "execution_count": 19,
   "id": "891f79d5-db60-4749-b16c-22fc28f3e70a",
   "metadata": {},
   "outputs": [],
   "source": [
    "from norm import NormalizerPandas"
   ]
  },
  {
   "cell_type": "code",
   "execution_count": 20,
   "id": "107d732a-28d6-43a2-84e5-dd8599dabfdd",
   "metadata": {
    "scrolled": true
   },
   "outputs": [
    {
     "data": {
      "text/plain": [
       "<norm.NormalizerPandas at 0x7f0b0c73e8d0>"
      ]
     },
     "execution_count": 20,
     "metadata": {},
     "output_type": "execute_result"
    }
   ],
   "source": [
    "normalizer = NormalizerPandas(\n",
    "    methods={\n",
    "        'x1': 'range',\n",
    "        'x2': 'range'\n",
    "    },\n",
    "    columns=train_df.drop(['id','y'], axis=1).columns\n",
    ")\n",
    "normalizer.fit(train_df)"
   ]
  },
  {
   "cell_type": "code",
   "execution_count": 21,
   "id": "8079f945-1789-4459-b270-3d188dd2bab1",
   "metadata": {},
   "outputs": [
    {
     "name": "stdout",
     "output_type": "stream",
     "text": [
      "{'x1': {'method': 'range', 'min': -31.446918071295425, 'max': 32.009794855681804, 'mean': -0.41954920840941934}, 'x2': {'method': 'range', 'min': -27.531169542145086, 'max': 29.54533856348939, 'mean': 11.083316527343868}}\n"
     ]
    }
   ],
   "source": [
    "print(normalizer.stats)"
   ]
  },
  {
   "cell_type": "code",
   "execution_count": 22,
   "id": "dcbb14f5-4507-411d-b1bc-1d6418b2c962",
   "metadata": {},
   "outputs": [],
   "source": [
    "df_normalized = normalizer.transform(train_df)"
   ]
  },
  {
   "cell_type": "code",
   "execution_count": 24,
   "id": "063d2eca-5b07-4200-b98f-ce96ad84b275",
   "metadata": {},
   "outputs": [],
   "source": [
    "feature = con.spark.createDataFrame(df_normalized)"
   ]
  },
  {
   "cell_type": "code",
   "execution_count": 25,
   "id": "4ee5b186-44d3-426e-8ddf-37a1f7a3666c",
   "metadata": {},
   "outputs": [],
   "source": [
    "communities_data = feature.select('id','y')\n",
    "feature = feature.drop('y')"
   ]
  },
  {
   "cell_type": "code",
   "execution_count": null,
   "id": "abd832ec-e222-4f6f-a2ac-96fd70bbaa05",
   "metadata": {},
   "outputs": [],
   "source": []
  },
  {
   "cell_type": "code",
   "execution_count": 48,
   "id": "4bfbe42a-fc1b-4f4c-8908-72a8164e1e73",
   "metadata": {},
   "outputs": [],
   "source": [
    "from stack import SparkSimilarMatrix"
   ]
  },
  {
   "cell_type": "code",
   "execution_count": 49,
   "id": "dcca24f8-e3e4-4048-b491-9afd66544990",
   "metadata": {},
   "outputs": [
    {
     "data": {
      "text/plain": [
       "\u001b[0;31mInit signature:\u001b[0m\n",
       "\u001b[0mSparkSimilarMatrix\u001b[0m\u001b[0;34m(\u001b[0m\u001b[0;34m\u001b[0m\n",
       "\u001b[0;34m\u001b[0m    \u001b[0mspark\u001b[0m\u001b[0;34m:\u001b[0m \u001b[0mpyspark\u001b[0m\u001b[0;34m.\u001b[0m\u001b[0msql\u001b[0m\u001b[0;34m.\u001b[0m\u001b[0msession\u001b[0m\u001b[0;34m.\u001b[0m\u001b[0mSparkSession\u001b[0m\u001b[0;34m,\u001b[0m\u001b[0;34m\u001b[0m\n",
       "\u001b[0;34m\u001b[0m    \u001b[0mtrain_df\u001b[0m\u001b[0;34m:\u001b[0m \u001b[0mpyspark\u001b[0m\u001b[0;34m.\u001b[0m\u001b[0msql\u001b[0m\u001b[0;34m.\u001b[0m\u001b[0mdataframe\u001b[0m\u001b[0;34m.\u001b[0m\u001b[0mDataFrame\u001b[0m\u001b[0;34m,\u001b[0m\u001b[0;34m\u001b[0m\n",
       "\u001b[0;34m\u001b[0m\u001b[0;34m)\u001b[0m \u001b[0;34m->\u001b[0m \u001b[0;32mNone\u001b[0m\u001b[0;34m\u001b[0m\u001b[0;34m\u001b[0m\u001b[0m\n",
       "\u001b[0;31mDocstring:\u001b[0m     \n",
       "Вычисление матрицы схожести в распределенном режиме.\n",
       "\n",
       "Пример использования:\n",
       ">>> sim = SparkSimilarMatrix(spark, train_df)\n",
       ">>> sim.prep()\n",
       ">>> sim.create_sim_matrix(metric='cosine')\n",
       ">>> sim.create_degree_matrix(treshold=0.75)\n",
       "\u001b[0;31mFile:\u001b[0m           ~/work/Spark_conn/src/stack.py\n",
       "\u001b[0;31mType:\u001b[0m           type\n",
       "\u001b[0;31mSubclasses:\u001b[0m     "
      ]
     },
     "metadata": {},
     "output_type": "display_data"
    }
   ],
   "source": [
    "SparkSimilarMatrix?"
   ]
  },
  {
   "cell_type": "code",
   "execution_count": 64,
   "id": "42283b2b-1f00-4ca0-bdac-eddb902abbef",
   "metadata": {},
   "outputs": [],
   "source": [
    "sim = SparkSimilarMatrix(con.spark, feature)"
   ]
  },
  {
   "cell_type": "code",
   "execution_count": 65,
   "id": "b72ec5aa-33d3-40d2-97dd-86d9de600652",
   "metadata": {},
   "outputs": [],
   "source": [
    "sim.prep()"
   ]
  },
  {
   "cell_type": "code",
   "execution_count": 66,
   "id": "ee13fda3-afb1-44da-bc40-78d418a93d3c",
   "metadata": {},
   "outputs": [],
   "source": [
    "sim.create_sim_matrix()"
   ]
  },
  {
   "cell_type": "code",
   "execution_count": 67,
   "id": "5b3e1bc6-5ed0-47aa-abcb-ea7ee18d1599",
   "metadata": {},
   "outputs": [],
   "source": [
    "#sim.create_sim_matrix(metric='cosine')\n",
    "#sim.sim_matrix = sim.sim_matrix.withColumn('distance', (1 - F.col('distance')))"
   ]
  },
  {
   "cell_type": "code",
   "execution_count": 68,
   "id": "5c935ae7-4882-4dd0-9a3f-cfcf90d8da3d",
   "metadata": {},
   "outputs": [
    {
     "data": {
      "text/plain": [
       "[Row(max(distance)=1.238398129453286, min(distance)=1.549435171932168e-05)]"
      ]
     },
     "execution_count": 68,
     "metadata": {},
     "output_type": "execute_result"
    }
   ],
   "source": [
    "sim.sim_matrix.select(F.max('distance'), F.min('distance')).collect()"
   ]
  },
  {
   "cell_type": "code",
   "execution_count": 55,
   "id": "029353b3-44a4-48cd-b223-6d8d7051675f",
   "metadata": {},
   "outputs": [],
   "source": [
    "#sim.sim_matrix = sim.sim_matrix.withColumn('distance', 1 - (F.col('distance') / 1.238398129453286))"
   ]
  },
  {
   "cell_type": "code",
   "execution_count": 92,
   "id": "e868828e-7440-415e-9dfa-3779c9d7aad0",
   "metadata": {},
   "outputs": [
    {
     "data": {
      "text/plain": [
       "DataFrame[id: bigint, y: bigint]"
      ]
     },
     "execution_count": 92,
     "metadata": {},
     "output_type": "execute_result"
    }
   ],
   "source": [
    "communities_data#.select(F.col('id').alias('item'),'y')"
   ]
  },
  {
   "cell_type": "raw",
   "id": "bad042d0-df28-407b-9baa-c41ec813251f",
   "metadata": {},
   "source": [
    "sim.create_sim_matrix(metric='cosine')\n",
    "sim.create_degree_matrix(treshold=0.75)"
   ]
  },
  {
   "cell_type": "raw",
   "id": "06c20d83-8951-4446-9be3-6b25329ae68c",
   "metadata": {},
   "source": [
    "sim.sim_matrix_filtred = sim.sim_matrix_filtred.select(F.col('id_A').alias('id'), 'id_B','distance')"
   ]
  },
  {
   "cell_type": "raw",
   "id": "ac38e7b2-5af2-407d-a185-e7ecf2462fad",
   "metadata": {},
   "source": [
    "sim.sim_matrix = sim.sim_matrix.select(F.col('id_A').alias('id'), 'id_B','distance')"
   ]
  },
  {
   "cell_type": "raw",
   "id": "fbab279e-770b-426b-9f9d-3e4168b60a0d",
   "metadata": {},
   "source": [
    "feature = feature.checkpoint()\n",
    "sim.sim_matrix = sim.sim_matrix.checkpoint()"
   ]
  },
  {
   "cell_type": "raw",
   "id": "eae1a7a5-3fb8-4311-b07d-4499b8d3d204",
   "metadata": {},
   "source": [
    "feature.createOrReplaceGlobalTempView('feature')\n",
    "sim.sim_matrix.createOrReplaceGlobalTempView('sim_matrix')"
   ]
  },
  {
   "cell_type": "code",
   "execution_count": 95,
   "id": "61882310-b18e-4148-9b68-62289c5e12be",
   "metadata": {},
   "outputs": [
    {
     "data": {
      "text/plain": [
       "DataFrame[id_A: bigint, id_B: bigint, distance: double]"
      ]
     },
     "execution_count": 95,
     "metadata": {},
     "output_type": "execute_result"
    }
   ],
   "source": [
    "sim.sim_matrix"
   ]
  },
  {
   "cell_type": "code",
   "execution_count": 103,
   "id": "c5ab3e7e-085e-4957-aa60-c624cc688309",
   "metadata": {
    "jupyter": {
     "source_hidden": true
    }
   },
   "outputs": [],
   "source": [
    "from pyspark.sql import functions as F\n",
    "from pyspark.sql import DataFrame\n",
    "\n",
    "def calculate_modularity(\n",
    "    edges_df: DataFrame,\n",
    "    communities_df: DataFrame,\n",
    "    item_col: str = 'item',\n",
    "    itemA_col: str = 'itemA',\n",
    "    itemB_col: str = 'itemB',\n",
    "    distance_col: str = 'distance',\n",
    "    community_col: str = 'community',\n",
    "    distance_type: str = 'euclidean',\n",
    "    weight_transform: callable = None,\n",
    "    check_nodes: bool = True\n",
    ") -> float:\n",
    "    \"\"\"\n",
    "    Вычисляет модулярность графа с поддержкой разных типов расстояний\n",
    "    \n",
    "    Параметры:\n",
    "    edges_df: DataFrame с ребрами (itemA, itemB, distance)\n",
    "    communities_df: DataFrame с принадлежностью узлов к сообществам\n",
    "    item_col: Название колонки с узлами в communities_df\n",
    "    distance_type: 'euclidean' или 'cosine'\n",
    "    weight_transform: пользовательская функция преобразования расстояния в вес\n",
    "    check_nodes: Проверять наличие всех узлов в communities_df\n",
    "    \n",
    "    Возвращает:\n",
    "    Значение модулярности в диапазоне [-1, 1]\n",
    "    \"\"\"\n",
    "    \n",
    "    # Проверка наличия всех узлов в communities_df\n",
    "    if check_nodes:\n",
    "        nodes = (edges_df.select(itemA_col)\n",
    "                 .union(edges_df.select(itemB_col))\n",
    "                 .distinct()\n",
    "                 .withColumnRenamed(itemA_col, 'node'))\n",
    "        \n",
    "        missing = nodes.join(\n",
    "            communities_df.select(F.col(item_col).alias('node')),\n",
    "            'node',\n",
    "            'left_anti'\n",
    "        )\n",
    "        \n",
    "        if missing.count() > 0:\n",
    "            missing_list = missing.limit(10).toPandas()['node'].tolist()\n",
    "            raise ValueError(f\"Nodes missing in communities_df: {missing_list}\")\n",
    "\n",
    "    # Преобразование расстояния в вес\n",
    "    if weight_transform is None:\n",
    "        if distance_type == 'euclidean':\n",
    "            df_weights = edges_df.withColumn(\"weight\", 1 / (1 + F.greatest(F.col(distance_col), F.lit(0))))\n",
    "            #weight_transform = lambda d: 1 / (1 + F.greatest(d, 0))\n",
    "        elif distance_type == 'cosine':\n",
    "            df_weights = edges_df.withColumn(\"weight\", (1 - F.greatest(F.least(F.col(distance_col), F.lit(1)), -1)) / 2)\n",
    "            #weight_transform = lambda d: (1 - F.greatest(F.least(d, 1), -1)) / 2\n",
    "        else:\n",
    "            raise ValueError(f\"Unsupported distance type: {distance_type}\")\n",
    "\n",
    "    #df_weights = edges_df.withColumn(\"weight\", weight_transform(F.col(distance_col)))\n",
    "\n",
    "    # Проверка валидности весов\n",
    "    min_weight = df_weights.agg(F.min(\"weight\")).first()[0]\n",
    "    if min_weight < 0:\n",
    "        raise ValueError(\"Weights must be non-negative\")\n",
    "\n",
    "    # Создание симметричной матрицы и удаление дубликатов\n",
    "    reverse_df = (df_weights\n",
    "                  .select(\n",
    "                      F.col(itemB_col).alias(itemA_col),\n",
    "                      F.col(itemA_col).alias(itemB_col),\n",
    "                      \"weight\"\n",
    "                  ))\n",
    "    \n",
    "    sym_df = (df_weights.drop(distance_col).unionByName(reverse_df)\n",
    "              .dropDuplicates([itemA_col, itemB_col])\n",
    "              .cache())\n",
    "\n",
    "    # Расчет общего веса графа\n",
    "    total_weight = sym_df.agg(F.sum(\"weight\")).first()[0]\n",
    "    if total_weight == 0:\n",
    "        return 0.0  # Граф без связей\n",
    "    m = total_weight / 2.0\n",
    "\n",
    "    # Подготовка данных о сообществах\n",
    "    communities = communities_df.select(\n",
    "        F.col(item_col).alias('node'),\n",
    "        F.col(community_col)\n",
    "    ).cache()\n",
    "\n",
    "    # Присоединение информации о сообществах\n",
    "    joined = (sym_df\n",
    "              .join(\n",
    "                  communities.alias('a'),\n",
    "                  F.col(itemA_col) == F.col('a.node'),\n",
    "                  'inner'\n",
    "              )\n",
    "              .join(\n",
    "                  communities.alias('b'),\n",
    "                  F.col(itemB_col) == F.col('b.node'),\n",
    "                  'inner'\n",
    "              )\n",
    "              .select(\n",
    "                  F.col(itemA_col),\n",
    "                  F.col(itemB_col),\n",
    "                  'weight',\n",
    "                  F.col('a.' + community_col).alias('comA'),\n",
    "                  F.col('b.' + community_col).alias('comB')\n",
    "              ))\n",
    "\n",
    "    # Расчет компонентов модулярности\n",
    "    joined = joined.withColumn(\n",
    "        'delta', \n",
    "        F.when(F.col('comA') == F.col('comB'), 1).otherwise(0)\n",
    "    )\n",
    "\n",
    "    # Сумма A_ij * delta\n",
    "    sum_Aij_delta = joined.agg(F.sum(F.col('weight') * F.col('delta'))).first()[0] or 0.0\n",
    "\n",
    "    # Расчет степеней вершин\n",
    "    degrees = (sym_df\n",
    "               .groupBy(itemA_col)\n",
    "               .agg(F.sum('weight').alias('degree'))\n",
    "               .cache())\n",
    "\n",
    "    # Расчет суммы (k_i k_j / 2m) * delta\n",
    "    joined_degrees = (joined\n",
    "                      .join(\n",
    "                          degrees.alias('ki'),\n",
    "                          itemA_col\n",
    "                      )\n",
    "                      .join(\n",
    "                          degrees.alias('kj'),\n",
    "                          itemB_col\n",
    "                      )\n",
    "                      .select(\n",
    "                          'delta',\n",
    "                          F.col('ki.degree').alias('k_i'),\n",
    "                          F.col('kj.degree').alias('k_j')\n",
    "                      ))\n",
    "\n",
    "    sum_kikj = joined_degrees.agg(\n",
    "        F.sum(F.col('k_i') * F.col('k_j') * F.col('delta') / (2 * m))\n",
    "    ).first()[0] or 0.0\n",
    "\n",
    "    # Расчет модулярности\n",
    "    modularity = (sum_Aij_delta - sum_kikj) / total_weight\n",
    "\n",
    "    # Очистка кэша\n",
    "    sym_df.unpersist()\n",
    "    degrees.unpersist()\n",
    "    communities.unpersist()\n",
    "\n",
    "    return float(modularity)"
   ]
  },
  {
   "cell_type": "code",
   "execution_count": 104,
   "id": "44848591-b7db-4669-a6aa-d8c8dcfd164e",
   "metadata": {},
   "outputs": [
    {
     "data": {
      "text/plain": [
       "\u001b[0;31mSignature:\u001b[0m\n",
       "\u001b[0mcalculate_modularity\u001b[0m\u001b[0;34m(\u001b[0m\u001b[0;34m\u001b[0m\n",
       "\u001b[0;34m\u001b[0m    \u001b[0medges_df\u001b[0m\u001b[0;34m:\u001b[0m \u001b[0mpyspark\u001b[0m\u001b[0;34m.\u001b[0m\u001b[0msql\u001b[0m\u001b[0;34m.\u001b[0m\u001b[0mdataframe\u001b[0m\u001b[0;34m.\u001b[0m\u001b[0mDataFrame\u001b[0m\u001b[0;34m,\u001b[0m\u001b[0;34m\u001b[0m\n",
       "\u001b[0;34m\u001b[0m    \u001b[0mcommunities_df\u001b[0m\u001b[0;34m:\u001b[0m \u001b[0mpyspark\u001b[0m\u001b[0;34m.\u001b[0m\u001b[0msql\u001b[0m\u001b[0;34m.\u001b[0m\u001b[0mdataframe\u001b[0m\u001b[0;34m.\u001b[0m\u001b[0mDataFrame\u001b[0m\u001b[0;34m,\u001b[0m\u001b[0;34m\u001b[0m\n",
       "\u001b[0;34m\u001b[0m    \u001b[0mitem_col\u001b[0m\u001b[0;34m:\u001b[0m \u001b[0mstr\u001b[0m \u001b[0;34m=\u001b[0m \u001b[0;34m'item'\u001b[0m\u001b[0;34m,\u001b[0m\u001b[0;34m\u001b[0m\n",
       "\u001b[0;34m\u001b[0m    \u001b[0mitemA_col\u001b[0m\u001b[0;34m:\u001b[0m \u001b[0mstr\u001b[0m \u001b[0;34m=\u001b[0m \u001b[0;34m'itemA'\u001b[0m\u001b[0;34m,\u001b[0m\u001b[0;34m\u001b[0m\n",
       "\u001b[0;34m\u001b[0m    \u001b[0mitemB_col\u001b[0m\u001b[0;34m:\u001b[0m \u001b[0mstr\u001b[0m \u001b[0;34m=\u001b[0m \u001b[0;34m'itemB'\u001b[0m\u001b[0;34m,\u001b[0m\u001b[0;34m\u001b[0m\n",
       "\u001b[0;34m\u001b[0m    \u001b[0mdistance_col\u001b[0m\u001b[0;34m:\u001b[0m \u001b[0mstr\u001b[0m \u001b[0;34m=\u001b[0m \u001b[0;34m'distance'\u001b[0m\u001b[0;34m,\u001b[0m\u001b[0;34m\u001b[0m\n",
       "\u001b[0;34m\u001b[0m    \u001b[0mcommunity_col\u001b[0m\u001b[0;34m:\u001b[0m \u001b[0mstr\u001b[0m \u001b[0;34m=\u001b[0m \u001b[0;34m'community'\u001b[0m\u001b[0;34m,\u001b[0m\u001b[0;34m\u001b[0m\n",
       "\u001b[0;34m\u001b[0m    \u001b[0mdistance_type\u001b[0m\u001b[0;34m:\u001b[0m \u001b[0mstr\u001b[0m \u001b[0;34m=\u001b[0m \u001b[0;34m'euclidean'\u001b[0m\u001b[0;34m,\u001b[0m\u001b[0;34m\u001b[0m\n",
       "\u001b[0;34m\u001b[0m    \u001b[0mweight_transform\u001b[0m\u001b[0;34m:\u001b[0m \u001b[0;34m<\u001b[0m\u001b[0mbuilt\u001b[0m\u001b[0;34m-\u001b[0m\u001b[0;32min\u001b[0m \u001b[0mfunction\u001b[0m \u001b[0mcallable\u001b[0m\u001b[0;34m>\u001b[0m \u001b[0;34m=\u001b[0m \u001b[0;32mNone\u001b[0m\u001b[0;34m,\u001b[0m\u001b[0;34m\u001b[0m\n",
       "\u001b[0;34m\u001b[0m    \u001b[0mcheck_nodes\u001b[0m\u001b[0;34m:\u001b[0m \u001b[0mbool\u001b[0m \u001b[0;34m=\u001b[0m \u001b[0;32mTrue\u001b[0m\u001b[0;34m,\u001b[0m\u001b[0;34m\u001b[0m\n",
       "\u001b[0;34m\u001b[0m\u001b[0;34m)\u001b[0m \u001b[0;34m->\u001b[0m \u001b[0mfloat\u001b[0m\u001b[0;34m\u001b[0m\u001b[0;34m\u001b[0m\u001b[0m\n",
       "\u001b[0;31mDocstring:\u001b[0m\n",
       "Вычисляет модулярность графа с поддержкой разных типов расстояний\n",
       "\n",
       "Параметры:\n",
       "edges_df: DataFrame с ребрами (itemA, itemB, distance)\n",
       "communities_df: DataFrame с принадлежностью узлов к сообществам\n",
       "item_col: Название колонки с узлами в communities_df\n",
       "distance_type: 'euclidean' или 'cosine'\n",
       "weight_transform: пользовательская функция преобразования расстояния в вес\n",
       "check_nodes: Проверять наличие всех узлов в communities_df\n",
       "\n",
       "Возвращает:\n",
       "Значение модулярности в диапазоне [-1, 1]\n",
       "\u001b[0;31mFile:\u001b[0m      /tmp/ipykernel_42383/3661300588.py\n",
       "\u001b[0;31mType:\u001b[0m      function"
      ]
     },
     "metadata": {},
     "output_type": "display_data"
    }
   ],
   "source": [
    "calculate_modularity?"
   ]
  },
  {
   "cell_type": "code",
   "execution_count": 105,
   "id": "2eb88a87-f265-461a-8f19-8495f83709ff",
   "metadata": {
    "scrolled": true
   },
   "outputs": [
    {
     "name": "stderr",
     "output_type": "stream",
     "text": [
      "\n",
      "KeyboardInterrupt\n",
      "\n"
     ]
    }
   ],
   "source": [
    "mod = calculate_modularity(\n",
    "    edges_df = sim.sim_matrix,\n",
    "    item_col='id',\n",
    "    itemA_col = 'id_A', \n",
    "    itemB_col = 'id_B',\n",
    "    communities_df = communities_data,\n",
    "    distance_type='euclidean', \n",
    "    community_col='y')"
   ]
  },
  {
   "cell_type": "code",
   "execution_count": 106,
   "id": "69ead770-d002-48f7-964e-c8078f8e20c3",
   "metadata": {},
   "outputs": [
    {
     "ename": "NameError",
     "evalue": "name 'mod' is not defined",
     "output_type": "error",
     "traceback": [
      "\u001b[0;31m---------------------------------------------------------------------------\u001b[0m",
      "\u001b[0;31mNameError\u001b[0m                                 Traceback (most recent call last)",
      "Cell \u001b[0;32mIn[106], line 1\u001b[0m\n\u001b[0;32m----> 1\u001b[0m \u001b[43mmod\u001b[49m\n",
      "\u001b[0;31mNameError\u001b[0m: name 'mod' is not defined"
     ]
    }
   ],
   "source": [
    "mod"
   ]
  },
  {
   "cell_type": "code",
   "execution_count": null,
   "id": "8c62ce12-a6d7-46c0-9884-649d858b3746",
   "metadata": {},
   "outputs": [],
   "source": [
    "mod = calculate_modularity(\n",
    "    edges_df = sim.sim_matrix,\n",
    "    item_col='id',\n",
    "    itemA_col = 'id_A', \n",
    "    itemB_col = 'id_B',\n",
    "    communities_df = communities_data,\n",
    "    distance_type='cosine', \n",
    "    community_col='y')"
   ]
  },
  {
   "cell_type": "code",
   "execution_count": null,
   "id": "7638edd4-47da-4cf6-8ae7-503655f36096",
   "metadata": {},
   "outputs": [],
   "source": [
    "mod"
   ]
  },
  {
   "cell_type": "code",
   "execution_count": null,
   "id": "f750ee11-19c0-4275-ac6e-36834642a1d7",
   "metadata": {},
   "outputs": [],
   "source": []
  },
  {
   "cell_type": "code",
   "execution_count": null,
   "id": "f0b4e58a-8c74-4db9-8049-1e666f0644e0",
   "metadata": {},
   "outputs": [],
   "source": []
  },
  {
   "cell_type": "code",
   "execution_count": 57,
   "id": "61213088-e822-48a1-b83c-4ad55d16d9b1",
   "metadata": {},
   "outputs": [],
   "source": [
    "# Шаг 1: Связываем матрицу с информацией о сообществах\n",
    "joined_df = sim.sim_matrix.join(\n",
    "    communities_data, \n",
    "    sim.sim_matrix.id_A == communities_data.id, \n",
    "    'left'\n",
    ").select(\n",
    "    sim.sim_matrix['*'], \n",
    "    communities_data['y'].alias('communityA')\n",
    ").join(\n",
    "    communities_data, \n",
    "    sim.sim_matrix.id_B == communities_data.id, \n",
    "    'left'\n",
    ").select(\n",
    "    'id_A', \n",
    "    'id_B', \n",
    "    'distance', \n",
    "    'communityA', \n",
    "    F.col('y').alias('communityB')\n",
    ")"
   ]
  },
  {
   "cell_type": "code",
   "execution_count": 58,
   "id": "21383221-cb43-4ca9-8116-f4af8d5ad464",
   "metadata": {},
   "outputs": [],
   "source": [
    "# Шаг 2: Сумма весов внутри сообществ\n",
    "intra_sum = joined_df.filter(\n",
    "    F.col('communityA') == F.col('communityB')\n",
    ").agg(\n",
    "    F.sum('distance').alias('intra_sum')\n",
    ").collect()[0]['intra_sum'] or 0.0"
   ]
  },
  {
   "cell_type": "code",
   "execution_count": 59,
   "id": "14735c6f-53b0-45b0-a2b6-c559b09d1cb8",
   "metadata": {},
   "outputs": [],
   "source": [
    "# Шаг 3: Общая сумма всех весов (m)\n",
    "m = sim.sim_matrix.agg(F.sum('distance')).collect()[0][0] / 2 or 0.0"
   ]
  },
  {
   "cell_type": "code",
   "execution_count": 60,
   "id": "07565ff3-1817-4b9c-a704-8e59b01b9f2c",
   "metadata": {},
   "outputs": [],
   "source": [
    "# Шаг 4: Рассчитываем степени узлов\n",
    "degrees = sim.sim_matrix.select(\n",
    "    F.col('id_A').alias('item'),\n",
    "    F.col('distance')\n",
    ").union(\n",
    "    sim.sim_matrix.select(\n",
    "        F.col('id_B').alias('item'),\n",
    "        F.col('distance')\n",
    "    )\n",
    ").groupBy(F.col('item').alias('id')).agg(\n",
    "    F.sum('distance').alias('degree')\n",
    ")"
   ]
  },
  {
   "cell_type": "code",
   "execution_count": 61,
   "id": "a2dde9a0-135d-408c-981c-45773ec68cf7",
   "metadata": {},
   "outputs": [],
   "source": [
    "# Шаг 5: Сумма квадратов степеней сообществ\n",
    "#community_degrees = communities_data.join(degrees, 'id', 'left')\n",
    "sum_sq_degrees = communities_data.join(degrees, 'id', 'left').groupBy('y').agg(\n",
    "    F.sum('degree').alias('total_degree')\n",
    ").agg(\n",
    "    F.sum(F.col('total_degree') ** 2)\n",
    ").collect()[0][0] or 0.0"
   ]
  },
  {
   "cell_type": "code",
   "execution_count": 62,
   "id": "dcb4681c-576a-44cd-9ce3-2ed4a5e21882",
   "metadata": {},
   "outputs": [
    {
     "name": "stdout",
     "output_type": "stream",
     "text": [
      "Modularity score: -0.0177\n"
     ]
    }
   ],
   "source": [
    "# Шаг 6: Вычисляем модулярность\n",
    "if m != 0:\n",
    "    modularity = (intra_sum - (sum_sq_degrees / (2 * m))) / (2 * m)\n",
    "else:\n",
    "    modularity = 0.0\n",
    "\n",
    "print(f\"Modularity score: {modularity:.4f}\")"
   ]
  },
  {
   "cell_type": "code",
   "execution_count": null,
   "id": "5ae2e1f8-b730-42ad-a713-5c5be0e96911",
   "metadata": {},
   "outputs": [],
   "source": []
  },
  {
   "cell_type": "code",
   "execution_count": null,
   "id": "474d63d1-906a-4390-a412-8e50c85cac14",
   "metadata": {},
   "outputs": [],
   "source": []
  },
  {
   "cell_type": "code",
   "execution_count": null,
   "id": "f78f99e9-0a4b-43a6-8107-0758172308b7",
   "metadata": {},
   "outputs": [],
   "source": [
    "# # Пример данных: матрица схожести (нижний треугольник)\n",
    "# similarities_data = [\n",
    "#     ('A', 'B', 1.0),\n",
    "#     ('A', 'C', 0.5),\n",
    "#     ('B', 'C', 0.7),\n",
    "#     ('B', 'D', 0.3),\n",
    "#     ('C', 'D', 0.6)\n",
    "# ]\n",
    "# similarities = spark.createDataFrame(\n",
    "#     similarities_data, \n",
    "#     ['itemA', 'itemB', 'distance']\n",
    "# )\n",
    "\n",
    "# # Пример данных с сообществами\n",
    "# communities_data = [\n",
    "#     ('A', 0),\n",
    "#     ('B', 0),\n",
    "#     ('C', 1),\n",
    "#     ('D', 1)\n",
    "# ]\n",
    "# communities = spark.createDataFrame(\n",
    "#     communities_data, \n",
    "#     ['item', 'community']\n",
    "# )\n",
    "\n",
    "# Шаг 1: Связываем матрицу с информацией о сообществах\n",
    "joined_df = similarities.join(\n",
    "    communities, \n",
    "    similarities.itemA == communities.item, \n",
    "    'left'\n",
    ").select(\n",
    "    similarities['*'], \n",
    "    communities['community'].alias('communityA')\n",
    ").join(\n",
    "    communities, \n",
    "    similarities.itemB == communities.item, \n",
    "    'left'\n",
    ").select(\n",
    "    'itemA', \n",
    "    'itemB', \n",
    "    'distance', \n",
    "    'communityA', \n",
    "    F.col('community').alias('communityB')\n",
    ")\n",
    "\n",
    "# Шаг 2: Сумма весов внутри сообществ\n",
    "intra_sum = joined_df.filter(\n",
    "    F.col('communityA') == F.col('communityB')\n",
    ").agg(\n",
    "    F.sum('distance').alias('intra_sum')\n",
    ").collect()[0]['intra_sum'] or 0.0\n",
    "\n",
    "# Шаг 3: Общая сумма всех весов (m)\n",
    "m = similarities.agg(F.sum('distance')).collect()[0][0] or 0.0\n",
    "\n",
    "# Шаг 4: Рассчитываем степени узлов\n",
    "degrees = similarities.select(\n",
    "    F.col('itemA').alias('item'),\n",
    "    F.col('distance')\n",
    ").union(\n",
    "    similarities.select(\n",
    "        F.col('itemB').alias('item'),\n",
    "        F.col('distance')\n",
    "    )\n",
    ").groupBy('item').agg(\n",
    "    F.sum('distance').alias('degree')\n",
    ")\n",
    "\n",
    "# Шаг 5: Сумма квадратов степеней сообществ\n",
    "community_degrees = communities.join(degrees, 'item', 'left')\n",
    "sum_sq_degrees = community_degrees.groupBy('community').agg(\n",
    "    F.sum('degree').alias('total_degree')\n",
    ").agg(\n",
    "    F.sum(F.col('total_degree') ** 2)\n",
    ").collect()[0][0] or 0.0\n",
    "\n",
    "# Шаг 6: Вычисляем модулярность\n",
    "if m != 0:\n",
    "    modularity = (intra_sum - (sum_sq_degrees / (2 * m))) / (2 * m)\n",
    "else:\n",
    "    modularity = 0.0\n",
    "\n",
    "print(f\"Modularity score: {modularity:.4f}\")\n",
    "\n",
    "# Результат: \n",
    "# Для приведенных данных Modularity score: 0.0303"
   ]
  },
  {
   "cell_type": "code",
   "execution_count": null,
   "id": "bf4133de-c9e3-410f-bbda-b627a71af813",
   "metadata": {},
   "outputs": [],
   "source": []
  },
  {
   "cell_type": "code",
   "execution_count": null,
   "id": "14d11c92-caf0-4380-934c-a7c6b2d44c15",
   "metadata": {},
   "outputs": [],
   "source": []
  },
  {
   "cell_type": "code",
   "execution_count": null,
   "id": "ed9adc5f-7992-4da6-87a7-fd50c709ad3f",
   "metadata": {},
   "outputs": [],
   "source": []
  },
  {
   "cell_type": "code",
   "execution_count": null,
   "id": "f3077a6c-0b7e-4c2a-916d-17d0ee10a545",
   "metadata": {},
   "outputs": [],
   "source": []
  },
  {
   "cell_type": "code",
   "execution_count": null,
   "id": "f8c5f371-f40e-4804-abdf-ada0923950ac",
   "metadata": {},
   "outputs": [],
   "source": []
  }
 ],
 "metadata": {
  "kernelspec": {
   "display_name": "Python 3 (ipykernel)",
   "language": "python",
   "name": "python3"
  },
  "language_info": {
   "codemirror_mode": {
    "name": "ipython",
    "version": 3
   },
   "file_extension": ".py",
   "mimetype": "text/x-python",
   "name": "python",
   "nbconvert_exporter": "python",
   "pygments_lexer": "ipython3",
   "version": "3.11.10"
  },
  "widgets": {
   "application/vnd.jupyter.widget-state+json": {
    "state": {},
    "version_major": 2,
    "version_minor": 0
   }
  }
 },
 "nbformat": 4,
 "nbformat_minor": 5
}
