{
 "cells": [
  {
   "cell_type": "code",
   "execution_count": 1,
   "id": "e697844d-0f72-4836-89a1-c90b064d4bbb",
   "metadata": {},
   "outputs": [],
   "source": [
    "import pyspark.sql.functions as F\n",
    "import pyspark.sql.types as T\n",
    "from pyspark.sql import DataFrame\n",
    "from pyspark.sql import Window\n",
    "\n",
    "from sklearn.neighbors import NearestNeighbors\n",
    "import pandas as pd\n",
    "import numpy as np"
   ]
  },
  {
   "cell_type": "code",
   "execution_count": 2,
   "id": "faaec040-a515-4dcb-9caf-ebe2ddede023",
   "metadata": {},
   "outputs": [],
   "source": [
    "from sklearn.datasets import make_moons, make_classification, make_regression"
   ]
  },
  {
   "cell_type": "code",
   "execution_count": 3,
   "id": "e8edcfcb-72e5-4bac-b9d6-c558fb84dcd3",
   "metadata": {},
   "outputs": [],
   "source": [
    "from sklearn.model_selection import train_test_split"
   ]
  },
  {
   "cell_type": "code",
   "execution_count": 4,
   "id": "704b6c29-d54e-45c8-8202-0e13cced6d2e",
   "metadata": {},
   "outputs": [],
   "source": [
    "from connector import spark_connector"
   ]
  },
  {
   "cell_type": "code",
   "execution_count": 5,
   "id": "bbb8b894-bbbb-4721-b7b7-9c1da7bf9f37",
   "metadata": {},
   "outputs": [],
   "source": [
    "con = spark_connector(exec_inst=10, exec_cores=10, memory_exec=25, marshal_mode=True)"
   ]
  },
  {
   "cell_type": "code",
   "execution_count": 6,
   "id": "c1e76cdd-5501-4b1d-a2eb-7cfe9a41758f",
   "metadata": {},
   "outputs": [
    {
     "data": {
      "text/html": [
       "\n",
       "            <div>\n",
       "                <p><b>SparkSession - hive</b></p>\n",
       "                \n",
       "        <div>\n",
       "            <p><b>SparkContext</b></p>\n",
       "\n",
       "            <p><a href=\"http://83e597714d90:4040\">Spark UI</a></p>\n",
       "\n",
       "            <dl>\n",
       "              <dt>Version</dt>\n",
       "                <dd><code>v3.5.3</code></dd>\n",
       "              <dt>Master</dt>\n",
       "                <dd><code>local[*]</code></dd>\n",
       "              <dt>AppName</dt>\n",
       "                <dd><code>utopialvo_2025-02-22_17:13:08.472664</code></dd>\n",
       "            </dl>\n",
       "        </div>\n",
       "        \n",
       "            </div>\n",
       "        "
      ],
      "text/plain": [
       "<pyspark.sql.session.SparkSession at 0x795d2f89ab50>"
      ]
     },
     "execution_count": 6,
     "metadata": {},
     "output_type": "execute_result"
    }
   ],
   "source": [
    "con.spark"
   ]
  },
  {
   "cell_type": "code",
   "execution_count": 10,
   "id": "c2ecf0aa-2790-482e-89ac-d7c4057b6a30",
   "metadata": {},
   "outputs": [],
   "source": [
    "X, y = make_classification(\n",
    "    n_samples=10000,\n",
    "    n_features=15,\n",
    "    n_informative=15,\n",
    "    n_redundant=0,\n",
    "    n_repeated=0,\n",
    "    n_classes=5,\n",
    "    n_clusters_per_class=2,\n",
    "    weights=None,\n",
    "    flip_y=0.04,\n",
    "    class_sep=1.0,\n",
    "    hypercube=True,\n",
    "    shift=0.0,\n",
    "    scale=1.0,\n",
    "    shuffle=True,\n",
    "    random_state=0,\n",
    ")"
   ]
  },
  {
   "cell_type": "code",
   "execution_count": 7,
   "id": "e2db25fc-a0a4-48b9-b90f-5d789cca9c58",
   "metadata": {},
   "outputs": [],
   "source": [
    "X, y =  make_regression(\n",
    "    n_samples=10000,\n",
    "    n_features=3,\n",
    "    n_informative=3,\n",
    "    n_targets=1,\n",
    "    bias=0.0,\n",
    "    effective_rank=None,\n",
    "    noise=0.05,\n",
    "    shuffle=True,\n",
    "    coef=False,\n",
    "    random_state=0,\n",
    ")"
   ]
  },
  {
   "cell_type": "code",
   "execution_count": 8,
   "id": "805f7b69-afee-4e84-9167-514bf182d6a2",
   "metadata": {},
   "outputs": [],
   "source": [
    "data = pd.DataFrame(X, columns=[f'x{i+1}' for i in range(X.shape[1])])\n",
    "data['y'] = y"
   ]
  },
  {
   "cell_type": "code",
   "execution_count": 9,
   "id": "e054d7b4-6fc1-473d-b73d-8f92c090f026",
   "metadata": {},
   "outputs": [
    {
     "data": {
      "text/plain": [
       "((9000, 4), (1000, 4))"
      ]
     },
     "execution_count": 9,
     "metadata": {},
     "output_type": "execute_result"
    }
   ],
   "source": [
    "train, test = train_test_split(data, random_state=6, test_size=0.1)\n",
    "train.shape, test.shape"
   ]
  },
  {
   "cell_type": "code",
   "execution_count": 10,
   "id": "ce977318-889e-4855-99f3-817e98503112",
   "metadata": {},
   "outputs": [],
   "source": [
    "from sklearn.metrics import classification_report, mean_absolute_percentage_error"
   ]
  },
  {
   "cell_type": "code",
   "execution_count": 11,
   "id": "0c64c5db-631d-4656-840b-d84b412ad97d",
   "metadata": {},
   "outputs": [],
   "source": [
    "from sklearn.neighbors import KNeighborsRegressor, KNeighborsClassifier"
   ]
  },
  {
   "cell_type": "code",
   "execution_count": 12,
   "id": "10ab7105-27f5-48f7-be7e-faf5592b540b",
   "metadata": {},
   "outputs": [],
   "source": [
    "nn = KNeighborsRegressor(n_neighbors=15,metric='euclidean', weights='distance', algorithm='brute', n_jobs=-1).fit(train.drop('y', axis=1), train['y'])\n",
    "#nn = KNeighborsClassifier(n_neighbors=15,metric='euclidean', weights='distance', algorithm='brute', n_jobs=-1).fit(train.drop('y', axis=1), train['y'])"
   ]
  },
  {
   "cell_type": "code",
   "execution_count": 13,
   "id": "3b9e8439-1f9c-40b0-a1d6-bd39723870ee",
   "metadata": {},
   "outputs": [
    {
     "data": {
      "text/plain": [
       "0.15269159404715185"
      ]
     },
     "execution_count": 13,
     "metadata": {},
     "output_type": "execute_result"
    }
   ],
   "source": [
    "mean_absolute_percentage_error(test[:].reset_index(names=['index_test']).sort_values(by='index_test')['y'].to_numpy(), nn.predict(test[:].reset_index(names=['index_test']).sort_values(by='index_test').drop(['y','index_test'], axis=1)))\n",
    "#print(classification_report(test[:].reset_index(names=['index_test']).sort_values(by='index_test')['y'].to_numpy(), nn.predict(test[:].reset_index(names=['index_test']).sort_values(by='index_test').drop(['y','index_test'], axis=1))))"
   ]
  },
  {
   "cell_type": "code",
   "execution_count": 14,
   "id": "40177f80-ed7b-4175-ada0-8c6cccb40416",
   "metadata": {},
   "outputs": [],
   "source": [
    "del nn"
   ]
  },
  {
   "cell_type": "code",
   "execution_count": null,
   "id": "5e7b3925-c810-4aa3-916b-25ed88d3f15e",
   "metadata": {},
   "outputs": [],
   "source": []
  },
  {
   "cell_type": "code",
   "execution_count": 15,
   "id": "641874f3-8f99-4f05-abc4-3a4660bd1a6a",
   "metadata": {},
   "outputs": [],
   "source": [
    "train = train.reset_index(names='index_train')\n",
    "test = test.reset_index(names='index_test')"
   ]
  },
  {
   "cell_type": "code",
   "execution_count": 16,
   "id": "25c692b8-2427-4c5b-aeba-7f4bf459bdf6",
   "metadata": {},
   "outputs": [],
   "source": [
    "train_df = con.spark.createDataFrame(train)\n",
    "test_df = con.spark.createDataFrame(test.drop(['y'], axis=1))"
   ]
  },
  {
   "cell_type": "code",
   "execution_count": null,
   "id": "4c8c09ca-2aa0-4333-b96f-4cdaafbdb53f",
   "metadata": {},
   "outputs": [],
   "source": []
  },
  {
   "cell_type": "code",
   "execution_count": 17,
   "id": "65fbeaa8-afdd-4491-9242-76ebca2e31c0",
   "metadata": {},
   "outputs": [],
   "source": [
    "from norm import Normalizer"
   ]
  },
  {
   "cell_type": "code",
   "execution_count": 19,
   "id": "88de2c5a-3a9a-4883-bef3-a22edfb632ab",
   "metadata": {},
   "outputs": [
    {
     "data": {
      "text/plain": [
       "<norm.Normalizer at 0x795d2f899990>"
      ]
     },
     "execution_count": 19,
     "metadata": {},
     "output_type": "execute_result"
    }
   ],
   "source": [
    "normalizer = Normalizer(\n",
    "    method='zscore',\n",
    "    columns=train_df.drop('index_train','y').columns\n",
    ")\n",
    "normalizer.fit(train_df)"
   ]
  },
  {
   "cell_type": "code",
   "execution_count": 20,
   "id": "abae198f-b6a8-4d07-8f49-b8ba8efcebb8",
   "metadata": {},
   "outputs": [
    {
     "name": "stdout",
     "output_type": "stream",
     "text": [
      "{'x1': {'method': 'zscore', 'params': (0.000835914876987771, 0.9950252125618987)}, 'x2': {'method': 'zscore', 'params': (-0.00959960069506814, 0.9940890678194557)}, 'x3': {'method': 'zscore', 'params': (0.001439387547684664, 0.9881289505938848)}}\n"
     ]
    }
   ],
   "source": [
    "print(normalizer.stats)"
   ]
  },
  {
   "cell_type": "code",
   "execution_count": 21,
   "id": "a6c55ca3-3eb5-4f01-aa58-acb3b8b6058f",
   "metadata": {},
   "outputs": [],
   "source": [
    "train_normalized = normalizer.transform(train_df)\n",
    "test_normalized = normalizer.transform(test_df)"
   ]
  },
  {
   "cell_type": "code",
   "execution_count": null,
   "id": "2366c891-e781-431f-bb32-e82607ed0bcf",
   "metadata": {},
   "outputs": [],
   "source": []
  },
  {
   "cell_type": "code",
   "execution_count": null,
   "id": "327a1dfd-d786-43b2-a32e-92f704e4e52b",
   "metadata": {},
   "outputs": [],
   "source": []
  },
  {
   "cell_type": "code",
   "execution_count": 22,
   "id": "8079e0b9-6425-4bef-9c04-d438dacde6ae",
   "metadata": {},
   "outputs": [],
   "source": [
    "from KNN import spark_knn"
   ]
  },
  {
   "cell_type": "code",
   "execution_count": 23,
   "id": "b2a4028f-f567-4c5a-b523-98094ca86b9f",
   "metadata": {},
   "outputs": [],
   "source": [
    "knn = spark_knn(spark = con.spark, train_df = train_normalized)"
   ]
  },
  {
   "cell_type": "code",
   "execution_count": 24,
   "id": "734c5f96-6d78-4efd-8d6c-4cf581eef22a",
   "metadata": {},
   "outputs": [
    {
     "data": {
      "text/plain": [
       "\u001b[0;31mSignature:\u001b[0m \u001b[0mknn\u001b[0m\u001b[0;34m.\u001b[0m\u001b[0mfit\u001b[0m\u001b[0;34m(\u001b[0m\u001b[0mwindow_size\u001b[0m\u001b[0;34m=\u001b[0m\u001b[0;32mNone\u001b[0m\u001b[0;34m,\u001b[0m \u001b[0midcol\u001b[0m\u001b[0;34m:\u001b[0m \u001b[0mstr\u001b[0m \u001b[0;34m=\u001b[0m \u001b[0;34m'index_train'\u001b[0m\u001b[0;34m)\u001b[0m \u001b[0;34m->\u001b[0m \u001b[0;32mNone\u001b[0m\u001b[0;34m\u001b[0m\u001b[0;34m\u001b[0m\u001b[0m\n",
       "\u001b[0;31mDocstring:\u001b[0m\n",
       "Метод для предобработки \"обучающего\" датасета.\n",
       "window_size - количество строк в партиции. Если не задано, подсчет происходит автоматически.\n",
       "normalize - метод нормализации данных. Есть minmax, zscore или None.\n",
       "Нормализуются все столбцы кроме _idcol, _type_y. Следует передавать только фичи.\n",
       "\u001b[0;31mFile:\u001b[0m      ~/work/Spark_conn/KNN.py\n",
       "\u001b[0;31mType:\u001b[0m      method"
      ]
     },
     "metadata": {},
     "output_type": "display_data"
    }
   ],
   "source": [
    "knn.fit?"
   ]
  },
  {
   "cell_type": "code",
   "execution_count": 25,
   "id": "26508546-5567-4533-b576-8d9e7cb6b5ea",
   "metadata": {},
   "outputs": [],
   "source": [
    "train2 = knn.fit(window_size=None, idcol = 'index_train')"
   ]
  },
  {
   "cell_type": "code",
   "execution_count": 26,
   "id": "dc25e758-8f64-457e-a7fa-e2209a824166",
   "metadata": {},
   "outputs": [
    {
     "data": {
      "text/plain": [
       "\u001b[0;31mSignature:\u001b[0m\n",
       "\u001b[0mknn\u001b[0m\u001b[0;34m.\u001b[0m\u001b[0mpredict\u001b[0m\u001b[0;34m(\u001b[0m\u001b[0;34m\u001b[0m\n",
       "\u001b[0;34m\u001b[0m    \u001b[0mpred_df\u001b[0m\u001b[0;34m:\u001b[0m \u001b[0mpyspark\u001b[0m\u001b[0;34m.\u001b[0m\u001b[0msql\u001b[0m\u001b[0;34m.\u001b[0m\u001b[0mdataframe\u001b[0m\u001b[0;34m.\u001b[0m\u001b[0mDataFrame\u001b[0m\u001b[0;34m,\u001b[0m\u001b[0;34m\u001b[0m\n",
       "\u001b[0;34m\u001b[0m    \u001b[0mpred_df_window_size\u001b[0m\u001b[0;34m:\u001b[0m \u001b[0mint\u001b[0m \u001b[0;34m=\u001b[0m \u001b[0;32mNone\u001b[0m\u001b[0;34m,\u001b[0m\u001b[0;34m\u001b[0m\n",
       "\u001b[0;34m\u001b[0m    \u001b[0midcol\u001b[0m\u001b[0;34m:\u001b[0m \u001b[0mstr\u001b[0m \u001b[0;34m=\u001b[0m \u001b[0;34m'index_test'\u001b[0m\u001b[0;34m,\u001b[0m\u001b[0;34m\u001b[0m\n",
       "\u001b[0;34m\u001b[0m    \u001b[0mn_neighbors\u001b[0m\u001b[0;34m:\u001b[0m \u001b[0mint\u001b[0m \u001b[0;34m=\u001b[0m \u001b[0;36m10\u001b[0m\u001b[0;34m,\u001b[0m\u001b[0;34m\u001b[0m\n",
       "\u001b[0;34m\u001b[0m    \u001b[0mmetric\u001b[0m\u001b[0;34m:\u001b[0m \u001b[0mstr\u001b[0m \u001b[0;34m=\u001b[0m \u001b[0;34m'euclidean'\u001b[0m\u001b[0;34m,\u001b[0m\u001b[0;34m\u001b[0m\n",
       "\u001b[0;34m\u001b[0m    \u001b[0mweighted\u001b[0m\u001b[0;34m:\u001b[0m \u001b[0mbool\u001b[0m \u001b[0;34m=\u001b[0m \u001b[0;32mTrue\u001b[0m\u001b[0;34m,\u001b[0m\u001b[0;34m\u001b[0m\n",
       "\u001b[0;34m\u001b[0m\u001b[0;34m)\u001b[0m \u001b[0;34m->\u001b[0m \u001b[0mpyspark\u001b[0m\u001b[0;34m.\u001b[0m\u001b[0msql\u001b[0m\u001b[0;34m.\u001b[0m\u001b[0mdataframe\u001b[0m\u001b[0;34m.\u001b[0m\u001b[0mDataFrame\u001b[0m\u001b[0;34m\u001b[0m\u001b[0;34m\u001b[0m\u001b[0m\n",
       "\u001b[0;31mDocstring:\u001b[0m\n",
       "Метод для предсказания по \"обучающему датасету\".\n",
       "pred_df - датасет идентичный train_df без столбца с зависимой переменной.\n",
       "pred_df_window_size - количество строк в партиции. Если не задано, подсчет происходит автоматически.\n",
       "n_neighbors - количество ближайших соседей.\n",
       "metric - метрика для дистанции [\"cosine\", 'euclidean','manhattan']\n",
       "weighted - использовать взвешенный KNN\n",
       "k_iter_union - Количество партиций для объединения. Следует регулировать при больших датасетах.\n",
       "\u001b[0;31mFile:\u001b[0m      ~/work/Spark_conn/KNN.py\n",
       "\u001b[0;31mType:\u001b[0m      method"
      ]
     },
     "metadata": {},
     "output_type": "display_data"
    }
   ],
   "source": [
    "knn.predict?"
   ]
  },
  {
   "cell_type": "code",
   "execution_count": null,
   "id": "ced1e88a-eb68-43d6-b839-e8837e6560c3",
   "metadata": {
    "scrolled": true
   },
   "outputs": [],
   "source": [
    "result = knn.predict(test_normalized, metric = 'euclidean', idcol = 'index_test', pred_df_window_size=None, n_neighbors=15)"
   ]
  },
  {
   "cell_type": "code",
   "execution_count": null,
   "id": "d7fb18db-ec67-4acf-b3c7-7536eecfefff",
   "metadata": {},
   "outputs": [],
   "source": []
  },
  {
   "cell_type": "code",
   "execution_count": 35,
   "id": "7a1f7f40-474f-44d1-ad0a-f10a3a1fd531",
   "metadata": {},
   "outputs": [],
   "source": [
    "pred_y = result.drop('metric').toPandas()"
   ]
  },
  {
   "cell_type": "code",
   "execution_count": 40,
   "id": "df61b800-5201-479a-ad0a-012dcc01f0a1",
   "metadata": {},
   "outputs": [
    {
     "name": "stdout",
     "output_type": "stream",
     "text": [
      "              precision    recall  f1-score   support\n",
      "\n",
      "           0       0.88      0.82      0.85       201\n",
      "           1       0.85      0.83      0.84       184\n",
      "           2       0.86      0.90      0.88       186\n",
      "           3       0.87      0.93      0.90       215\n",
      "           4       0.89      0.86      0.88       214\n",
      "\n",
      "    accuracy                           0.87      1000\n",
      "   macro avg       0.87      0.87      0.87      1000\n",
      "weighted avg       0.87      0.87      0.87      1000\n",
      "\n"
     ]
    }
   ],
   "source": [
    "print(classification_report(test.sort_values(by='index_test')['y'].to_numpy(), pred_y.sort_values(by='index_test')['y'].to_numpy()))"
   ]
  },
  {
   "cell_type": "code",
   "execution_count": 36,
   "id": "344acdae-6e36-488c-a755-3bd2674bacf0",
   "metadata": {},
   "outputs": [
    {
     "data": {
      "text/plain": [
       "0.1357402213993588"
      ]
     },
     "execution_count": 36,
     "metadata": {},
     "output_type": "execute_result"
    }
   ],
   "source": [
    "mean_absolute_percentage_error(test.sort_values(by='index_test')['y'].to_numpy(), pred_y.sort_values(by='index_test')['y'].to_numpy())"
   ]
  },
  {
   "cell_type": "code",
   "execution_count": null,
   "id": "9310ca71-f5cb-4a59-a9a3-7e84b5be0f88",
   "metadata": {},
   "outputs": [],
   "source": []
  },
  {
   "cell_type": "code",
   "execution_count": null,
   "id": "a0c80d8e-3c8d-456b-a9ef-78f1f4c7d7f7",
   "metadata": {},
   "outputs": [],
   "source": []
  },
  {
   "cell_type": "code",
   "execution_count": null,
   "id": "40d810ad-8017-4f99-89ac-f7695b32863e",
   "metadata": {},
   "outputs": [],
   "source": []
  },
  {
   "cell_type": "code",
   "execution_count": 37,
   "id": "13fb959e-0766-4144-9b5b-6238f7c9b568",
   "metadata": {},
   "outputs": [
    {
     "name": "stdout",
     "output_type": "stream",
     "text": [
      "time: 2025-02-22 17:23:55.330104\n",
      "del\n",
      "stop\n"
     ]
    }
   ],
   "source": [
    "#con.stop_spark()"
   ]
  },
  {
   "cell_type": "code",
   "execution_count": null,
   "id": "e6611423-cfd3-4b2b-92ea-37f1bc00eb90",
   "metadata": {},
   "outputs": [],
   "source": []
  }
 ],
 "metadata": {
  "kernelspec": {
   "display_name": "Python 3 (ipykernel)",
   "language": "python",
   "name": "python3"
  },
  "language_info": {
   "codemirror_mode": {
    "name": "ipython",
    "version": 3
   },
   "file_extension": ".py",
   "mimetype": "text/x-python",
   "name": "python",
   "nbconvert_exporter": "python",
   "pygments_lexer": "ipython3",
   "version": "3.11.10"
  },
  "widgets": {
   "application/vnd.jupyter.widget-state+json": {
    "state": {},
    "version_major": 2,
    "version_minor": 0
   }
  }
 },
 "nbformat": 4,
 "nbformat_minor": 5
}
